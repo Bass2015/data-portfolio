{
 "cells": [
  {
   "cell_type": "markdown",
   "metadata": {},
   "source": [
    "# Comparing classification algorithms on the same dataset\n",
    "\n",
    "In this notebook we're gonna compare different classification algorithms on a breast cancer dataset."
   ]
  },
  {
   "cell_type": "code",
   "execution_count": 1,
   "metadata": {},
   "outputs": [],
   "source": [
    "import pandas as pd\n",
    "import numpy as np\n",
    "import plotly.express as px\n"
   ]
  },
  {
   "cell_type": "code",
   "execution_count": 2,
   "metadata": {},
   "outputs": [],
   "source": [
    "df = pd.read_csv('./breast_cancer.csv')"
   ]
  },
  {
   "cell_type": "markdown",
   "metadata": {},
   "source": [
    "### Exploratory Data Analysis and preprocessing\n",
    "\n",
    "Let's see what kind of data do we have, and how statistics of the different values."
   ]
  },
  {
   "cell_type": "code",
   "execution_count": 3,
   "metadata": {},
   "outputs": [
    {
     "data": {
      "text/html": [
       "<div>\n",
       "<style scoped>\n",
       "    .dataframe tbody tr th:only-of-type {\n",
       "        vertical-align: middle;\n",
       "    }\n",
       "\n",
       "    .dataframe tbody tr th {\n",
       "        vertical-align: top;\n",
       "    }\n",
       "\n",
       "    .dataframe thead th {\n",
       "        text-align: right;\n",
       "    }\n",
       "</style>\n",
       "<table border=\"1\" class=\"dataframe\">\n",
       "  <thead>\n",
       "    <tr style=\"text-align: right;\">\n",
       "      <th></th>\n",
       "      <th>id</th>\n",
       "      <th>diagnosis</th>\n",
       "      <th>radius_mean</th>\n",
       "      <th>texture_mean</th>\n",
       "      <th>perimeter_mean</th>\n",
       "      <th>area_mean</th>\n",
       "      <th>smoothness_mean</th>\n",
       "      <th>compactness_mean</th>\n",
       "      <th>concavity_mean</th>\n",
       "      <th>concave points_mean</th>\n",
       "      <th>...</th>\n",
       "      <th>texture_worst</th>\n",
       "      <th>perimeter_worst</th>\n",
       "      <th>area_worst</th>\n",
       "      <th>smoothness_worst</th>\n",
       "      <th>compactness_worst</th>\n",
       "      <th>concavity_worst</th>\n",
       "      <th>concave points_worst</th>\n",
       "      <th>symmetry_worst</th>\n",
       "      <th>fractal_dimension_worst</th>\n",
       "      <th>Unnamed: 32</th>\n",
       "    </tr>\n",
       "  </thead>\n",
       "  <tbody>\n",
       "    <tr>\n",
       "      <th>0</th>\n",
       "      <td>842302</td>\n",
       "      <td>M</td>\n",
       "      <td>17.99</td>\n",
       "      <td>10.38</td>\n",
       "      <td>122.80</td>\n",
       "      <td>1001.0</td>\n",
       "      <td>0.11840</td>\n",
       "      <td>0.27760</td>\n",
       "      <td>0.3001</td>\n",
       "      <td>0.14710</td>\n",
       "      <td>...</td>\n",
       "      <td>17.33</td>\n",
       "      <td>184.60</td>\n",
       "      <td>2019.0</td>\n",
       "      <td>0.1622</td>\n",
       "      <td>0.6656</td>\n",
       "      <td>0.7119</td>\n",
       "      <td>0.2654</td>\n",
       "      <td>0.4601</td>\n",
       "      <td>0.11890</td>\n",
       "      <td>NaN</td>\n",
       "    </tr>\n",
       "    <tr>\n",
       "      <th>1</th>\n",
       "      <td>842517</td>\n",
       "      <td>M</td>\n",
       "      <td>20.57</td>\n",
       "      <td>17.77</td>\n",
       "      <td>132.90</td>\n",
       "      <td>1326.0</td>\n",
       "      <td>0.08474</td>\n",
       "      <td>0.07864</td>\n",
       "      <td>0.0869</td>\n",
       "      <td>0.07017</td>\n",
       "      <td>...</td>\n",
       "      <td>23.41</td>\n",
       "      <td>158.80</td>\n",
       "      <td>1956.0</td>\n",
       "      <td>0.1238</td>\n",
       "      <td>0.1866</td>\n",
       "      <td>0.2416</td>\n",
       "      <td>0.1860</td>\n",
       "      <td>0.2750</td>\n",
       "      <td>0.08902</td>\n",
       "      <td>NaN</td>\n",
       "    </tr>\n",
       "    <tr>\n",
       "      <th>2</th>\n",
       "      <td>84300903</td>\n",
       "      <td>M</td>\n",
       "      <td>19.69</td>\n",
       "      <td>21.25</td>\n",
       "      <td>130.00</td>\n",
       "      <td>1203.0</td>\n",
       "      <td>0.10960</td>\n",
       "      <td>0.15990</td>\n",
       "      <td>0.1974</td>\n",
       "      <td>0.12790</td>\n",
       "      <td>...</td>\n",
       "      <td>25.53</td>\n",
       "      <td>152.50</td>\n",
       "      <td>1709.0</td>\n",
       "      <td>0.1444</td>\n",
       "      <td>0.4245</td>\n",
       "      <td>0.4504</td>\n",
       "      <td>0.2430</td>\n",
       "      <td>0.3613</td>\n",
       "      <td>0.08758</td>\n",
       "      <td>NaN</td>\n",
       "    </tr>\n",
       "    <tr>\n",
       "      <th>3</th>\n",
       "      <td>84348301</td>\n",
       "      <td>M</td>\n",
       "      <td>11.42</td>\n",
       "      <td>20.38</td>\n",
       "      <td>77.58</td>\n",
       "      <td>386.1</td>\n",
       "      <td>0.14250</td>\n",
       "      <td>0.28390</td>\n",
       "      <td>0.2414</td>\n",
       "      <td>0.10520</td>\n",
       "      <td>...</td>\n",
       "      <td>26.50</td>\n",
       "      <td>98.87</td>\n",
       "      <td>567.7</td>\n",
       "      <td>0.2098</td>\n",
       "      <td>0.8663</td>\n",
       "      <td>0.6869</td>\n",
       "      <td>0.2575</td>\n",
       "      <td>0.6638</td>\n",
       "      <td>0.17300</td>\n",
       "      <td>NaN</td>\n",
       "    </tr>\n",
       "    <tr>\n",
       "      <th>4</th>\n",
       "      <td>84358402</td>\n",
       "      <td>M</td>\n",
       "      <td>20.29</td>\n",
       "      <td>14.34</td>\n",
       "      <td>135.10</td>\n",
       "      <td>1297.0</td>\n",
       "      <td>0.10030</td>\n",
       "      <td>0.13280</td>\n",
       "      <td>0.1980</td>\n",
       "      <td>0.10430</td>\n",
       "      <td>...</td>\n",
       "      <td>16.67</td>\n",
       "      <td>152.20</td>\n",
       "      <td>1575.0</td>\n",
       "      <td>0.1374</td>\n",
       "      <td>0.2050</td>\n",
       "      <td>0.4000</td>\n",
       "      <td>0.1625</td>\n",
       "      <td>0.2364</td>\n",
       "      <td>0.07678</td>\n",
       "      <td>NaN</td>\n",
       "    </tr>\n",
       "  </tbody>\n",
       "</table>\n",
       "<p>5 rows × 33 columns</p>\n",
       "</div>"
      ],
      "text/plain": [
       "         id diagnosis  radius_mean  texture_mean  perimeter_mean  area_mean  \\\n",
       "0    842302         M        17.99         10.38          122.80     1001.0   \n",
       "1    842517         M        20.57         17.77          132.90     1326.0   \n",
       "2  84300903         M        19.69         21.25          130.00     1203.0   \n",
       "3  84348301         M        11.42         20.38           77.58      386.1   \n",
       "4  84358402         M        20.29         14.34          135.10     1297.0   \n",
       "\n",
       "   smoothness_mean  compactness_mean  concavity_mean  concave points_mean  \\\n",
       "0          0.11840           0.27760          0.3001              0.14710   \n",
       "1          0.08474           0.07864          0.0869              0.07017   \n",
       "2          0.10960           0.15990          0.1974              0.12790   \n",
       "3          0.14250           0.28390          0.2414              0.10520   \n",
       "4          0.10030           0.13280          0.1980              0.10430   \n",
       "\n",
       "   ...  texture_worst  perimeter_worst  area_worst  smoothness_worst  \\\n",
       "0  ...          17.33           184.60      2019.0            0.1622   \n",
       "1  ...          23.41           158.80      1956.0            0.1238   \n",
       "2  ...          25.53           152.50      1709.0            0.1444   \n",
       "3  ...          26.50            98.87       567.7            0.2098   \n",
       "4  ...          16.67           152.20      1575.0            0.1374   \n",
       "\n",
       "   compactness_worst  concavity_worst  concave points_worst  symmetry_worst  \\\n",
       "0             0.6656           0.7119                0.2654          0.4601   \n",
       "1             0.1866           0.2416                0.1860          0.2750   \n",
       "2             0.4245           0.4504                0.2430          0.3613   \n",
       "3             0.8663           0.6869                0.2575          0.6638   \n",
       "4             0.2050           0.4000                0.1625          0.2364   \n",
       "\n",
       "   fractal_dimension_worst  Unnamed: 32  \n",
       "0                  0.11890          NaN  \n",
       "1                  0.08902          NaN  \n",
       "2                  0.08758          NaN  \n",
       "3                  0.17300          NaN  \n",
       "4                  0.07678          NaN  \n",
       "\n",
       "[5 rows x 33 columns]"
      ]
     },
     "execution_count": 3,
     "metadata": {},
     "output_type": "execute_result"
    }
   ],
   "source": [
    "df = pd.read_csv('./breast_cancer.csv')\n",
    "df.head()"
   ]
  },
  {
   "cell_type": "code",
   "execution_count": 4,
   "metadata": {},
   "outputs": [
    {
     "data": {
      "text/html": [
       "<div>\n",
       "<style scoped>\n",
       "    .dataframe tbody tr th:only-of-type {\n",
       "        vertical-align: middle;\n",
       "    }\n",
       "\n",
       "    .dataframe tbody tr th {\n",
       "        vertical-align: top;\n",
       "    }\n",
       "\n",
       "    .dataframe thead th {\n",
       "        text-align: right;\n",
       "    }\n",
       "</style>\n",
       "<table border=\"1\" class=\"dataframe\">\n",
       "  <thead>\n",
       "    <tr style=\"text-align: right;\">\n",
       "      <th></th>\n",
       "      <th>id</th>\n",
       "      <th>radius_mean</th>\n",
       "      <th>texture_mean</th>\n",
       "      <th>perimeter_mean</th>\n",
       "      <th>area_mean</th>\n",
       "      <th>smoothness_mean</th>\n",
       "      <th>compactness_mean</th>\n",
       "      <th>concavity_mean</th>\n",
       "      <th>concave points_mean</th>\n",
       "      <th>symmetry_mean</th>\n",
       "      <th>...</th>\n",
       "      <th>texture_worst</th>\n",
       "      <th>perimeter_worst</th>\n",
       "      <th>area_worst</th>\n",
       "      <th>smoothness_worst</th>\n",
       "      <th>compactness_worst</th>\n",
       "      <th>concavity_worst</th>\n",
       "      <th>concave points_worst</th>\n",
       "      <th>symmetry_worst</th>\n",
       "      <th>fractal_dimension_worst</th>\n",
       "      <th>Unnamed: 32</th>\n",
       "    </tr>\n",
       "  </thead>\n",
       "  <tbody>\n",
       "    <tr>\n",
       "      <th>count</th>\n",
       "      <td>5.690000e+02</td>\n",
       "      <td>569.000000</td>\n",
       "      <td>569.000000</td>\n",
       "      <td>569.000000</td>\n",
       "      <td>569.000000</td>\n",
       "      <td>569.000000</td>\n",
       "      <td>569.000000</td>\n",
       "      <td>569.000000</td>\n",
       "      <td>569.000000</td>\n",
       "      <td>569.000000</td>\n",
       "      <td>...</td>\n",
       "      <td>569.000000</td>\n",
       "      <td>569.000000</td>\n",
       "      <td>569.000000</td>\n",
       "      <td>569.000000</td>\n",
       "      <td>569.000000</td>\n",
       "      <td>569.000000</td>\n",
       "      <td>569.000000</td>\n",
       "      <td>569.000000</td>\n",
       "      <td>569.000000</td>\n",
       "      <td>0.0</td>\n",
       "    </tr>\n",
       "    <tr>\n",
       "      <th>mean</th>\n",
       "      <td>3.037183e+07</td>\n",
       "      <td>14.127292</td>\n",
       "      <td>19.289649</td>\n",
       "      <td>91.969033</td>\n",
       "      <td>654.889104</td>\n",
       "      <td>0.096360</td>\n",
       "      <td>0.104341</td>\n",
       "      <td>0.088799</td>\n",
       "      <td>0.048919</td>\n",
       "      <td>0.181162</td>\n",
       "      <td>...</td>\n",
       "      <td>25.677223</td>\n",
       "      <td>107.261213</td>\n",
       "      <td>880.583128</td>\n",
       "      <td>0.132369</td>\n",
       "      <td>0.254265</td>\n",
       "      <td>0.272188</td>\n",
       "      <td>0.114606</td>\n",
       "      <td>0.290076</td>\n",
       "      <td>0.083946</td>\n",
       "      <td>NaN</td>\n",
       "    </tr>\n",
       "    <tr>\n",
       "      <th>std</th>\n",
       "      <td>1.250206e+08</td>\n",
       "      <td>3.524049</td>\n",
       "      <td>4.301036</td>\n",
       "      <td>24.298981</td>\n",
       "      <td>351.914129</td>\n",
       "      <td>0.014064</td>\n",
       "      <td>0.052813</td>\n",
       "      <td>0.079720</td>\n",
       "      <td>0.038803</td>\n",
       "      <td>0.027414</td>\n",
       "      <td>...</td>\n",
       "      <td>6.146258</td>\n",
       "      <td>33.602542</td>\n",
       "      <td>569.356993</td>\n",
       "      <td>0.022832</td>\n",
       "      <td>0.157336</td>\n",
       "      <td>0.208624</td>\n",
       "      <td>0.065732</td>\n",
       "      <td>0.061867</td>\n",
       "      <td>0.018061</td>\n",
       "      <td>NaN</td>\n",
       "    </tr>\n",
       "    <tr>\n",
       "      <th>min</th>\n",
       "      <td>8.670000e+03</td>\n",
       "      <td>6.981000</td>\n",
       "      <td>9.710000</td>\n",
       "      <td>43.790000</td>\n",
       "      <td>143.500000</td>\n",
       "      <td>0.052630</td>\n",
       "      <td>0.019380</td>\n",
       "      <td>0.000000</td>\n",
       "      <td>0.000000</td>\n",
       "      <td>0.106000</td>\n",
       "      <td>...</td>\n",
       "      <td>12.020000</td>\n",
       "      <td>50.410000</td>\n",
       "      <td>185.200000</td>\n",
       "      <td>0.071170</td>\n",
       "      <td>0.027290</td>\n",
       "      <td>0.000000</td>\n",
       "      <td>0.000000</td>\n",
       "      <td>0.156500</td>\n",
       "      <td>0.055040</td>\n",
       "      <td>NaN</td>\n",
       "    </tr>\n",
       "    <tr>\n",
       "      <th>25%</th>\n",
       "      <td>8.692180e+05</td>\n",
       "      <td>11.700000</td>\n",
       "      <td>16.170000</td>\n",
       "      <td>75.170000</td>\n",
       "      <td>420.300000</td>\n",
       "      <td>0.086370</td>\n",
       "      <td>0.064920</td>\n",
       "      <td>0.029560</td>\n",
       "      <td>0.020310</td>\n",
       "      <td>0.161900</td>\n",
       "      <td>...</td>\n",
       "      <td>21.080000</td>\n",
       "      <td>84.110000</td>\n",
       "      <td>515.300000</td>\n",
       "      <td>0.116600</td>\n",
       "      <td>0.147200</td>\n",
       "      <td>0.114500</td>\n",
       "      <td>0.064930</td>\n",
       "      <td>0.250400</td>\n",
       "      <td>0.071460</td>\n",
       "      <td>NaN</td>\n",
       "    </tr>\n",
       "    <tr>\n",
       "      <th>50%</th>\n",
       "      <td>9.060240e+05</td>\n",
       "      <td>13.370000</td>\n",
       "      <td>18.840000</td>\n",
       "      <td>86.240000</td>\n",
       "      <td>551.100000</td>\n",
       "      <td>0.095870</td>\n",
       "      <td>0.092630</td>\n",
       "      <td>0.061540</td>\n",
       "      <td>0.033500</td>\n",
       "      <td>0.179200</td>\n",
       "      <td>...</td>\n",
       "      <td>25.410000</td>\n",
       "      <td>97.660000</td>\n",
       "      <td>686.500000</td>\n",
       "      <td>0.131300</td>\n",
       "      <td>0.211900</td>\n",
       "      <td>0.226700</td>\n",
       "      <td>0.099930</td>\n",
       "      <td>0.282200</td>\n",
       "      <td>0.080040</td>\n",
       "      <td>NaN</td>\n",
       "    </tr>\n",
       "    <tr>\n",
       "      <th>75%</th>\n",
       "      <td>8.813129e+06</td>\n",
       "      <td>15.780000</td>\n",
       "      <td>21.800000</td>\n",
       "      <td>104.100000</td>\n",
       "      <td>782.700000</td>\n",
       "      <td>0.105300</td>\n",
       "      <td>0.130400</td>\n",
       "      <td>0.130700</td>\n",
       "      <td>0.074000</td>\n",
       "      <td>0.195700</td>\n",
       "      <td>...</td>\n",
       "      <td>29.720000</td>\n",
       "      <td>125.400000</td>\n",
       "      <td>1084.000000</td>\n",
       "      <td>0.146000</td>\n",
       "      <td>0.339100</td>\n",
       "      <td>0.382900</td>\n",
       "      <td>0.161400</td>\n",
       "      <td>0.317900</td>\n",
       "      <td>0.092080</td>\n",
       "      <td>NaN</td>\n",
       "    </tr>\n",
       "    <tr>\n",
       "      <th>max</th>\n",
       "      <td>9.113205e+08</td>\n",
       "      <td>28.110000</td>\n",
       "      <td>39.280000</td>\n",
       "      <td>188.500000</td>\n",
       "      <td>2501.000000</td>\n",
       "      <td>0.163400</td>\n",
       "      <td>0.345400</td>\n",
       "      <td>0.426800</td>\n",
       "      <td>0.201200</td>\n",
       "      <td>0.304000</td>\n",
       "      <td>...</td>\n",
       "      <td>49.540000</td>\n",
       "      <td>251.200000</td>\n",
       "      <td>4254.000000</td>\n",
       "      <td>0.222600</td>\n",
       "      <td>1.058000</td>\n",
       "      <td>1.252000</td>\n",
       "      <td>0.291000</td>\n",
       "      <td>0.663800</td>\n",
       "      <td>0.207500</td>\n",
       "      <td>NaN</td>\n",
       "    </tr>\n",
       "  </tbody>\n",
       "</table>\n",
       "<p>8 rows × 32 columns</p>\n",
       "</div>"
      ],
      "text/plain": [
       "                 id  radius_mean  texture_mean  perimeter_mean    area_mean  \\\n",
       "count  5.690000e+02   569.000000    569.000000      569.000000   569.000000   \n",
       "mean   3.037183e+07    14.127292     19.289649       91.969033   654.889104   \n",
       "std    1.250206e+08     3.524049      4.301036       24.298981   351.914129   \n",
       "min    8.670000e+03     6.981000      9.710000       43.790000   143.500000   \n",
       "25%    8.692180e+05    11.700000     16.170000       75.170000   420.300000   \n",
       "50%    9.060240e+05    13.370000     18.840000       86.240000   551.100000   \n",
       "75%    8.813129e+06    15.780000     21.800000      104.100000   782.700000   \n",
       "max    9.113205e+08    28.110000     39.280000      188.500000  2501.000000   \n",
       "\n",
       "       smoothness_mean  compactness_mean  concavity_mean  concave points_mean  \\\n",
       "count       569.000000        569.000000      569.000000           569.000000   \n",
       "mean          0.096360          0.104341        0.088799             0.048919   \n",
       "std           0.014064          0.052813        0.079720             0.038803   \n",
       "min           0.052630          0.019380        0.000000             0.000000   \n",
       "25%           0.086370          0.064920        0.029560             0.020310   \n",
       "50%           0.095870          0.092630        0.061540             0.033500   \n",
       "75%           0.105300          0.130400        0.130700             0.074000   \n",
       "max           0.163400          0.345400        0.426800             0.201200   \n",
       "\n",
       "       symmetry_mean  ...  texture_worst  perimeter_worst   area_worst  \\\n",
       "count     569.000000  ...     569.000000       569.000000   569.000000   \n",
       "mean        0.181162  ...      25.677223       107.261213   880.583128   \n",
       "std         0.027414  ...       6.146258        33.602542   569.356993   \n",
       "min         0.106000  ...      12.020000        50.410000   185.200000   \n",
       "25%         0.161900  ...      21.080000        84.110000   515.300000   \n",
       "50%         0.179200  ...      25.410000        97.660000   686.500000   \n",
       "75%         0.195700  ...      29.720000       125.400000  1084.000000   \n",
       "max         0.304000  ...      49.540000       251.200000  4254.000000   \n",
       "\n",
       "       smoothness_worst  compactness_worst  concavity_worst  \\\n",
       "count        569.000000         569.000000       569.000000   \n",
       "mean           0.132369           0.254265         0.272188   \n",
       "std            0.022832           0.157336         0.208624   \n",
       "min            0.071170           0.027290         0.000000   \n",
       "25%            0.116600           0.147200         0.114500   \n",
       "50%            0.131300           0.211900         0.226700   \n",
       "75%            0.146000           0.339100         0.382900   \n",
       "max            0.222600           1.058000         1.252000   \n",
       "\n",
       "       concave points_worst  symmetry_worst  fractal_dimension_worst  \\\n",
       "count            569.000000      569.000000               569.000000   \n",
       "mean               0.114606        0.290076                 0.083946   \n",
       "std                0.065732        0.061867                 0.018061   \n",
       "min                0.000000        0.156500                 0.055040   \n",
       "25%                0.064930        0.250400                 0.071460   \n",
       "50%                0.099930        0.282200                 0.080040   \n",
       "75%                0.161400        0.317900                 0.092080   \n",
       "max                0.291000        0.663800                 0.207500   \n",
       "\n",
       "       Unnamed: 32  \n",
       "count          0.0  \n",
       "mean           NaN  \n",
       "std            NaN  \n",
       "min            NaN  \n",
       "25%            NaN  \n",
       "50%            NaN  \n",
       "75%            NaN  \n",
       "max            NaN  \n",
       "\n",
       "[8 rows x 32 columns]"
      ]
     },
     "execution_count": 4,
     "metadata": {},
     "output_type": "execute_result"
    }
   ],
   "source": [
    "df.describe()"
   ]
  },
  {
   "cell_type": "markdown",
   "metadata": {},
   "source": [
    "The first thing we notice at first sight is that we have an extra column that seems completely full of NaNs. Let's check it and drop the column if it's the case. As we have 569 NaNs, and 569 rows, we can directly drop it. We don't need the `id` column either"
   ]
  },
  {
   "cell_type": "code",
   "execution_count": 5,
   "metadata": {},
   "outputs": [
    {
     "data": {
      "text/plain": [
       "569"
      ]
     },
     "execution_count": 5,
     "metadata": {},
     "output_type": "execute_result"
    }
   ],
   "source": [
    "df.iloc[:,32].isna().sum()"
   ]
  },
  {
   "cell_type": "code",
   "execution_count": 6,
   "metadata": {},
   "outputs": [
    {
     "data": {
      "text/html": [
       "<div>\n",
       "<style scoped>\n",
       "    .dataframe tbody tr th:only-of-type {\n",
       "        vertical-align: middle;\n",
       "    }\n",
       "\n",
       "    .dataframe tbody tr th {\n",
       "        vertical-align: top;\n",
       "    }\n",
       "\n",
       "    .dataframe thead th {\n",
       "        text-align: right;\n",
       "    }\n",
       "</style>\n",
       "<table border=\"1\" class=\"dataframe\">\n",
       "  <thead>\n",
       "    <tr style=\"text-align: right;\">\n",
       "      <th></th>\n",
       "      <th>diagnosis</th>\n",
       "      <th>radius_mean</th>\n",
       "      <th>texture_mean</th>\n",
       "      <th>perimeter_mean</th>\n",
       "      <th>area_mean</th>\n",
       "      <th>smoothness_mean</th>\n",
       "      <th>compactness_mean</th>\n",
       "      <th>concavity_mean</th>\n",
       "      <th>concave points_mean</th>\n",
       "      <th>symmetry_mean</th>\n",
       "      <th>...</th>\n",
       "      <th>radius_worst</th>\n",
       "      <th>texture_worst</th>\n",
       "      <th>perimeter_worst</th>\n",
       "      <th>area_worst</th>\n",
       "      <th>smoothness_worst</th>\n",
       "      <th>compactness_worst</th>\n",
       "      <th>concavity_worst</th>\n",
       "      <th>concave points_worst</th>\n",
       "      <th>symmetry_worst</th>\n",
       "      <th>fractal_dimension_worst</th>\n",
       "    </tr>\n",
       "  </thead>\n",
       "  <tbody>\n",
       "    <tr>\n",
       "      <th>0</th>\n",
       "      <td>M</td>\n",
       "      <td>17.99</td>\n",
       "      <td>10.38</td>\n",
       "      <td>122.80</td>\n",
       "      <td>1001.0</td>\n",
       "      <td>0.11840</td>\n",
       "      <td>0.27760</td>\n",
       "      <td>0.3001</td>\n",
       "      <td>0.14710</td>\n",
       "      <td>0.2419</td>\n",
       "      <td>...</td>\n",
       "      <td>25.38</td>\n",
       "      <td>17.33</td>\n",
       "      <td>184.60</td>\n",
       "      <td>2019.0</td>\n",
       "      <td>0.1622</td>\n",
       "      <td>0.6656</td>\n",
       "      <td>0.7119</td>\n",
       "      <td>0.2654</td>\n",
       "      <td>0.4601</td>\n",
       "      <td>0.11890</td>\n",
       "    </tr>\n",
       "    <tr>\n",
       "      <th>1</th>\n",
       "      <td>M</td>\n",
       "      <td>20.57</td>\n",
       "      <td>17.77</td>\n",
       "      <td>132.90</td>\n",
       "      <td>1326.0</td>\n",
       "      <td>0.08474</td>\n",
       "      <td>0.07864</td>\n",
       "      <td>0.0869</td>\n",
       "      <td>0.07017</td>\n",
       "      <td>0.1812</td>\n",
       "      <td>...</td>\n",
       "      <td>24.99</td>\n",
       "      <td>23.41</td>\n",
       "      <td>158.80</td>\n",
       "      <td>1956.0</td>\n",
       "      <td>0.1238</td>\n",
       "      <td>0.1866</td>\n",
       "      <td>0.2416</td>\n",
       "      <td>0.1860</td>\n",
       "      <td>0.2750</td>\n",
       "      <td>0.08902</td>\n",
       "    </tr>\n",
       "    <tr>\n",
       "      <th>2</th>\n",
       "      <td>M</td>\n",
       "      <td>19.69</td>\n",
       "      <td>21.25</td>\n",
       "      <td>130.00</td>\n",
       "      <td>1203.0</td>\n",
       "      <td>0.10960</td>\n",
       "      <td>0.15990</td>\n",
       "      <td>0.1974</td>\n",
       "      <td>0.12790</td>\n",
       "      <td>0.2069</td>\n",
       "      <td>...</td>\n",
       "      <td>23.57</td>\n",
       "      <td>25.53</td>\n",
       "      <td>152.50</td>\n",
       "      <td>1709.0</td>\n",
       "      <td>0.1444</td>\n",
       "      <td>0.4245</td>\n",
       "      <td>0.4504</td>\n",
       "      <td>0.2430</td>\n",
       "      <td>0.3613</td>\n",
       "      <td>0.08758</td>\n",
       "    </tr>\n",
       "    <tr>\n",
       "      <th>3</th>\n",
       "      <td>M</td>\n",
       "      <td>11.42</td>\n",
       "      <td>20.38</td>\n",
       "      <td>77.58</td>\n",
       "      <td>386.1</td>\n",
       "      <td>0.14250</td>\n",
       "      <td>0.28390</td>\n",
       "      <td>0.2414</td>\n",
       "      <td>0.10520</td>\n",
       "      <td>0.2597</td>\n",
       "      <td>...</td>\n",
       "      <td>14.91</td>\n",
       "      <td>26.50</td>\n",
       "      <td>98.87</td>\n",
       "      <td>567.7</td>\n",
       "      <td>0.2098</td>\n",
       "      <td>0.8663</td>\n",
       "      <td>0.6869</td>\n",
       "      <td>0.2575</td>\n",
       "      <td>0.6638</td>\n",
       "      <td>0.17300</td>\n",
       "    </tr>\n",
       "    <tr>\n",
       "      <th>4</th>\n",
       "      <td>M</td>\n",
       "      <td>20.29</td>\n",
       "      <td>14.34</td>\n",
       "      <td>135.10</td>\n",
       "      <td>1297.0</td>\n",
       "      <td>0.10030</td>\n",
       "      <td>0.13280</td>\n",
       "      <td>0.1980</td>\n",
       "      <td>0.10430</td>\n",
       "      <td>0.1809</td>\n",
       "      <td>...</td>\n",
       "      <td>22.54</td>\n",
       "      <td>16.67</td>\n",
       "      <td>152.20</td>\n",
       "      <td>1575.0</td>\n",
       "      <td>0.1374</td>\n",
       "      <td>0.2050</td>\n",
       "      <td>0.4000</td>\n",
       "      <td>0.1625</td>\n",
       "      <td>0.2364</td>\n",
       "      <td>0.07678</td>\n",
       "    </tr>\n",
       "  </tbody>\n",
       "</table>\n",
       "<p>5 rows × 31 columns</p>\n",
       "</div>"
      ],
      "text/plain": [
       "  diagnosis  radius_mean  texture_mean  perimeter_mean  area_mean  \\\n",
       "0         M        17.99         10.38          122.80     1001.0   \n",
       "1         M        20.57         17.77          132.90     1326.0   \n",
       "2         M        19.69         21.25          130.00     1203.0   \n",
       "3         M        11.42         20.38           77.58      386.1   \n",
       "4         M        20.29         14.34          135.10     1297.0   \n",
       "\n",
       "   smoothness_mean  compactness_mean  concavity_mean  concave points_mean  \\\n",
       "0          0.11840           0.27760          0.3001              0.14710   \n",
       "1          0.08474           0.07864          0.0869              0.07017   \n",
       "2          0.10960           0.15990          0.1974              0.12790   \n",
       "3          0.14250           0.28390          0.2414              0.10520   \n",
       "4          0.10030           0.13280          0.1980              0.10430   \n",
       "\n",
       "   symmetry_mean  ...  radius_worst  texture_worst  perimeter_worst  \\\n",
       "0         0.2419  ...         25.38          17.33           184.60   \n",
       "1         0.1812  ...         24.99          23.41           158.80   \n",
       "2         0.2069  ...         23.57          25.53           152.50   \n",
       "3         0.2597  ...         14.91          26.50            98.87   \n",
       "4         0.1809  ...         22.54          16.67           152.20   \n",
       "\n",
       "   area_worst  smoothness_worst  compactness_worst  concavity_worst  \\\n",
       "0      2019.0            0.1622             0.6656           0.7119   \n",
       "1      1956.0            0.1238             0.1866           0.2416   \n",
       "2      1709.0            0.1444             0.4245           0.4504   \n",
       "3       567.7            0.2098             0.8663           0.6869   \n",
       "4      1575.0            0.1374             0.2050           0.4000   \n",
       "\n",
       "   concave points_worst  symmetry_worst  fractal_dimension_worst  \n",
       "0                0.2654          0.4601                  0.11890  \n",
       "1                0.1860          0.2750                  0.08902  \n",
       "2                0.2430          0.3613                  0.08758  \n",
       "3                0.2575          0.6638                  0.17300  \n",
       "4                0.1625          0.2364                  0.07678  \n",
       "\n",
       "[5 rows x 31 columns]"
      ]
     },
     "execution_count": 6,
     "metadata": {},
     "output_type": "execute_result"
    }
   ],
   "source": [
    "df = df.drop(df.columns[[0,32]], axis=1)\n",
    "df.head()"
   ]
  },
  {
   "cell_type": "markdown",
   "metadata": {},
   "source": [
    "We have to also tranform the category labels in numerical values. As booleans work like that, let's remap 'B' to False (not having cancer) and 'M' to True"
   ]
  },
  {
   "cell_type": "code",
   "execution_count": 7,
   "metadata": {},
   "outputs": [
    {
     "data": {
      "text/plain": [
       "B    357\n",
       "M    212\n",
       "Name: diagnosis, dtype: int64"
      ]
     },
     "execution_count": 7,
     "metadata": {},
     "output_type": "execute_result"
    }
   ],
   "source": [
    "df['diagnosis'].value_counts()"
   ]
  },
  {
   "cell_type": "code",
   "execution_count": 8,
   "metadata": {},
   "outputs": [
    {
     "data": {
      "text/html": [
       "<div>\n",
       "<style scoped>\n",
       "    .dataframe tbody tr th:only-of-type {\n",
       "        vertical-align: middle;\n",
       "    }\n",
       "\n",
       "    .dataframe tbody tr th {\n",
       "        vertical-align: top;\n",
       "    }\n",
       "\n",
       "    .dataframe thead th {\n",
       "        text-align: right;\n",
       "    }\n",
       "</style>\n",
       "<table border=\"1\" class=\"dataframe\">\n",
       "  <thead>\n",
       "    <tr style=\"text-align: right;\">\n",
       "      <th></th>\n",
       "      <th>diagnosis</th>\n",
       "      <th>radius_mean</th>\n",
       "      <th>texture_mean</th>\n",
       "      <th>perimeter_mean</th>\n",
       "      <th>area_mean</th>\n",
       "      <th>smoothness_mean</th>\n",
       "      <th>compactness_mean</th>\n",
       "      <th>concavity_mean</th>\n",
       "      <th>concave points_mean</th>\n",
       "      <th>symmetry_mean</th>\n",
       "      <th>...</th>\n",
       "      <th>radius_worst</th>\n",
       "      <th>texture_worst</th>\n",
       "      <th>perimeter_worst</th>\n",
       "      <th>area_worst</th>\n",
       "      <th>smoothness_worst</th>\n",
       "      <th>compactness_worst</th>\n",
       "      <th>concavity_worst</th>\n",
       "      <th>concave points_worst</th>\n",
       "      <th>symmetry_worst</th>\n",
       "      <th>fractal_dimension_worst</th>\n",
       "    </tr>\n",
       "  </thead>\n",
       "  <tbody>\n",
       "    <tr>\n",
       "      <th>0</th>\n",
       "      <td>True</td>\n",
       "      <td>17.99</td>\n",
       "      <td>10.38</td>\n",
       "      <td>122.80</td>\n",
       "      <td>1001.0</td>\n",
       "      <td>0.11840</td>\n",
       "      <td>0.27760</td>\n",
       "      <td>0.3001</td>\n",
       "      <td>0.14710</td>\n",
       "      <td>0.2419</td>\n",
       "      <td>...</td>\n",
       "      <td>25.38</td>\n",
       "      <td>17.33</td>\n",
       "      <td>184.60</td>\n",
       "      <td>2019.0</td>\n",
       "      <td>0.1622</td>\n",
       "      <td>0.6656</td>\n",
       "      <td>0.7119</td>\n",
       "      <td>0.2654</td>\n",
       "      <td>0.4601</td>\n",
       "      <td>0.11890</td>\n",
       "    </tr>\n",
       "    <tr>\n",
       "      <th>1</th>\n",
       "      <td>True</td>\n",
       "      <td>20.57</td>\n",
       "      <td>17.77</td>\n",
       "      <td>132.90</td>\n",
       "      <td>1326.0</td>\n",
       "      <td>0.08474</td>\n",
       "      <td>0.07864</td>\n",
       "      <td>0.0869</td>\n",
       "      <td>0.07017</td>\n",
       "      <td>0.1812</td>\n",
       "      <td>...</td>\n",
       "      <td>24.99</td>\n",
       "      <td>23.41</td>\n",
       "      <td>158.80</td>\n",
       "      <td>1956.0</td>\n",
       "      <td>0.1238</td>\n",
       "      <td>0.1866</td>\n",
       "      <td>0.2416</td>\n",
       "      <td>0.1860</td>\n",
       "      <td>0.2750</td>\n",
       "      <td>0.08902</td>\n",
       "    </tr>\n",
       "    <tr>\n",
       "      <th>2</th>\n",
       "      <td>True</td>\n",
       "      <td>19.69</td>\n",
       "      <td>21.25</td>\n",
       "      <td>130.00</td>\n",
       "      <td>1203.0</td>\n",
       "      <td>0.10960</td>\n",
       "      <td>0.15990</td>\n",
       "      <td>0.1974</td>\n",
       "      <td>0.12790</td>\n",
       "      <td>0.2069</td>\n",
       "      <td>...</td>\n",
       "      <td>23.57</td>\n",
       "      <td>25.53</td>\n",
       "      <td>152.50</td>\n",
       "      <td>1709.0</td>\n",
       "      <td>0.1444</td>\n",
       "      <td>0.4245</td>\n",
       "      <td>0.4504</td>\n",
       "      <td>0.2430</td>\n",
       "      <td>0.3613</td>\n",
       "      <td>0.08758</td>\n",
       "    </tr>\n",
       "    <tr>\n",
       "      <th>3</th>\n",
       "      <td>True</td>\n",
       "      <td>11.42</td>\n",
       "      <td>20.38</td>\n",
       "      <td>77.58</td>\n",
       "      <td>386.1</td>\n",
       "      <td>0.14250</td>\n",
       "      <td>0.28390</td>\n",
       "      <td>0.2414</td>\n",
       "      <td>0.10520</td>\n",
       "      <td>0.2597</td>\n",
       "      <td>...</td>\n",
       "      <td>14.91</td>\n",
       "      <td>26.50</td>\n",
       "      <td>98.87</td>\n",
       "      <td>567.7</td>\n",
       "      <td>0.2098</td>\n",
       "      <td>0.8663</td>\n",
       "      <td>0.6869</td>\n",
       "      <td>0.2575</td>\n",
       "      <td>0.6638</td>\n",
       "      <td>0.17300</td>\n",
       "    </tr>\n",
       "    <tr>\n",
       "      <th>4</th>\n",
       "      <td>True</td>\n",
       "      <td>20.29</td>\n",
       "      <td>14.34</td>\n",
       "      <td>135.10</td>\n",
       "      <td>1297.0</td>\n",
       "      <td>0.10030</td>\n",
       "      <td>0.13280</td>\n",
       "      <td>0.1980</td>\n",
       "      <td>0.10430</td>\n",
       "      <td>0.1809</td>\n",
       "      <td>...</td>\n",
       "      <td>22.54</td>\n",
       "      <td>16.67</td>\n",
       "      <td>152.20</td>\n",
       "      <td>1575.0</td>\n",
       "      <td>0.1374</td>\n",
       "      <td>0.2050</td>\n",
       "      <td>0.4000</td>\n",
       "      <td>0.1625</td>\n",
       "      <td>0.2364</td>\n",
       "      <td>0.07678</td>\n",
       "    </tr>\n",
       "  </tbody>\n",
       "</table>\n",
       "<p>5 rows × 31 columns</p>\n",
       "</div>"
      ],
      "text/plain": [
       "   diagnosis  radius_mean  texture_mean  perimeter_mean  area_mean  \\\n",
       "0       True        17.99         10.38          122.80     1001.0   \n",
       "1       True        20.57         17.77          132.90     1326.0   \n",
       "2       True        19.69         21.25          130.00     1203.0   \n",
       "3       True        11.42         20.38           77.58      386.1   \n",
       "4       True        20.29         14.34          135.10     1297.0   \n",
       "\n",
       "   smoothness_mean  compactness_mean  concavity_mean  concave points_mean  \\\n",
       "0          0.11840           0.27760          0.3001              0.14710   \n",
       "1          0.08474           0.07864          0.0869              0.07017   \n",
       "2          0.10960           0.15990          0.1974              0.12790   \n",
       "3          0.14250           0.28390          0.2414              0.10520   \n",
       "4          0.10030           0.13280          0.1980              0.10430   \n",
       "\n",
       "   symmetry_mean  ...  radius_worst  texture_worst  perimeter_worst  \\\n",
       "0         0.2419  ...         25.38          17.33           184.60   \n",
       "1         0.1812  ...         24.99          23.41           158.80   \n",
       "2         0.2069  ...         23.57          25.53           152.50   \n",
       "3         0.2597  ...         14.91          26.50            98.87   \n",
       "4         0.1809  ...         22.54          16.67           152.20   \n",
       "\n",
       "   area_worst  smoothness_worst  compactness_worst  concavity_worst  \\\n",
       "0      2019.0            0.1622             0.6656           0.7119   \n",
       "1      1956.0            0.1238             0.1866           0.2416   \n",
       "2      1709.0            0.1444             0.4245           0.4504   \n",
       "3       567.7            0.2098             0.8663           0.6869   \n",
       "4      1575.0            0.1374             0.2050           0.4000   \n",
       "\n",
       "   concave points_worst  symmetry_worst  fractal_dimension_worst  \n",
       "0                0.2654          0.4601                  0.11890  \n",
       "1                0.1860          0.2750                  0.08902  \n",
       "2                0.2430          0.3613                  0.08758  \n",
       "3                0.2575          0.6638                  0.17300  \n",
       "4                0.1625          0.2364                  0.07678  \n",
       "\n",
       "[5 rows x 31 columns]"
      ]
     },
     "execution_count": 8,
     "metadata": {},
     "output_type": "execute_result"
    }
   ],
   "source": [
    "df['diagnosis'] = df['diagnosis'] == 'M'\n",
    "df.head()"
   ]
  },
  {
   "cell_type": "markdown",
   "metadata": {},
   "source": [
    "Just to ilustrate a bit the data, let's plot a matrix of how the variables are correlated, and also some basic plots."
   ]
  },
  {
   "cell_type": "code",
   "execution_count": 9,
   "metadata": {},
   "outputs": [
    {
     "data": {
      "text/html": [
       "<div>\n",
       "<style scoped>\n",
       "    .dataframe tbody tr th:only-of-type {\n",
       "        vertical-align: middle;\n",
       "    }\n",
       "\n",
       "    .dataframe tbody tr th {\n",
       "        vertical-align: top;\n",
       "    }\n",
       "\n",
       "    .dataframe thead th {\n",
       "        text-align: right;\n",
       "    }\n",
       "</style>\n",
       "<table border=\"1\" class=\"dataframe\">\n",
       "  <thead>\n",
       "    <tr style=\"text-align: right;\">\n",
       "      <th></th>\n",
       "      <th>diagnosis</th>\n",
       "      <th>radius_mean</th>\n",
       "      <th>texture_mean</th>\n",
       "      <th>perimeter_mean</th>\n",
       "      <th>area_mean</th>\n",
       "      <th>smoothness_mean</th>\n",
       "      <th>compactness_mean</th>\n",
       "      <th>concavity_mean</th>\n",
       "      <th>concave points_mean</th>\n",
       "      <th>symmetry_mean</th>\n",
       "      <th>...</th>\n",
       "      <th>radius_worst</th>\n",
       "      <th>texture_worst</th>\n",
       "      <th>perimeter_worst</th>\n",
       "      <th>area_worst</th>\n",
       "      <th>smoothness_worst</th>\n",
       "      <th>compactness_worst</th>\n",
       "      <th>concavity_worst</th>\n",
       "      <th>concave points_worst</th>\n",
       "      <th>symmetry_worst</th>\n",
       "      <th>fractal_dimension_worst</th>\n",
       "    </tr>\n",
       "  </thead>\n",
       "  <tbody>\n",
       "    <tr>\n",
       "      <th>diagnosis</th>\n",
       "      <td>1.000000</td>\n",
       "      <td>0.730029</td>\n",
       "      <td>0.415185</td>\n",
       "      <td>0.742636</td>\n",
       "      <td>0.708984</td>\n",
       "      <td>0.358560</td>\n",
       "      <td>0.596534</td>\n",
       "      <td>0.696360</td>\n",
       "      <td>0.776614</td>\n",
       "      <td>0.330499</td>\n",
       "      <td>...</td>\n",
       "      <td>0.776454</td>\n",
       "      <td>0.456903</td>\n",
       "      <td>0.782914</td>\n",
       "      <td>0.733825</td>\n",
       "      <td>0.421465</td>\n",
       "      <td>0.590998</td>\n",
       "      <td>0.659610</td>\n",
       "      <td>0.793566</td>\n",
       "      <td>0.416294</td>\n",
       "      <td>0.323872</td>\n",
       "    </tr>\n",
       "    <tr>\n",
       "      <th>radius_mean</th>\n",
       "      <td>0.730029</td>\n",
       "      <td>1.000000</td>\n",
       "      <td>0.323782</td>\n",
       "      <td>0.997855</td>\n",
       "      <td>0.987357</td>\n",
       "      <td>0.170581</td>\n",
       "      <td>0.506124</td>\n",
       "      <td>0.676764</td>\n",
       "      <td>0.822529</td>\n",
       "      <td>0.147741</td>\n",
       "      <td>...</td>\n",
       "      <td>0.969539</td>\n",
       "      <td>0.297008</td>\n",
       "      <td>0.965137</td>\n",
       "      <td>0.941082</td>\n",
       "      <td>0.119616</td>\n",
       "      <td>0.413463</td>\n",
       "      <td>0.526911</td>\n",
       "      <td>0.744214</td>\n",
       "      <td>0.163953</td>\n",
       "      <td>0.007066</td>\n",
       "    </tr>\n",
       "    <tr>\n",
       "      <th>texture_mean</th>\n",
       "      <td>0.415185</td>\n",
       "      <td>0.323782</td>\n",
       "      <td>1.000000</td>\n",
       "      <td>0.329533</td>\n",
       "      <td>0.321086</td>\n",
       "      <td>-0.023389</td>\n",
       "      <td>0.236702</td>\n",
       "      <td>0.302418</td>\n",
       "      <td>0.293464</td>\n",
       "      <td>0.071401</td>\n",
       "      <td>...</td>\n",
       "      <td>0.352573</td>\n",
       "      <td>0.912045</td>\n",
       "      <td>0.358040</td>\n",
       "      <td>0.343546</td>\n",
       "      <td>0.077503</td>\n",
       "      <td>0.277830</td>\n",
       "      <td>0.301025</td>\n",
       "      <td>0.295316</td>\n",
       "      <td>0.105008</td>\n",
       "      <td>0.119205</td>\n",
       "    </tr>\n",
       "    <tr>\n",
       "      <th>perimeter_mean</th>\n",
       "      <td>0.742636</td>\n",
       "      <td>0.997855</td>\n",
       "      <td>0.329533</td>\n",
       "      <td>1.000000</td>\n",
       "      <td>0.986507</td>\n",
       "      <td>0.207278</td>\n",
       "      <td>0.556936</td>\n",
       "      <td>0.716136</td>\n",
       "      <td>0.850977</td>\n",
       "      <td>0.183027</td>\n",
       "      <td>...</td>\n",
       "      <td>0.969476</td>\n",
       "      <td>0.303038</td>\n",
       "      <td>0.970387</td>\n",
       "      <td>0.941550</td>\n",
       "      <td>0.150549</td>\n",
       "      <td>0.455774</td>\n",
       "      <td>0.563879</td>\n",
       "      <td>0.771241</td>\n",
       "      <td>0.189115</td>\n",
       "      <td>0.051019</td>\n",
       "    </tr>\n",
       "    <tr>\n",
       "      <th>area_mean</th>\n",
       "      <td>0.708984</td>\n",
       "      <td>0.987357</td>\n",
       "      <td>0.321086</td>\n",
       "      <td>0.986507</td>\n",
       "      <td>1.000000</td>\n",
       "      <td>0.177028</td>\n",
       "      <td>0.498502</td>\n",
       "      <td>0.685983</td>\n",
       "      <td>0.823269</td>\n",
       "      <td>0.151293</td>\n",
       "      <td>...</td>\n",
       "      <td>0.962746</td>\n",
       "      <td>0.287489</td>\n",
       "      <td>0.959120</td>\n",
       "      <td>0.959213</td>\n",
       "      <td>0.123523</td>\n",
       "      <td>0.390410</td>\n",
       "      <td>0.512606</td>\n",
       "      <td>0.722017</td>\n",
       "      <td>0.143570</td>\n",
       "      <td>0.003738</td>\n",
       "    </tr>\n",
       "    <tr>\n",
       "      <th>smoothness_mean</th>\n",
       "      <td>0.358560</td>\n",
       "      <td>0.170581</td>\n",
       "      <td>-0.023389</td>\n",
       "      <td>0.207278</td>\n",
       "      <td>0.177028</td>\n",
       "      <td>1.000000</td>\n",
       "      <td>0.659123</td>\n",
       "      <td>0.521984</td>\n",
       "      <td>0.553695</td>\n",
       "      <td>0.557775</td>\n",
       "      <td>...</td>\n",
       "      <td>0.213120</td>\n",
       "      <td>0.036072</td>\n",
       "      <td>0.238853</td>\n",
       "      <td>0.206718</td>\n",
       "      <td>0.805324</td>\n",
       "      <td>0.472468</td>\n",
       "      <td>0.434926</td>\n",
       "      <td>0.503053</td>\n",
       "      <td>0.394309</td>\n",
       "      <td>0.499316</td>\n",
       "    </tr>\n",
       "    <tr>\n",
       "      <th>compactness_mean</th>\n",
       "      <td>0.596534</td>\n",
       "      <td>0.506124</td>\n",
       "      <td>0.236702</td>\n",
       "      <td>0.556936</td>\n",
       "      <td>0.498502</td>\n",
       "      <td>0.659123</td>\n",
       "      <td>1.000000</td>\n",
       "      <td>0.883121</td>\n",
       "      <td>0.831135</td>\n",
       "      <td>0.602641</td>\n",
       "      <td>...</td>\n",
       "      <td>0.535315</td>\n",
       "      <td>0.248133</td>\n",
       "      <td>0.590210</td>\n",
       "      <td>0.509604</td>\n",
       "      <td>0.565541</td>\n",
       "      <td>0.865809</td>\n",
       "      <td>0.816275</td>\n",
       "      <td>0.815573</td>\n",
       "      <td>0.510223</td>\n",
       "      <td>0.687382</td>\n",
       "    </tr>\n",
       "    <tr>\n",
       "      <th>concavity_mean</th>\n",
       "      <td>0.696360</td>\n",
       "      <td>0.676764</td>\n",
       "      <td>0.302418</td>\n",
       "      <td>0.716136</td>\n",
       "      <td>0.685983</td>\n",
       "      <td>0.521984</td>\n",
       "      <td>0.883121</td>\n",
       "      <td>1.000000</td>\n",
       "      <td>0.921391</td>\n",
       "      <td>0.500667</td>\n",
       "      <td>...</td>\n",
       "      <td>0.688236</td>\n",
       "      <td>0.299879</td>\n",
       "      <td>0.729565</td>\n",
       "      <td>0.675987</td>\n",
       "      <td>0.448822</td>\n",
       "      <td>0.754968</td>\n",
       "      <td>0.884103</td>\n",
       "      <td>0.861323</td>\n",
       "      <td>0.409464</td>\n",
       "      <td>0.514930</td>\n",
       "    </tr>\n",
       "    <tr>\n",
       "      <th>concave points_mean</th>\n",
       "      <td>0.776614</td>\n",
       "      <td>0.822529</td>\n",
       "      <td>0.293464</td>\n",
       "      <td>0.850977</td>\n",
       "      <td>0.823269</td>\n",
       "      <td>0.553695</td>\n",
       "      <td>0.831135</td>\n",
       "      <td>0.921391</td>\n",
       "      <td>1.000000</td>\n",
       "      <td>0.462497</td>\n",
       "      <td>...</td>\n",
       "      <td>0.830318</td>\n",
       "      <td>0.292752</td>\n",
       "      <td>0.855923</td>\n",
       "      <td>0.809630</td>\n",
       "      <td>0.452753</td>\n",
       "      <td>0.667454</td>\n",
       "      <td>0.752399</td>\n",
       "      <td>0.910155</td>\n",
       "      <td>0.375744</td>\n",
       "      <td>0.368661</td>\n",
       "    </tr>\n",
       "    <tr>\n",
       "      <th>symmetry_mean</th>\n",
       "      <td>0.330499</td>\n",
       "      <td>0.147741</td>\n",
       "      <td>0.071401</td>\n",
       "      <td>0.183027</td>\n",
       "      <td>0.151293</td>\n",
       "      <td>0.557775</td>\n",
       "      <td>0.602641</td>\n",
       "      <td>0.500667</td>\n",
       "      <td>0.462497</td>\n",
       "      <td>1.000000</td>\n",
       "      <td>...</td>\n",
       "      <td>0.185728</td>\n",
       "      <td>0.090651</td>\n",
       "      <td>0.219169</td>\n",
       "      <td>0.177193</td>\n",
       "      <td>0.426675</td>\n",
       "      <td>0.473200</td>\n",
       "      <td>0.433721</td>\n",
       "      <td>0.430297</td>\n",
       "      <td>0.699826</td>\n",
       "      <td>0.438413</td>\n",
       "    </tr>\n",
       "    <tr>\n",
       "      <th>fractal_dimension_mean</th>\n",
       "      <td>-0.012838</td>\n",
       "      <td>-0.311631</td>\n",
       "      <td>-0.076437</td>\n",
       "      <td>-0.261477</td>\n",
       "      <td>-0.283110</td>\n",
       "      <td>0.584792</td>\n",
       "      <td>0.565369</td>\n",
       "      <td>0.336783</td>\n",
       "      <td>0.166917</td>\n",
       "      <td>0.479921</td>\n",
       "      <td>...</td>\n",
       "      <td>-0.253691</td>\n",
       "      <td>-0.051269</td>\n",
       "      <td>-0.205151</td>\n",
       "      <td>-0.231854</td>\n",
       "      <td>0.504942</td>\n",
       "      <td>0.458798</td>\n",
       "      <td>0.346234</td>\n",
       "      <td>0.175325</td>\n",
       "      <td>0.334019</td>\n",
       "      <td>0.767297</td>\n",
       "    </tr>\n",
       "    <tr>\n",
       "      <th>radius_se</th>\n",
       "      <td>0.567134</td>\n",
       "      <td>0.679090</td>\n",
       "      <td>0.275869</td>\n",
       "      <td>0.691765</td>\n",
       "      <td>0.732562</td>\n",
       "      <td>0.301467</td>\n",
       "      <td>0.497473</td>\n",
       "      <td>0.631925</td>\n",
       "      <td>0.698050</td>\n",
       "      <td>0.303379</td>\n",
       "      <td>...</td>\n",
       "      <td>0.715065</td>\n",
       "      <td>0.194799</td>\n",
       "      <td>0.719684</td>\n",
       "      <td>0.751548</td>\n",
       "      <td>0.141919</td>\n",
       "      <td>0.287103</td>\n",
       "      <td>0.380585</td>\n",
       "      <td>0.531062</td>\n",
       "      <td>0.094543</td>\n",
       "      <td>0.049559</td>\n",
       "    </tr>\n",
       "    <tr>\n",
       "      <th>texture_se</th>\n",
       "      <td>-0.008303</td>\n",
       "      <td>-0.097317</td>\n",
       "      <td>0.386358</td>\n",
       "      <td>-0.086761</td>\n",
       "      <td>-0.066280</td>\n",
       "      <td>0.068406</td>\n",
       "      <td>0.046205</td>\n",
       "      <td>0.076218</td>\n",
       "      <td>0.021480</td>\n",
       "      <td>0.128053</td>\n",
       "      <td>...</td>\n",
       "      <td>-0.111690</td>\n",
       "      <td>0.409003</td>\n",
       "      <td>-0.102242</td>\n",
       "      <td>-0.083195</td>\n",
       "      <td>-0.073658</td>\n",
       "      <td>-0.092439</td>\n",
       "      <td>-0.068956</td>\n",
       "      <td>-0.119638</td>\n",
       "      <td>-0.128215</td>\n",
       "      <td>-0.045655</td>\n",
       "    </tr>\n",
       "    <tr>\n",
       "      <th>perimeter_se</th>\n",
       "      <td>0.556141</td>\n",
       "      <td>0.674172</td>\n",
       "      <td>0.281673</td>\n",
       "      <td>0.693135</td>\n",
       "      <td>0.726628</td>\n",
       "      <td>0.296092</td>\n",
       "      <td>0.548905</td>\n",
       "      <td>0.660391</td>\n",
       "      <td>0.710650</td>\n",
       "      <td>0.313893</td>\n",
       "      <td>...</td>\n",
       "      <td>0.697201</td>\n",
       "      <td>0.200371</td>\n",
       "      <td>0.721031</td>\n",
       "      <td>0.730713</td>\n",
       "      <td>0.130054</td>\n",
       "      <td>0.341919</td>\n",
       "      <td>0.418899</td>\n",
       "      <td>0.554897</td>\n",
       "      <td>0.109930</td>\n",
       "      <td>0.085433</td>\n",
       "    </tr>\n",
       "    <tr>\n",
       "      <th>area_se</th>\n",
       "      <td>0.548236</td>\n",
       "      <td>0.735864</td>\n",
       "      <td>0.259845</td>\n",
       "      <td>0.744983</td>\n",
       "      <td>0.800086</td>\n",
       "      <td>0.246552</td>\n",
       "      <td>0.455653</td>\n",
       "      <td>0.617427</td>\n",
       "      <td>0.690299</td>\n",
       "      <td>0.223970</td>\n",
       "      <td>...</td>\n",
       "      <td>0.757373</td>\n",
       "      <td>0.196497</td>\n",
       "      <td>0.761213</td>\n",
       "      <td>0.811408</td>\n",
       "      <td>0.125389</td>\n",
       "      <td>0.283257</td>\n",
       "      <td>0.385100</td>\n",
       "      <td>0.538166</td>\n",
       "      <td>0.074126</td>\n",
       "      <td>0.017539</td>\n",
       "    </tr>\n",
       "    <tr>\n",
       "      <th>smoothness_se</th>\n",
       "      <td>-0.067016</td>\n",
       "      <td>-0.222600</td>\n",
       "      <td>0.006614</td>\n",
       "      <td>-0.202694</td>\n",
       "      <td>-0.166777</td>\n",
       "      <td>0.332375</td>\n",
       "      <td>0.135299</td>\n",
       "      <td>0.098564</td>\n",
       "      <td>0.027653</td>\n",
       "      <td>0.187321</td>\n",
       "      <td>...</td>\n",
       "      <td>-0.230691</td>\n",
       "      <td>-0.074743</td>\n",
       "      <td>-0.217304</td>\n",
       "      <td>-0.182195</td>\n",
       "      <td>0.314457</td>\n",
       "      <td>-0.055558</td>\n",
       "      <td>-0.058298</td>\n",
       "      <td>-0.102007</td>\n",
       "      <td>-0.107342</td>\n",
       "      <td>0.101480</td>\n",
       "    </tr>\n",
       "    <tr>\n",
       "      <th>compactness_se</th>\n",
       "      <td>0.292999</td>\n",
       "      <td>0.206000</td>\n",
       "      <td>0.191975</td>\n",
       "      <td>0.250744</td>\n",
       "      <td>0.212583</td>\n",
       "      <td>0.318943</td>\n",
       "      <td>0.738722</td>\n",
       "      <td>0.670279</td>\n",
       "      <td>0.490424</td>\n",
       "      <td>0.421659</td>\n",
       "      <td>...</td>\n",
       "      <td>0.204607</td>\n",
       "      <td>0.143003</td>\n",
       "      <td>0.260516</td>\n",
       "      <td>0.199371</td>\n",
       "      <td>0.227394</td>\n",
       "      <td>0.678780</td>\n",
       "      <td>0.639147</td>\n",
       "      <td>0.483208</td>\n",
       "      <td>0.277878</td>\n",
       "      <td>0.590973</td>\n",
       "    </tr>\n",
       "    <tr>\n",
       "      <th>concavity_se</th>\n",
       "      <td>0.253730</td>\n",
       "      <td>0.194204</td>\n",
       "      <td>0.143293</td>\n",
       "      <td>0.228082</td>\n",
       "      <td>0.207660</td>\n",
       "      <td>0.248396</td>\n",
       "      <td>0.570517</td>\n",
       "      <td>0.691270</td>\n",
       "      <td>0.439167</td>\n",
       "      <td>0.342627</td>\n",
       "      <td>...</td>\n",
       "      <td>0.186904</td>\n",
       "      <td>0.100241</td>\n",
       "      <td>0.226680</td>\n",
       "      <td>0.188353</td>\n",
       "      <td>0.168481</td>\n",
       "      <td>0.484858</td>\n",
       "      <td>0.662564</td>\n",
       "      <td>0.440472</td>\n",
       "      <td>0.197788</td>\n",
       "      <td>0.439329</td>\n",
       "    </tr>\n",
       "    <tr>\n",
       "      <th>concave points_se</th>\n",
       "      <td>0.408042</td>\n",
       "      <td>0.376169</td>\n",
       "      <td>0.163851</td>\n",
       "      <td>0.407217</td>\n",
       "      <td>0.372320</td>\n",
       "      <td>0.380676</td>\n",
       "      <td>0.642262</td>\n",
       "      <td>0.683260</td>\n",
       "      <td>0.615634</td>\n",
       "      <td>0.393298</td>\n",
       "      <td>...</td>\n",
       "      <td>0.358127</td>\n",
       "      <td>0.086741</td>\n",
       "      <td>0.394999</td>\n",
       "      <td>0.342271</td>\n",
       "      <td>0.215351</td>\n",
       "      <td>0.452888</td>\n",
       "      <td>0.549592</td>\n",
       "      <td>0.602450</td>\n",
       "      <td>0.143116</td>\n",
       "      <td>0.310655</td>\n",
       "    </tr>\n",
       "    <tr>\n",
       "      <th>symmetry_se</th>\n",
       "      <td>-0.006522</td>\n",
       "      <td>-0.104321</td>\n",
       "      <td>0.009127</td>\n",
       "      <td>-0.081629</td>\n",
       "      <td>-0.072497</td>\n",
       "      <td>0.200774</td>\n",
       "      <td>0.229977</td>\n",
       "      <td>0.178009</td>\n",
       "      <td>0.095351</td>\n",
       "      <td>0.449137</td>\n",
       "      <td>...</td>\n",
       "      <td>-0.128121</td>\n",
       "      <td>-0.077473</td>\n",
       "      <td>-0.103753</td>\n",
       "      <td>-0.110343</td>\n",
       "      <td>-0.012662</td>\n",
       "      <td>0.060255</td>\n",
       "      <td>0.037119</td>\n",
       "      <td>-0.030413</td>\n",
       "      <td>0.389402</td>\n",
       "      <td>0.078079</td>\n",
       "    </tr>\n",
       "    <tr>\n",
       "      <th>fractal_dimension_se</th>\n",
       "      <td>0.077972</td>\n",
       "      <td>-0.042641</td>\n",
       "      <td>0.054458</td>\n",
       "      <td>-0.005523</td>\n",
       "      <td>-0.019887</td>\n",
       "      <td>0.283607</td>\n",
       "      <td>0.507318</td>\n",
       "      <td>0.449301</td>\n",
       "      <td>0.257584</td>\n",
       "      <td>0.331786</td>\n",
       "      <td>...</td>\n",
       "      <td>-0.037488</td>\n",
       "      <td>-0.003195</td>\n",
       "      <td>-0.001000</td>\n",
       "      <td>-0.022736</td>\n",
       "      <td>0.170568</td>\n",
       "      <td>0.390159</td>\n",
       "      <td>0.379975</td>\n",
       "      <td>0.215204</td>\n",
       "      <td>0.111094</td>\n",
       "      <td>0.591328</td>\n",
       "    </tr>\n",
       "    <tr>\n",
       "      <th>radius_worst</th>\n",
       "      <td>0.776454</td>\n",
       "      <td>0.969539</td>\n",
       "      <td>0.352573</td>\n",
       "      <td>0.969476</td>\n",
       "      <td>0.962746</td>\n",
       "      <td>0.213120</td>\n",
       "      <td>0.535315</td>\n",
       "      <td>0.688236</td>\n",
       "      <td>0.830318</td>\n",
       "      <td>0.185728</td>\n",
       "      <td>...</td>\n",
       "      <td>1.000000</td>\n",
       "      <td>0.359921</td>\n",
       "      <td>0.993708</td>\n",
       "      <td>0.984015</td>\n",
       "      <td>0.216574</td>\n",
       "      <td>0.475820</td>\n",
       "      <td>0.573975</td>\n",
       "      <td>0.787424</td>\n",
       "      <td>0.243529</td>\n",
       "      <td>0.093492</td>\n",
       "    </tr>\n",
       "    <tr>\n",
       "      <th>texture_worst</th>\n",
       "      <td>0.456903</td>\n",
       "      <td>0.297008</td>\n",
       "      <td>0.912045</td>\n",
       "      <td>0.303038</td>\n",
       "      <td>0.287489</td>\n",
       "      <td>0.036072</td>\n",
       "      <td>0.248133</td>\n",
       "      <td>0.299879</td>\n",
       "      <td>0.292752</td>\n",
       "      <td>0.090651</td>\n",
       "      <td>...</td>\n",
       "      <td>0.359921</td>\n",
       "      <td>1.000000</td>\n",
       "      <td>0.365098</td>\n",
       "      <td>0.345842</td>\n",
       "      <td>0.225429</td>\n",
       "      <td>0.360832</td>\n",
       "      <td>0.368366</td>\n",
       "      <td>0.359755</td>\n",
       "      <td>0.233027</td>\n",
       "      <td>0.219122</td>\n",
       "    </tr>\n",
       "    <tr>\n",
       "      <th>perimeter_worst</th>\n",
       "      <td>0.782914</td>\n",
       "      <td>0.965137</td>\n",
       "      <td>0.358040</td>\n",
       "      <td>0.970387</td>\n",
       "      <td>0.959120</td>\n",
       "      <td>0.238853</td>\n",
       "      <td>0.590210</td>\n",
       "      <td>0.729565</td>\n",
       "      <td>0.855923</td>\n",
       "      <td>0.219169</td>\n",
       "      <td>...</td>\n",
       "      <td>0.993708</td>\n",
       "      <td>0.365098</td>\n",
       "      <td>1.000000</td>\n",
       "      <td>0.977578</td>\n",
       "      <td>0.236775</td>\n",
       "      <td>0.529408</td>\n",
       "      <td>0.618344</td>\n",
       "      <td>0.816322</td>\n",
       "      <td>0.269493</td>\n",
       "      <td>0.138957</td>\n",
       "    </tr>\n",
       "    <tr>\n",
       "      <th>area_worst</th>\n",
       "      <td>0.733825</td>\n",
       "      <td>0.941082</td>\n",
       "      <td>0.343546</td>\n",
       "      <td>0.941550</td>\n",
       "      <td>0.959213</td>\n",
       "      <td>0.206718</td>\n",
       "      <td>0.509604</td>\n",
       "      <td>0.675987</td>\n",
       "      <td>0.809630</td>\n",
       "      <td>0.177193</td>\n",
       "      <td>...</td>\n",
       "      <td>0.984015</td>\n",
       "      <td>0.345842</td>\n",
       "      <td>0.977578</td>\n",
       "      <td>1.000000</td>\n",
       "      <td>0.209145</td>\n",
       "      <td>0.438296</td>\n",
       "      <td>0.543331</td>\n",
       "      <td>0.747419</td>\n",
       "      <td>0.209146</td>\n",
       "      <td>0.079647</td>\n",
       "    </tr>\n",
       "    <tr>\n",
       "      <th>smoothness_worst</th>\n",
       "      <td>0.421465</td>\n",
       "      <td>0.119616</td>\n",
       "      <td>0.077503</td>\n",
       "      <td>0.150549</td>\n",
       "      <td>0.123523</td>\n",
       "      <td>0.805324</td>\n",
       "      <td>0.565541</td>\n",
       "      <td>0.448822</td>\n",
       "      <td>0.452753</td>\n",
       "      <td>0.426675</td>\n",
       "      <td>...</td>\n",
       "      <td>0.216574</td>\n",
       "      <td>0.225429</td>\n",
       "      <td>0.236775</td>\n",
       "      <td>0.209145</td>\n",
       "      <td>1.000000</td>\n",
       "      <td>0.568187</td>\n",
       "      <td>0.518523</td>\n",
       "      <td>0.547691</td>\n",
       "      <td>0.493838</td>\n",
       "      <td>0.617624</td>\n",
       "    </tr>\n",
       "    <tr>\n",
       "      <th>compactness_worst</th>\n",
       "      <td>0.590998</td>\n",
       "      <td>0.413463</td>\n",
       "      <td>0.277830</td>\n",
       "      <td>0.455774</td>\n",
       "      <td>0.390410</td>\n",
       "      <td>0.472468</td>\n",
       "      <td>0.865809</td>\n",
       "      <td>0.754968</td>\n",
       "      <td>0.667454</td>\n",
       "      <td>0.473200</td>\n",
       "      <td>...</td>\n",
       "      <td>0.475820</td>\n",
       "      <td>0.360832</td>\n",
       "      <td>0.529408</td>\n",
       "      <td>0.438296</td>\n",
       "      <td>0.568187</td>\n",
       "      <td>1.000000</td>\n",
       "      <td>0.892261</td>\n",
       "      <td>0.801080</td>\n",
       "      <td>0.614441</td>\n",
       "      <td>0.810455</td>\n",
       "    </tr>\n",
       "    <tr>\n",
       "      <th>concavity_worst</th>\n",
       "      <td>0.659610</td>\n",
       "      <td>0.526911</td>\n",
       "      <td>0.301025</td>\n",
       "      <td>0.563879</td>\n",
       "      <td>0.512606</td>\n",
       "      <td>0.434926</td>\n",
       "      <td>0.816275</td>\n",
       "      <td>0.884103</td>\n",
       "      <td>0.752399</td>\n",
       "      <td>0.433721</td>\n",
       "      <td>...</td>\n",
       "      <td>0.573975</td>\n",
       "      <td>0.368366</td>\n",
       "      <td>0.618344</td>\n",
       "      <td>0.543331</td>\n",
       "      <td>0.518523</td>\n",
       "      <td>0.892261</td>\n",
       "      <td>1.000000</td>\n",
       "      <td>0.855434</td>\n",
       "      <td>0.532520</td>\n",
       "      <td>0.686511</td>\n",
       "    </tr>\n",
       "    <tr>\n",
       "      <th>concave points_worst</th>\n",
       "      <td>0.793566</td>\n",
       "      <td>0.744214</td>\n",
       "      <td>0.295316</td>\n",
       "      <td>0.771241</td>\n",
       "      <td>0.722017</td>\n",
       "      <td>0.503053</td>\n",
       "      <td>0.815573</td>\n",
       "      <td>0.861323</td>\n",
       "      <td>0.910155</td>\n",
       "      <td>0.430297</td>\n",
       "      <td>...</td>\n",
       "      <td>0.787424</td>\n",
       "      <td>0.359755</td>\n",
       "      <td>0.816322</td>\n",
       "      <td>0.747419</td>\n",
       "      <td>0.547691</td>\n",
       "      <td>0.801080</td>\n",
       "      <td>0.855434</td>\n",
       "      <td>1.000000</td>\n",
       "      <td>0.502528</td>\n",
       "      <td>0.511114</td>\n",
       "    </tr>\n",
       "    <tr>\n",
       "      <th>symmetry_worst</th>\n",
       "      <td>0.416294</td>\n",
       "      <td>0.163953</td>\n",
       "      <td>0.105008</td>\n",
       "      <td>0.189115</td>\n",
       "      <td>0.143570</td>\n",
       "      <td>0.394309</td>\n",
       "      <td>0.510223</td>\n",
       "      <td>0.409464</td>\n",
       "      <td>0.375744</td>\n",
       "      <td>0.699826</td>\n",
       "      <td>...</td>\n",
       "      <td>0.243529</td>\n",
       "      <td>0.233027</td>\n",
       "      <td>0.269493</td>\n",
       "      <td>0.209146</td>\n",
       "      <td>0.493838</td>\n",
       "      <td>0.614441</td>\n",
       "      <td>0.532520</td>\n",
       "      <td>0.502528</td>\n",
       "      <td>1.000000</td>\n",
       "      <td>0.537848</td>\n",
       "    </tr>\n",
       "    <tr>\n",
       "      <th>fractal_dimension_worst</th>\n",
       "      <td>0.323872</td>\n",
       "      <td>0.007066</td>\n",
       "      <td>0.119205</td>\n",
       "      <td>0.051019</td>\n",
       "      <td>0.003738</td>\n",
       "      <td>0.499316</td>\n",
       "      <td>0.687382</td>\n",
       "      <td>0.514930</td>\n",
       "      <td>0.368661</td>\n",
       "      <td>0.438413</td>\n",
       "      <td>...</td>\n",
       "      <td>0.093492</td>\n",
       "      <td>0.219122</td>\n",
       "      <td>0.138957</td>\n",
       "      <td>0.079647</td>\n",
       "      <td>0.617624</td>\n",
       "      <td>0.810455</td>\n",
       "      <td>0.686511</td>\n",
       "      <td>0.511114</td>\n",
       "      <td>0.537848</td>\n",
       "      <td>1.000000</td>\n",
       "    </tr>\n",
       "  </tbody>\n",
       "</table>\n",
       "<p>31 rows × 31 columns</p>\n",
       "</div>"
      ],
      "text/plain": [
       "                         diagnosis  radius_mean  texture_mean  perimeter_mean  \\\n",
       "diagnosis                 1.000000     0.730029      0.415185        0.742636   \n",
       "radius_mean               0.730029     1.000000      0.323782        0.997855   \n",
       "texture_mean              0.415185     0.323782      1.000000        0.329533   \n",
       "perimeter_mean            0.742636     0.997855      0.329533        1.000000   \n",
       "area_mean                 0.708984     0.987357      0.321086        0.986507   \n",
       "smoothness_mean           0.358560     0.170581     -0.023389        0.207278   \n",
       "compactness_mean          0.596534     0.506124      0.236702        0.556936   \n",
       "concavity_mean            0.696360     0.676764      0.302418        0.716136   \n",
       "concave points_mean       0.776614     0.822529      0.293464        0.850977   \n",
       "symmetry_mean             0.330499     0.147741      0.071401        0.183027   \n",
       "fractal_dimension_mean   -0.012838    -0.311631     -0.076437       -0.261477   \n",
       "radius_se                 0.567134     0.679090      0.275869        0.691765   \n",
       "texture_se               -0.008303    -0.097317      0.386358       -0.086761   \n",
       "perimeter_se              0.556141     0.674172      0.281673        0.693135   \n",
       "area_se                   0.548236     0.735864      0.259845        0.744983   \n",
       "smoothness_se            -0.067016    -0.222600      0.006614       -0.202694   \n",
       "compactness_se            0.292999     0.206000      0.191975        0.250744   \n",
       "concavity_se              0.253730     0.194204      0.143293        0.228082   \n",
       "concave points_se         0.408042     0.376169      0.163851        0.407217   \n",
       "symmetry_se              -0.006522    -0.104321      0.009127       -0.081629   \n",
       "fractal_dimension_se      0.077972    -0.042641      0.054458       -0.005523   \n",
       "radius_worst              0.776454     0.969539      0.352573        0.969476   \n",
       "texture_worst             0.456903     0.297008      0.912045        0.303038   \n",
       "perimeter_worst           0.782914     0.965137      0.358040        0.970387   \n",
       "area_worst                0.733825     0.941082      0.343546        0.941550   \n",
       "smoothness_worst          0.421465     0.119616      0.077503        0.150549   \n",
       "compactness_worst         0.590998     0.413463      0.277830        0.455774   \n",
       "concavity_worst           0.659610     0.526911      0.301025        0.563879   \n",
       "concave points_worst      0.793566     0.744214      0.295316        0.771241   \n",
       "symmetry_worst            0.416294     0.163953      0.105008        0.189115   \n",
       "fractal_dimension_worst   0.323872     0.007066      0.119205        0.051019   \n",
       "\n",
       "                         area_mean  smoothness_mean  compactness_mean  \\\n",
       "diagnosis                 0.708984         0.358560          0.596534   \n",
       "radius_mean               0.987357         0.170581          0.506124   \n",
       "texture_mean              0.321086        -0.023389          0.236702   \n",
       "perimeter_mean            0.986507         0.207278          0.556936   \n",
       "area_mean                 1.000000         0.177028          0.498502   \n",
       "smoothness_mean           0.177028         1.000000          0.659123   \n",
       "compactness_mean          0.498502         0.659123          1.000000   \n",
       "concavity_mean            0.685983         0.521984          0.883121   \n",
       "concave points_mean       0.823269         0.553695          0.831135   \n",
       "symmetry_mean             0.151293         0.557775          0.602641   \n",
       "fractal_dimension_mean   -0.283110         0.584792          0.565369   \n",
       "radius_se                 0.732562         0.301467          0.497473   \n",
       "texture_se               -0.066280         0.068406          0.046205   \n",
       "perimeter_se              0.726628         0.296092          0.548905   \n",
       "area_se                   0.800086         0.246552          0.455653   \n",
       "smoothness_se            -0.166777         0.332375          0.135299   \n",
       "compactness_se            0.212583         0.318943          0.738722   \n",
       "concavity_se              0.207660         0.248396          0.570517   \n",
       "concave points_se         0.372320         0.380676          0.642262   \n",
       "symmetry_se              -0.072497         0.200774          0.229977   \n",
       "fractal_dimension_se     -0.019887         0.283607          0.507318   \n",
       "radius_worst              0.962746         0.213120          0.535315   \n",
       "texture_worst             0.287489         0.036072          0.248133   \n",
       "perimeter_worst           0.959120         0.238853          0.590210   \n",
       "area_worst                0.959213         0.206718          0.509604   \n",
       "smoothness_worst          0.123523         0.805324          0.565541   \n",
       "compactness_worst         0.390410         0.472468          0.865809   \n",
       "concavity_worst           0.512606         0.434926          0.816275   \n",
       "concave points_worst      0.722017         0.503053          0.815573   \n",
       "symmetry_worst            0.143570         0.394309          0.510223   \n",
       "fractal_dimension_worst   0.003738         0.499316          0.687382   \n",
       "\n",
       "                         concavity_mean  concave points_mean  symmetry_mean  \\\n",
       "diagnosis                      0.696360             0.776614       0.330499   \n",
       "radius_mean                    0.676764             0.822529       0.147741   \n",
       "texture_mean                   0.302418             0.293464       0.071401   \n",
       "perimeter_mean                 0.716136             0.850977       0.183027   \n",
       "area_mean                      0.685983             0.823269       0.151293   \n",
       "smoothness_mean                0.521984             0.553695       0.557775   \n",
       "compactness_mean               0.883121             0.831135       0.602641   \n",
       "concavity_mean                 1.000000             0.921391       0.500667   \n",
       "concave points_mean            0.921391             1.000000       0.462497   \n",
       "symmetry_mean                  0.500667             0.462497       1.000000   \n",
       "fractal_dimension_mean         0.336783             0.166917       0.479921   \n",
       "radius_se                      0.631925             0.698050       0.303379   \n",
       "texture_se                     0.076218             0.021480       0.128053   \n",
       "perimeter_se                   0.660391             0.710650       0.313893   \n",
       "area_se                        0.617427             0.690299       0.223970   \n",
       "smoothness_se                  0.098564             0.027653       0.187321   \n",
       "compactness_se                 0.670279             0.490424       0.421659   \n",
       "concavity_se                   0.691270             0.439167       0.342627   \n",
       "concave points_se              0.683260             0.615634       0.393298   \n",
       "symmetry_se                    0.178009             0.095351       0.449137   \n",
       "fractal_dimension_se           0.449301             0.257584       0.331786   \n",
       "radius_worst                   0.688236             0.830318       0.185728   \n",
       "texture_worst                  0.299879             0.292752       0.090651   \n",
       "perimeter_worst                0.729565             0.855923       0.219169   \n",
       "area_worst                     0.675987             0.809630       0.177193   \n",
       "smoothness_worst               0.448822             0.452753       0.426675   \n",
       "compactness_worst              0.754968             0.667454       0.473200   \n",
       "concavity_worst                0.884103             0.752399       0.433721   \n",
       "concave points_worst           0.861323             0.910155       0.430297   \n",
       "symmetry_worst                 0.409464             0.375744       0.699826   \n",
       "fractal_dimension_worst        0.514930             0.368661       0.438413   \n",
       "\n",
       "                         ...  radius_worst  texture_worst  perimeter_worst  \\\n",
       "diagnosis                ...      0.776454       0.456903         0.782914   \n",
       "radius_mean              ...      0.969539       0.297008         0.965137   \n",
       "texture_mean             ...      0.352573       0.912045         0.358040   \n",
       "perimeter_mean           ...      0.969476       0.303038         0.970387   \n",
       "area_mean                ...      0.962746       0.287489         0.959120   \n",
       "smoothness_mean          ...      0.213120       0.036072         0.238853   \n",
       "compactness_mean         ...      0.535315       0.248133         0.590210   \n",
       "concavity_mean           ...      0.688236       0.299879         0.729565   \n",
       "concave points_mean      ...      0.830318       0.292752         0.855923   \n",
       "symmetry_mean            ...      0.185728       0.090651         0.219169   \n",
       "fractal_dimension_mean   ...     -0.253691      -0.051269        -0.205151   \n",
       "radius_se                ...      0.715065       0.194799         0.719684   \n",
       "texture_se               ...     -0.111690       0.409003        -0.102242   \n",
       "perimeter_se             ...      0.697201       0.200371         0.721031   \n",
       "area_se                  ...      0.757373       0.196497         0.761213   \n",
       "smoothness_se            ...     -0.230691      -0.074743        -0.217304   \n",
       "compactness_se           ...      0.204607       0.143003         0.260516   \n",
       "concavity_se             ...      0.186904       0.100241         0.226680   \n",
       "concave points_se        ...      0.358127       0.086741         0.394999   \n",
       "symmetry_se              ...     -0.128121      -0.077473        -0.103753   \n",
       "fractal_dimension_se     ...     -0.037488      -0.003195        -0.001000   \n",
       "radius_worst             ...      1.000000       0.359921         0.993708   \n",
       "texture_worst            ...      0.359921       1.000000         0.365098   \n",
       "perimeter_worst          ...      0.993708       0.365098         1.000000   \n",
       "area_worst               ...      0.984015       0.345842         0.977578   \n",
       "smoothness_worst         ...      0.216574       0.225429         0.236775   \n",
       "compactness_worst        ...      0.475820       0.360832         0.529408   \n",
       "concavity_worst          ...      0.573975       0.368366         0.618344   \n",
       "concave points_worst     ...      0.787424       0.359755         0.816322   \n",
       "symmetry_worst           ...      0.243529       0.233027         0.269493   \n",
       "fractal_dimension_worst  ...      0.093492       0.219122         0.138957   \n",
       "\n",
       "                         area_worst  smoothness_worst  compactness_worst  \\\n",
       "diagnosis                  0.733825          0.421465           0.590998   \n",
       "radius_mean                0.941082          0.119616           0.413463   \n",
       "texture_mean               0.343546          0.077503           0.277830   \n",
       "perimeter_mean             0.941550          0.150549           0.455774   \n",
       "area_mean                  0.959213          0.123523           0.390410   \n",
       "smoothness_mean            0.206718          0.805324           0.472468   \n",
       "compactness_mean           0.509604          0.565541           0.865809   \n",
       "concavity_mean             0.675987          0.448822           0.754968   \n",
       "concave points_mean        0.809630          0.452753           0.667454   \n",
       "symmetry_mean              0.177193          0.426675           0.473200   \n",
       "fractal_dimension_mean    -0.231854          0.504942           0.458798   \n",
       "radius_se                  0.751548          0.141919           0.287103   \n",
       "texture_se                -0.083195         -0.073658          -0.092439   \n",
       "perimeter_se               0.730713          0.130054           0.341919   \n",
       "area_se                    0.811408          0.125389           0.283257   \n",
       "smoothness_se             -0.182195          0.314457          -0.055558   \n",
       "compactness_se             0.199371          0.227394           0.678780   \n",
       "concavity_se               0.188353          0.168481           0.484858   \n",
       "concave points_se          0.342271          0.215351           0.452888   \n",
       "symmetry_se               -0.110343         -0.012662           0.060255   \n",
       "fractal_dimension_se      -0.022736          0.170568           0.390159   \n",
       "radius_worst               0.984015          0.216574           0.475820   \n",
       "texture_worst              0.345842          0.225429           0.360832   \n",
       "perimeter_worst            0.977578          0.236775           0.529408   \n",
       "area_worst                 1.000000          0.209145           0.438296   \n",
       "smoothness_worst           0.209145          1.000000           0.568187   \n",
       "compactness_worst          0.438296          0.568187           1.000000   \n",
       "concavity_worst            0.543331          0.518523           0.892261   \n",
       "concave points_worst       0.747419          0.547691           0.801080   \n",
       "symmetry_worst             0.209146          0.493838           0.614441   \n",
       "fractal_dimension_worst    0.079647          0.617624           0.810455   \n",
       "\n",
       "                         concavity_worst  concave points_worst  \\\n",
       "diagnosis                       0.659610              0.793566   \n",
       "radius_mean                     0.526911              0.744214   \n",
       "texture_mean                    0.301025              0.295316   \n",
       "perimeter_mean                  0.563879              0.771241   \n",
       "area_mean                       0.512606              0.722017   \n",
       "smoothness_mean                 0.434926              0.503053   \n",
       "compactness_mean                0.816275              0.815573   \n",
       "concavity_mean                  0.884103              0.861323   \n",
       "concave points_mean             0.752399              0.910155   \n",
       "symmetry_mean                   0.433721              0.430297   \n",
       "fractal_dimension_mean          0.346234              0.175325   \n",
       "radius_se                       0.380585              0.531062   \n",
       "texture_se                     -0.068956             -0.119638   \n",
       "perimeter_se                    0.418899              0.554897   \n",
       "area_se                         0.385100              0.538166   \n",
       "smoothness_se                  -0.058298             -0.102007   \n",
       "compactness_se                  0.639147              0.483208   \n",
       "concavity_se                    0.662564              0.440472   \n",
       "concave points_se               0.549592              0.602450   \n",
       "symmetry_se                     0.037119             -0.030413   \n",
       "fractal_dimension_se            0.379975              0.215204   \n",
       "radius_worst                    0.573975              0.787424   \n",
       "texture_worst                   0.368366              0.359755   \n",
       "perimeter_worst                 0.618344              0.816322   \n",
       "area_worst                      0.543331              0.747419   \n",
       "smoothness_worst                0.518523              0.547691   \n",
       "compactness_worst               0.892261              0.801080   \n",
       "concavity_worst                 1.000000              0.855434   \n",
       "concave points_worst            0.855434              1.000000   \n",
       "symmetry_worst                  0.532520              0.502528   \n",
       "fractal_dimension_worst         0.686511              0.511114   \n",
       "\n",
       "                         symmetry_worst  fractal_dimension_worst  \n",
       "diagnosis                      0.416294                 0.323872  \n",
       "radius_mean                    0.163953                 0.007066  \n",
       "texture_mean                   0.105008                 0.119205  \n",
       "perimeter_mean                 0.189115                 0.051019  \n",
       "area_mean                      0.143570                 0.003738  \n",
       "smoothness_mean                0.394309                 0.499316  \n",
       "compactness_mean               0.510223                 0.687382  \n",
       "concavity_mean                 0.409464                 0.514930  \n",
       "concave points_mean            0.375744                 0.368661  \n",
       "symmetry_mean                  0.699826                 0.438413  \n",
       "fractal_dimension_mean         0.334019                 0.767297  \n",
       "radius_se                      0.094543                 0.049559  \n",
       "texture_se                    -0.128215                -0.045655  \n",
       "perimeter_se                   0.109930                 0.085433  \n",
       "area_se                        0.074126                 0.017539  \n",
       "smoothness_se                 -0.107342                 0.101480  \n",
       "compactness_se                 0.277878                 0.590973  \n",
       "concavity_se                   0.197788                 0.439329  \n",
       "concave points_se              0.143116                 0.310655  \n",
       "symmetry_se                    0.389402                 0.078079  \n",
       "fractal_dimension_se           0.111094                 0.591328  \n",
       "radius_worst                   0.243529                 0.093492  \n",
       "texture_worst                  0.233027                 0.219122  \n",
       "perimeter_worst                0.269493                 0.138957  \n",
       "area_worst                     0.209146                 0.079647  \n",
       "smoothness_worst               0.493838                 0.617624  \n",
       "compactness_worst              0.614441                 0.810455  \n",
       "concavity_worst                0.532520                 0.686511  \n",
       "concave points_worst           0.502528                 0.511114  \n",
       "symmetry_worst                 1.000000                 0.537848  \n",
       "fractal_dimension_worst        0.537848                 1.000000  \n",
       "\n",
       "[31 rows x 31 columns]"
      ]
     },
     "execution_count": 9,
     "metadata": {},
     "output_type": "execute_result"
    }
   ],
   "source": [
    "df.corr()"
   ]
  },
  {
   "cell_type": "code",
   "execution_count": 10,
   "metadata": {},
   "outputs": [
    {
     "data": {
      "application/vnd.plotly.v1+json": {
       "config": {
        "plotlyServerURL": "https://plot.ly"
       },
       "data": [
        {
         "coloraxis": "coloraxis",
         "hovertemplate": "x: %{x}<br>y: %{y}<br>color: %{z}<extra></extra>",
         "name": "0",
         "type": "heatmap",
         "x": [
          "diagnosis",
          "radius_mean",
          "texture_mean",
          "perimeter_mean",
          "area_mean",
          "smoothness_mean",
          "compactness_mean",
          "concavity_mean",
          "concave points_mean",
          "symmetry_mean",
          "fractal_dimension_mean",
          "radius_se",
          "texture_se",
          "perimeter_se",
          "area_se",
          "smoothness_se",
          "compactness_se",
          "concavity_se",
          "concave points_se",
          "symmetry_se",
          "fractal_dimension_se",
          "radius_worst",
          "texture_worst",
          "perimeter_worst",
          "area_worst",
          "smoothness_worst",
          "compactness_worst",
          "concavity_worst",
          "concave points_worst",
          "symmetry_worst",
          "fractal_dimension_worst"
         ],
         "xaxis": "x",
         "y": [
          "diagnosis",
          "radius_mean",
          "texture_mean",
          "perimeter_mean",
          "area_mean",
          "smoothness_mean",
          "compactness_mean",
          "concavity_mean",
          "concave points_mean",
          "symmetry_mean",
          "fractal_dimension_mean",
          "radius_se",
          "texture_se",
          "perimeter_se",
          "area_se",
          "smoothness_se",
          "compactness_se",
          "concavity_se",
          "concave points_se",
          "symmetry_se",
          "fractal_dimension_se",
          "radius_worst",
          "texture_worst",
          "perimeter_worst",
          "area_worst",
          "smoothness_worst",
          "compactness_worst",
          "concavity_worst",
          "concave points_worst",
          "symmetry_worst",
          "fractal_dimension_worst"
         ],
         "yaxis": "y",
         "z": [
          [
           1,
           0.7300285113754563,
           0.41518529984520475,
           0.7426355297258334,
           0.7089838365853902,
           0.35855996508593324,
           0.5965336775082527,
           0.6963597071719052,
           0.7766138400204371,
           0.33049855426254676,
           -0.012837602698431882,
           0.5671338208247175,
           -0.008303332973877035,
           0.5561407034314831,
           0.5482359402780241,
           -0.0670160105794875,
           0.2929992442488586,
           0.2537297659808307,
           0.4080423327165051,
           -0.006521755870647806,
           0.07797241739025584,
           0.7764537785950396,
           0.4569028213967985,
           0.7829141371737594,
           0.7338250349210504,
           0.4214648610664026,
           0.5909982378417918,
           0.6596102103692332,
           0.7935660171412694,
           0.4162943110486197,
           0.32387218872082474
          ],
          [
           0.7300285113754563,
           1,
           0.32378189092773324,
           0.9978552814938109,
           0.9873571700566127,
           0.17058118749299467,
           0.5061235775263634,
           0.6767635503908104,
           0.8225285223871786,
           0.14774124199260202,
           -0.3116308263092899,
           0.6790903880020743,
           -0.09731744314481319,
           0.6741716157641048,
           0.7358636632128178,
           -0.2226001245821115,
           0.2059999804076988,
           0.19420362276150882,
           0.3761689559399253,
           -0.10432088141786551,
           -0.042641269114456294,
           0.9695389726112055,
           0.29700764398637336,
           0.9651365139559871,
           0.9410824595860461,
           0.11961613992160802,
           0.4134628230608015,
           0.5269114618385448,
           0.7442141978674661,
           0.1639533349363072,
           0.007065885692182479
          ],
          [
           0.41518529984520475,
           0.32378189092773324,
           1,
           0.3295330586865707,
           0.32108569608020704,
           -0.023388515998423325,
           0.236702222074372,
           0.30241782794389144,
           0.29346405131394276,
           0.07140098048331764,
           -0.07643718344813423,
           0.27586867617376243,
           0.3863576227244906,
           0.28167311478720275,
           0.2598449866100985,
           0.006613777353585514,
           0.19197461132396684,
           0.14329307656049867,
           0.16385102528521822,
           0.009127167755035895,
           0.054457519568933854,
           0.35257294715029586,
           0.912044588840421,
           0.35803957505322415,
           0.3435459471864696,
           0.077503358822129,
           0.2778295924789794,
           0.30102522381649116,
           0.2953158433377364,
           0.10500791031597205,
           0.11920535139708567
          ],
          [
           0.7426355297258334,
           0.9978552814938109,
           0.3295330586865707,
           1,
           0.9865068039913907,
           0.2072781636910072,
           0.556936210879562,
           0.7161356501174047,
           0.8509770412528191,
           0.18302721211685316,
           -0.26147690806633256,
           0.6917650135334819,
           -0.08676107831179455,
           0.6931348895408653,
           0.7449826941190683,
           -0.20269402629832212,
           0.25074368074058806,
           0.22808234539365832,
           0.407216915998619,
           -0.08162932702839931,
           -0.005523391057003881,
           0.9694763634663146,
           0.30303837155715024,
           0.9703868870426394,
           0.9415498080023068,
           0.1505494043170374,
           0.45577422803832723,
           0.5638792634736619,
           0.7712407893605497,
           0.18911504046245775,
           0.05101852972340705
          ],
          [
           0.7089838365853902,
           0.9873571700566127,
           0.32108569608020704,
           0.9865068039913907,
           1,
           0.1770283772540016,
           0.49850168215241186,
           0.6859828285519112,
           0.8232688686524342,
           0.15129307903511224,
           -0.2831098116914261,
           0.7325622269972968,
           -0.06628021360457731,
           0.7266283277906844,
           0.8000859212343201,
           -0.1667766666011128,
           0.21258255077923266,
           0.20766006048256927,
           0.3723202823307104,
           -0.07249658821176244,
           -0.019886963235068042,
           0.9627460860470841,
           0.287488627121397,
           0.9591195743552645,
           0.9592133256498998,
           0.12352293875557084,
           0.39041030924249864,
           0.5126059204433239,
           0.7220166262603579,
           0.1435699138890717,
           0.003737597351571729
          ],
          [
           0.35855996508593324,
           0.17058118749299467,
           -0.023388515998423325,
           0.2072781636910072,
           0.1770283772540016,
           1,
           0.6591232152159234,
           0.52198376771426,
           0.5536951727437609,
           0.5577747880728878,
           0.5847920019499775,
           0.30146709825316975,
           0.06840644817118251,
           0.29609193289351476,
           0.24655243166573562,
           0.3323754426475922,
           0.31894329670537874,
           0.24839567988255598,
           0.38067569098328613,
           0.20077437592048314,
           0.2836066985468851,
           0.21312014189594916,
           0.03607179878564654,
           0.23885262620915101,
           0.20671836342857688,
           0.8053241954943627,
           0.4724684437304436,
           0.4349257147250878,
           0.503053353298951,
           0.39430948181175646,
           0.4993163685937669
          ],
          [
           0.5965336775082527,
           0.5061235775263634,
           0.236702222074372,
           0.556936210879562,
           0.49850168215241186,
           0.6591232152159234,
           1,
           0.8831206701772507,
           0.831135043133698,
           0.6026410484055158,
           0.565368663414522,
           0.49747344608506183,
           0.04620483071640705,
           0.5489052645888235,
           0.45565285198788846,
           0.13529926770047143,
           0.7387217896603929,
           0.5705168714898889,
           0.642261850971647,
           0.22997659080143223,
           0.5073181269004216,
           0.5353153982176662,
           0.2481328332774173,
           0.590210427731298,
           0.50960380555792,
           0.5655411663750888,
           0.8658090398022629,
           0.8162752498000281,
           0.8155732235690644,
           0.5102234299218061,
           0.6873823227538974
          ],
          [
           0.6963597071719052,
           0.6767635503908104,
           0.30241782794389144,
           0.7161356501174047,
           0.6859828285519112,
           0.52198376771426,
           0.8831206701772507,
           1,
           0.9213910263788588,
           0.5006666171419609,
           0.33678335942118504,
           0.6319248221414899,
           0.07621834813534026,
           0.6603907872419604,
           0.6174268058452413,
           0.09856374579911734,
           0.6702788246430194,
           0.6912702075448502,
           0.6832599165123261,
           0.17800920792087752,
           0.4493007490503378,
           0.6882364076436722,
           0.2998788887096908,
           0.7295649165132018,
           0.6759872313060872,
           0.44882203840476004,
           0.7549680159063962,
           0.8841026390943817,
           0.861323033637951,
           0.4094641265399853,
           0.5149298906363856
          ],
          [
           0.7766138400204371,
           0.8225285223871786,
           0.29346405131394276,
           0.8509770412528191,
           0.8232688686524342,
           0.5536951727437609,
           0.831135043133698,
           0.9213910263788588,
           1,
           0.4624973883673585,
           0.1669173832269923,
           0.6980498335607404,
           0.021479581923401776,
           0.710649871613898,
           0.6902985397595536,
           0.027653308387136005,
           0.49042424959357145,
           0.43916706847426173,
           0.6156341308969191,
           0.09535078688667675,
           0.2575837462430327,
           0.8303176311186159,
           0.2927517130015173,
           0.8559231281343119,
           0.809629619909618,
           0.4527530541790488,
           0.6674536768257124,
           0.7523994975749643,
           0.9101553142985918,
           0.3757441454236111,
           0.36866113371677106
          ],
          [
           0.33049855426254676,
           0.14774124199260202,
           0.07140098048331764,
           0.18302721211685316,
           0.15129307903511224,
           0.5577747880728878,
           0.6026410484055158,
           0.5006666171419609,
           0.4624973883673585,
           1,
           0.47992133005096926,
           0.30337926320726244,
           0.1280529263402561,
           0.3138927607965131,
           0.22397021941762965,
           0.18732116526139078,
           0.4216591470050108,
           0.3426270230777206,
           0.39329787208901684,
           0.44913654239342854,
           0.3317861462731239,
           0.18572775349568738,
           0.0906506881166432,
           0.21916855911105818,
           0.1771933773740968,
           0.4266750263849464,
           0.4732000132446185,
           0.433721007590172,
           0.4302966114579543,
           0.6998257976437302,
           0.4384134984446025
          ],
          [
           -0.012837602698431882,
           -0.3116308263092899,
           -0.07643718344813423,
           -0.26147690806633256,
           -0.2831098116914261,
           0.5847920019499775,
           0.565368663414522,
           0.33678335942118504,
           0.1669173832269923,
           0.47992133005096926,
           1,
           0.0001109950726296278,
           0.16417396587172883,
           0.03982993157204734,
           -0.09017024752042703,
           0.4019644254484126,
           0.5598366906211326,
           0.44663032169957156,
           0.34119804439711815,
           0.34500739714372797,
           0.6881315774585519,
           -0.25369149487660986,
           -0.05126920203676535,
           -0.20515121126277344,
           -0.2318544511675603,
           0.5049420753517612,
           0.4587981566678596,
           0.3462338763480676,
           0.17532544924324475,
           0.3340186838510839,
           0.7672967792384361
          ],
          [
           0.5671338208247175,
           0.6790903880020743,
           0.27586867617376243,
           0.6917650135334819,
           0.7325622269972968,
           0.30146709825316975,
           0.49747344608506183,
           0.6319248221414899,
           0.6980498335607404,
           0.30337926320726244,
           0.0001109950726296278,
           1,
           0.21324733725115802,
           0.9727936770160764,
           0.951830112110991,
           0.16451421981281164,
           0.35606457553220283,
           0.3323575376076105,
           0.5133464414367649,
           0.24056736245007102,
           0.22775353267198026,
           0.715065195135185,
           0.19479855683425132,
           0.7196838036650044,
           0.7515484761266196,
           0.14191855291860658,
           0.28710316560074034,
           0.38058463462872194,
           0.5310623278216046,
           0.09454283035438187,
           0.049559432464573124
          ],
          [
           -0.008303332973877035,
           -0.09731744314481319,
           0.3863576227244906,
           -0.08676107831179455,
           -0.06628021360457731,
           0.06840644817118251,
           0.04620483071640705,
           0.07621834813534026,
           0.021479581923401776,
           0.1280529263402561,
           0.16417396587172883,
           0.21324733725115802,
           1,
           0.223170728630714,
           0.11156724721803947,
           0.3972428526412099,
           0.2316996989762371,
           0.19499846445881905,
           0.2302833995570338,
           0.41162068019753933,
           0.2797227477191938,
           -0.11169031312493002,
           0.4090027663153059,
           -0.10224192188743278,
           -0.08319498858504636,
           -0.07365765910118513,
           -0.09243935361819372,
           -0.06895622054645592,
           -0.11963752313984607,
           -0.12821475779252947,
           -0.045654568593207025
          ],
          [
           0.5561407034314831,
           0.6741716157641048,
           0.28167311478720275,
           0.6931348895408653,
           0.7266283277906844,
           0.29609193289351476,
           0.5489052645888235,
           0.6603907872419604,
           0.710649871613898,
           0.3138927607965131,
           0.03982993157204734,
           0.9727936770160764,
           0.223170728630714,
           1,
           0.9376554069544157,
           0.15107533120841296,
           0.41632236799246164,
           0.3624815822704489,
           0.5562640836543961,
           0.2664870918640224,
           0.24414277341628535,
           0.6972005927206456,
           0.2003708539594511,
           0.7210313099890175,
           0.7307129731302829,
           0.1300543919910096,
           0.3419194453712055,
           0.4188988157305714,
           0.5548972306282103,
           0.1099304342313503,
           0.0854325720566574
          ],
          [
           0.5482359402780241,
           0.7358636632128178,
           0.2598449866100985,
           0.7449826941190683,
           0.8000859212343201,
           0.24655243166573562,
           0.45565285198788846,
           0.6174268058452413,
           0.6902985397595536,
           0.22397021941762965,
           -0.09017024752042703,
           0.951830112110991,
           0.11156724721803947,
           0.9376554069544157,
           1,
           0.07515033812199375,
           0.28484005654116107,
           0.270894726190632,
           0.4157295683714005,
           0.1341089796924749,
           0.12707090297801246,
           0.7573731889240164,
           0.19649664907281025,
           0.7612126360687592,
           0.8114079609317274,
           0.12538943051609117,
           0.28325653753745555,
           0.38510013559852924,
           0.5381663138957359,
           0.07412629159952816,
           0.017539295132385505
          ],
          [
           -0.0670160105794875,
           -0.2226001245821115,
           0.006613777353585514,
           -0.20269402629832212,
           -0.1667766666011128,
           0.3323754426475922,
           0.13529926770047143,
           0.09856374579911734,
           0.027653308387136005,
           0.18732116526139078,
           0.4019644254484126,
           0.16451421981281164,
           0.3972428526412099,
           0.15107533120841296,
           0.07515033812199375,
           1,
           0.33669608050544514,
           0.2686847598722627,
           0.3284294991096789,
           0.4135061252078973,
           0.4273742067231582,
           -0.2306907098451477,
           -0.07474296487675623,
           -0.21730375458186166,
           -0.182195478059099,
           0.31445745598082797,
           -0.05555813871505085,
           -0.05829838674344549,
           -0.10200679633746537,
           -0.10734209778914477,
           0.10148031504252508
          ],
          [
           0.2929992442488586,
           0.2059999804076988,
           0.19197461132396684,
           0.25074368074058806,
           0.21258255077923266,
           0.31894329670537874,
           0.7387217896603929,
           0.6702788246430194,
           0.49042424959357145,
           0.4216591470050108,
           0.5598366906211326,
           0.35606457553220283,
           0.2316996989762371,
           0.41632236799246164,
           0.28484005654116107,
           0.33669608050544514,
           1,
           0.8012683427383291,
           0.7440826676953253,
           0.3947128347620316,
           0.8032688176617679,
           0.20460716594748168,
           0.1430025832957166,
           0.26051583964720865,
           0.19937132909101393,
           0.22739423230542308,
           0.6787803543724954,
           0.6391466977559193,
           0.48320832682561315,
           0.277878430714635,
           0.5909727625047895
          ],
          [
           0.2537297659808307,
           0.19420362276150882,
           0.14329307656049867,
           0.22808234539365832,
           0.20766006048256927,
           0.24839567988255598,
           0.5705168714898889,
           0.6912702075448502,
           0.43916706847426173,
           0.3426270230777206,
           0.44663032169957156,
           0.3323575376076105,
           0.19499846445881905,
           0.3624815822704489,
           0.270894726190632,
           0.2686847598722627,
           0.8012683427383291,
           1,
           0.7718039949238469,
           0.30942857798445156,
           0.727372183881192,
           0.1869035156858978,
           0.10024098374834615,
           0.22668042559090154,
           0.18835265208953067,
           0.16848132079136754,
           0.4848578006864688,
           0.6625641337427411,
           0.44047226304622294,
           0.19778782186141097,
           0.43932926857579074
          ],
          [
           0.4080423327165051,
           0.3761689559399253,
           0.16385102528521822,
           0.407216915998619,
           0.3723202823307104,
           0.38067569098328613,
           0.642261850971647,
           0.6832599165123261,
           0.6156341308969191,
           0.39329787208901684,
           0.34119804439711815,
           0.5133464414367649,
           0.2302833995570338,
           0.5562640836543961,
           0.4157295683714005,
           0.3284294991096789,
           0.7440826676953253,
           0.7718039949238469,
           1,
           0.3127802232097334,
           0.611044139380723,
           0.3581266692410426,
           0.08674120994286846,
           0.3949992517741845,
           0.3422711620926815,
           0.21535059681593355,
           0.4528883773698806,
           0.5495923752351922,
           0.6024496059209876,
           0.14311566863305003,
           0.31065455149383064
          ],
          [
           -0.006521755870647806,
           -0.10432088141786551,
           0.009127167755035895,
           -0.08162932702839931,
           -0.07249658821176244,
           0.20077437592048314,
           0.22997659080143223,
           0.17800920792087752,
           0.09535078688667675,
           0.44913654239342854,
           0.34500739714372797,
           0.24056736245007102,
           0.41162068019753933,
           0.2664870918640224,
           0.1341089796924749,
           0.4135061252078973,
           0.3947128347620316,
           0.30942857798445156,
           0.3127802232097334,
           1,
           0.3690780833657291,
           -0.1281207690727424,
           -0.0774734201840788,
           -0.10375304384332498,
           -0.11034274289549834,
           -0.012661799565908998,
           0.06025487946536686,
           0.03711904859992839,
           -0.03041339642360094,
           0.38940248488464646,
           0.07807947627266758
          ],
          [
           0.07797241739025584,
           -0.042641269114456294,
           0.054457519568933854,
           -0.005523391057003881,
           -0.019886963235068042,
           0.2836066985468851,
           0.5073181269004216,
           0.4493007490503378,
           0.2575837462430327,
           0.3317861462731239,
           0.6881315774585519,
           0.22775353267198026,
           0.2797227477191938,
           0.24414277341628535,
           0.12707090297801246,
           0.4273742067231582,
           0.8032688176617679,
           0.727372183881192,
           0.611044139380723,
           0.3690780833657291,
           1,
           -0.037487617862673565,
           -0.0031950288680895906,
           -0.0010003976259669379,
           -0.022736147308900636,
           0.17056831595314176,
           0.39015884208667484,
           0.3799746614570792,
           0.21520401331002892,
           0.11109395575572399,
           0.5913280656608751
          ],
          [
           0.7764537785950396,
           0.9695389726112055,
           0.35257294715029586,
           0.9694763634663146,
           0.9627460860470841,
           0.21312014189594916,
           0.5353153982176662,
           0.6882364076436722,
           0.8303176311186159,
           0.18572775349568738,
           -0.25369149487660986,
           0.715065195135185,
           -0.11169031312493002,
           0.6972005927206456,
           0.7573731889240164,
           -0.2306907098451477,
           0.20460716594748168,
           0.1869035156858978,
           0.3581266692410426,
           -0.1281207690727424,
           -0.037487617862673565,
           1,
           0.3599207542210483,
           0.993707916102949,
           0.9840145644590742,
           0.21657443125969564,
           0.47582003746014645,
           0.5739747080993033,
           0.7874238517122407,
           0.2435292042913138,
           0.09349197867930178
          ],
          [
           0.4569028213967985,
           0.29700764398637336,
           0.912044588840421,
           0.30303837155715024,
           0.287488627121397,
           0.03607179878564654,
           0.2481328332774173,
           0.2998788887096908,
           0.2927517130015173,
           0.0906506881166432,
           -0.05126920203676535,
           0.19479855683425132,
           0.4090027663153059,
           0.2003708539594511,
           0.19649664907281025,
           -0.07474296487675623,
           0.1430025832957166,
           0.10024098374834615,
           0.08674120994286846,
           -0.0774734201840788,
           -0.0031950288680895906,
           0.3599207542210483,
           1,
           0.3650982454086192,
           0.3458422825267967,
           0.22542941490948662,
           0.36083233859797315,
           0.3683656074599454,
           0.3597546095250358,
           0.23302746144531727,
           0.21912242546315883
          ],
          [
           0.7829141371737594,
           0.9651365139559871,
           0.35803957505322415,
           0.9703868870426394,
           0.9591195743552645,
           0.23885262620915101,
           0.590210427731298,
           0.7295649165132018,
           0.8559231281343119,
           0.21916855911105818,
           -0.20515121126277344,
           0.7196838036650044,
           -0.10224192188743278,
           0.7210313099890175,
           0.7612126360687592,
           -0.21730375458186166,
           0.26051583964720865,
           0.22668042559090154,
           0.3949992517741845,
           -0.10375304384332498,
           -0.0010003976259669379,
           0.993707916102949,
           0.3650982454086192,
           1,
           0.9775780914063871,
           0.23677460388606966,
           0.5294076901641023,
           0.6183440795335158,
           0.8163221016875439,
           0.26949276908381714,
           0.13895686184575767
          ],
          [
           0.7338250349210504,
           0.9410824595860461,
           0.3435459471864696,
           0.9415498080023068,
           0.9592133256498998,
           0.20671836342857688,
           0.50960380555792,
           0.6759872313060872,
           0.809629619909618,
           0.1771933773740968,
           -0.2318544511675603,
           0.7515484761266196,
           -0.08319498858504636,
           0.7307129731302829,
           0.8114079609317274,
           -0.182195478059099,
           0.19937132909101393,
           0.18835265208953067,
           0.3422711620926815,
           -0.11034274289549834,
           -0.022736147308900636,
           0.9840145644590742,
           0.3458422825267967,
           0.9775780914063871,
           1,
           0.20914533376028963,
           0.4382962837796741,
           0.5433305254110798,
           0.7474188023228167,
           0.2091455083870789,
           0.07964703402467602
          ],
          [
           0.4214648610664026,
           0.11961613992160802,
           0.077503358822129,
           0.1505494043170374,
           0.12352293875557084,
           0.8053241954943627,
           0.5655411663750888,
           0.44882203840476004,
           0.4527530541790488,
           0.4266750263849464,
           0.5049420753517612,
           0.14191855291860658,
           -0.07365765910118513,
           0.1300543919910096,
           0.12538943051609117,
           0.31445745598082797,
           0.22739423230542308,
           0.16848132079136754,
           0.21535059681593355,
           -0.012661799565908998,
           0.17056831595314176,
           0.21657443125969564,
           0.22542941490948662,
           0.23677460388606966,
           0.20914533376028963,
           1,
           0.5681865166856064,
           0.5185232928640015,
           0.5476909029497875,
           0.4938383302357591,
           0.6176241916554379
          ],
          [
           0.5909982378417918,
           0.4134628230608015,
           0.2778295924789794,
           0.45577422803832723,
           0.39041030924249864,
           0.4724684437304436,
           0.8658090398022629,
           0.7549680159063962,
           0.6674536768257124,
           0.4732000132446185,
           0.4587981566678596,
           0.28710316560074034,
           -0.09243935361819372,
           0.3419194453712055,
           0.28325653753745555,
           -0.05555813871505085,
           0.6787803543724954,
           0.4848578006864688,
           0.4528883773698806,
           0.06025487946536686,
           0.39015884208667484,
           0.47582003746014645,
           0.36083233859797315,
           0.5294076901641023,
           0.4382962837796741,
           0.5681865166856064,
           1,
           0.8922608987764685,
           0.8010803646352528,
           0.6144405011493067,
           0.8104548563116117
          ],
          [
           0.6596102103692332,
           0.5269114618385448,
           0.30102522381649116,
           0.5638792634736619,
           0.5126059204433239,
           0.4349257147250878,
           0.8162752498000281,
           0.8841026390943817,
           0.7523994975749643,
           0.433721007590172,
           0.3462338763480676,
           0.38058463462872194,
           -0.06895622054645592,
           0.4188988157305714,
           0.38510013559852924,
           -0.05829838674344549,
           0.6391466977559193,
           0.6625641337427411,
           0.5495923752351922,
           0.03711904859992839,
           0.3799746614570792,
           0.5739747080993033,
           0.3683656074599454,
           0.6183440795335158,
           0.5433305254110798,
           0.5185232928640015,
           0.8922608987764685,
           1,
           0.8554338603439982,
           0.5325197291183627,
           0.6865109212448633
          ],
          [
           0.7935660171412694,
           0.7442141978674661,
           0.2953158433377364,
           0.7712407893605497,
           0.7220166262603579,
           0.503053353298951,
           0.8155732235690644,
           0.861323033637951,
           0.9101553142985918,
           0.4302966114579543,
           0.17532544924324475,
           0.5310623278216046,
           -0.11963752313984607,
           0.5548972306282103,
           0.5381663138957359,
           -0.10200679633746537,
           0.48320832682561315,
           0.44047226304622294,
           0.6024496059209876,
           -0.03041339642360094,
           0.21520401331002892,
           0.7874238517122407,
           0.3597546095250358,
           0.8163221016875439,
           0.7474188023228167,
           0.5476909029497875,
           0.8010803646352528,
           0.8554338603439982,
           1,
           0.5025284938306981,
           0.5111141458863395
          ],
          [
           0.4162943110486197,
           0.1639533349363072,
           0.10500791031597205,
           0.18911504046245775,
           0.1435699138890717,
           0.39430948181175646,
           0.5102234299218061,
           0.4094641265399853,
           0.3757441454236111,
           0.6998257976437302,
           0.3340186838510839,
           0.09454283035438187,
           -0.12821475779252947,
           0.1099304342313503,
           0.07412629159952816,
           -0.10734209778914477,
           0.277878430714635,
           0.19778782186141097,
           0.14311566863305003,
           0.38940248488464646,
           0.11109395575572399,
           0.2435292042913138,
           0.23302746144531727,
           0.26949276908381714,
           0.2091455083870789,
           0.4938383302357591,
           0.6144405011493067,
           0.5325197291183627,
           0.5025284938306981,
           1,
           0.537848206253609
          ],
          [
           0.32387218872082474,
           0.007065885692182479,
           0.11920535139708567,
           0.05101852972340705,
           0.003737597351571729,
           0.4993163685937669,
           0.6873823227538974,
           0.5149298906363856,
           0.36866113371677106,
           0.4384134984446025,
           0.7672967792384361,
           0.049559432464573124,
           -0.045654568593207025,
           0.0854325720566574,
           0.017539295132385505,
           0.10148031504252508,
           0.5909727625047895,
           0.43932926857579074,
           0.31065455149383064,
           0.07807947627266758,
           0.5913280656608751,
           0.09349197867930178,
           0.21912242546315883,
           0.13895686184575767,
           0.07964703402467602,
           0.6176241916554379,
           0.8104548563116117,
           0.6865109212448633,
           0.5111141458863395,
           0.537848206253609,
           1
          ]
         ]
        }
       ],
       "layout": {
        "coloraxis": {
         "colorscale": [
          [
           0,
           "#0d0887"
          ],
          [
           0.1111111111111111,
           "#46039f"
          ],
          [
           0.2222222222222222,
           "#7201a8"
          ],
          [
           0.3333333333333333,
           "#9c179e"
          ],
          [
           0.4444444444444444,
           "#bd3786"
          ],
          [
           0.5555555555555556,
           "#d8576b"
          ],
          [
           0.6666666666666666,
           "#ed7953"
          ],
          [
           0.7777777777777778,
           "#fb9f3a"
          ],
          [
           0.8888888888888888,
           "#fdca26"
          ],
          [
           1,
           "#f0f921"
          ]
         ]
        },
        "template": {
         "data": {
          "bar": [
           {
            "error_x": {
             "color": "#2a3f5f"
            },
            "error_y": {
             "color": "#2a3f5f"
            },
            "marker": {
             "line": {
              "color": "#E5ECF6",
              "width": 0.5
             },
             "pattern": {
              "fillmode": "overlay",
              "size": 10,
              "solidity": 0.2
             }
            },
            "type": "bar"
           }
          ],
          "barpolar": [
           {
            "marker": {
             "line": {
              "color": "#E5ECF6",
              "width": 0.5
             },
             "pattern": {
              "fillmode": "overlay",
              "size": 10,
              "solidity": 0.2
             }
            },
            "type": "barpolar"
           }
          ],
          "carpet": [
           {
            "aaxis": {
             "endlinecolor": "#2a3f5f",
             "gridcolor": "white",
             "linecolor": "white",
             "minorgridcolor": "white",
             "startlinecolor": "#2a3f5f"
            },
            "baxis": {
             "endlinecolor": "#2a3f5f",
             "gridcolor": "white",
             "linecolor": "white",
             "minorgridcolor": "white",
             "startlinecolor": "#2a3f5f"
            },
            "type": "carpet"
           }
          ],
          "choropleth": [
           {
            "colorbar": {
             "outlinewidth": 0,
             "ticks": ""
            },
            "type": "choropleth"
           }
          ],
          "contour": [
           {
            "colorbar": {
             "outlinewidth": 0,
             "ticks": ""
            },
            "colorscale": [
             [
              0,
              "#0d0887"
             ],
             [
              0.1111111111111111,
              "#46039f"
             ],
             [
              0.2222222222222222,
              "#7201a8"
             ],
             [
              0.3333333333333333,
              "#9c179e"
             ],
             [
              0.4444444444444444,
              "#bd3786"
             ],
             [
              0.5555555555555556,
              "#d8576b"
             ],
             [
              0.6666666666666666,
              "#ed7953"
             ],
             [
              0.7777777777777778,
              "#fb9f3a"
             ],
             [
              0.8888888888888888,
              "#fdca26"
             ],
             [
              1,
              "#f0f921"
             ]
            ],
            "type": "contour"
           }
          ],
          "contourcarpet": [
           {
            "colorbar": {
             "outlinewidth": 0,
             "ticks": ""
            },
            "type": "contourcarpet"
           }
          ],
          "heatmap": [
           {
            "colorbar": {
             "outlinewidth": 0,
             "ticks": ""
            },
            "colorscale": [
             [
              0,
              "#0d0887"
             ],
             [
              0.1111111111111111,
              "#46039f"
             ],
             [
              0.2222222222222222,
              "#7201a8"
             ],
             [
              0.3333333333333333,
              "#9c179e"
             ],
             [
              0.4444444444444444,
              "#bd3786"
             ],
             [
              0.5555555555555556,
              "#d8576b"
             ],
             [
              0.6666666666666666,
              "#ed7953"
             ],
             [
              0.7777777777777778,
              "#fb9f3a"
             ],
             [
              0.8888888888888888,
              "#fdca26"
             ],
             [
              1,
              "#f0f921"
             ]
            ],
            "type": "heatmap"
           }
          ],
          "heatmapgl": [
           {
            "colorbar": {
             "outlinewidth": 0,
             "ticks": ""
            },
            "colorscale": [
             [
              0,
              "#0d0887"
             ],
             [
              0.1111111111111111,
              "#46039f"
             ],
             [
              0.2222222222222222,
              "#7201a8"
             ],
             [
              0.3333333333333333,
              "#9c179e"
             ],
             [
              0.4444444444444444,
              "#bd3786"
             ],
             [
              0.5555555555555556,
              "#d8576b"
             ],
             [
              0.6666666666666666,
              "#ed7953"
             ],
             [
              0.7777777777777778,
              "#fb9f3a"
             ],
             [
              0.8888888888888888,
              "#fdca26"
             ],
             [
              1,
              "#f0f921"
             ]
            ],
            "type": "heatmapgl"
           }
          ],
          "histogram": [
           {
            "marker": {
             "pattern": {
              "fillmode": "overlay",
              "size": 10,
              "solidity": 0.2
             }
            },
            "type": "histogram"
           }
          ],
          "histogram2d": [
           {
            "colorbar": {
             "outlinewidth": 0,
             "ticks": ""
            },
            "colorscale": [
             [
              0,
              "#0d0887"
             ],
             [
              0.1111111111111111,
              "#46039f"
             ],
             [
              0.2222222222222222,
              "#7201a8"
             ],
             [
              0.3333333333333333,
              "#9c179e"
             ],
             [
              0.4444444444444444,
              "#bd3786"
             ],
             [
              0.5555555555555556,
              "#d8576b"
             ],
             [
              0.6666666666666666,
              "#ed7953"
             ],
             [
              0.7777777777777778,
              "#fb9f3a"
             ],
             [
              0.8888888888888888,
              "#fdca26"
             ],
             [
              1,
              "#f0f921"
             ]
            ],
            "type": "histogram2d"
           }
          ],
          "histogram2dcontour": [
           {
            "colorbar": {
             "outlinewidth": 0,
             "ticks": ""
            },
            "colorscale": [
             [
              0,
              "#0d0887"
             ],
             [
              0.1111111111111111,
              "#46039f"
             ],
             [
              0.2222222222222222,
              "#7201a8"
             ],
             [
              0.3333333333333333,
              "#9c179e"
             ],
             [
              0.4444444444444444,
              "#bd3786"
             ],
             [
              0.5555555555555556,
              "#d8576b"
             ],
             [
              0.6666666666666666,
              "#ed7953"
             ],
             [
              0.7777777777777778,
              "#fb9f3a"
             ],
             [
              0.8888888888888888,
              "#fdca26"
             ],
             [
              1,
              "#f0f921"
             ]
            ],
            "type": "histogram2dcontour"
           }
          ],
          "mesh3d": [
           {
            "colorbar": {
             "outlinewidth": 0,
             "ticks": ""
            },
            "type": "mesh3d"
           }
          ],
          "parcoords": [
           {
            "line": {
             "colorbar": {
              "outlinewidth": 0,
              "ticks": ""
             }
            },
            "type": "parcoords"
           }
          ],
          "pie": [
           {
            "automargin": true,
            "type": "pie"
           }
          ],
          "scatter": [
           {
            "fillpattern": {
             "fillmode": "overlay",
             "size": 10,
             "solidity": 0.2
            },
            "type": "scatter"
           }
          ],
          "scatter3d": [
           {
            "line": {
             "colorbar": {
              "outlinewidth": 0,
              "ticks": ""
             }
            },
            "marker": {
             "colorbar": {
              "outlinewidth": 0,
              "ticks": ""
             }
            },
            "type": "scatter3d"
           }
          ],
          "scattercarpet": [
           {
            "marker": {
             "colorbar": {
              "outlinewidth": 0,
              "ticks": ""
             }
            },
            "type": "scattercarpet"
           }
          ],
          "scattergeo": [
           {
            "marker": {
             "colorbar": {
              "outlinewidth": 0,
              "ticks": ""
             }
            },
            "type": "scattergeo"
           }
          ],
          "scattergl": [
           {
            "marker": {
             "colorbar": {
              "outlinewidth": 0,
              "ticks": ""
             }
            },
            "type": "scattergl"
           }
          ],
          "scattermapbox": [
           {
            "marker": {
             "colorbar": {
              "outlinewidth": 0,
              "ticks": ""
             }
            },
            "type": "scattermapbox"
           }
          ],
          "scatterpolar": [
           {
            "marker": {
             "colorbar": {
              "outlinewidth": 0,
              "ticks": ""
             }
            },
            "type": "scatterpolar"
           }
          ],
          "scatterpolargl": [
           {
            "marker": {
             "colorbar": {
              "outlinewidth": 0,
              "ticks": ""
             }
            },
            "type": "scatterpolargl"
           }
          ],
          "scatterternary": [
           {
            "marker": {
             "colorbar": {
              "outlinewidth": 0,
              "ticks": ""
             }
            },
            "type": "scatterternary"
           }
          ],
          "surface": [
           {
            "colorbar": {
             "outlinewidth": 0,
             "ticks": ""
            },
            "colorscale": [
             [
              0,
              "#0d0887"
             ],
             [
              0.1111111111111111,
              "#46039f"
             ],
             [
              0.2222222222222222,
              "#7201a8"
             ],
             [
              0.3333333333333333,
              "#9c179e"
             ],
             [
              0.4444444444444444,
              "#bd3786"
             ],
             [
              0.5555555555555556,
              "#d8576b"
             ],
             [
              0.6666666666666666,
              "#ed7953"
             ],
             [
              0.7777777777777778,
              "#fb9f3a"
             ],
             [
              0.8888888888888888,
              "#fdca26"
             ],
             [
              1,
              "#f0f921"
             ]
            ],
            "type": "surface"
           }
          ],
          "table": [
           {
            "cells": {
             "fill": {
              "color": "#EBF0F8"
             },
             "line": {
              "color": "white"
             }
            },
            "header": {
             "fill": {
              "color": "#C8D4E3"
             },
             "line": {
              "color": "white"
             }
            },
            "type": "table"
           }
          ]
         },
         "layout": {
          "annotationdefaults": {
           "arrowcolor": "#2a3f5f",
           "arrowhead": 0,
           "arrowwidth": 1
          },
          "autotypenumbers": "strict",
          "coloraxis": {
           "colorbar": {
            "outlinewidth": 0,
            "ticks": ""
           }
          },
          "colorscale": {
           "diverging": [
            [
             0,
             "#8e0152"
            ],
            [
             0.1,
             "#c51b7d"
            ],
            [
             0.2,
             "#de77ae"
            ],
            [
             0.3,
             "#f1b6da"
            ],
            [
             0.4,
             "#fde0ef"
            ],
            [
             0.5,
             "#f7f7f7"
            ],
            [
             0.6,
             "#e6f5d0"
            ],
            [
             0.7,
             "#b8e186"
            ],
            [
             0.8,
             "#7fbc41"
            ],
            [
             0.9,
             "#4d9221"
            ],
            [
             1,
             "#276419"
            ]
           ],
           "sequential": [
            [
             0,
             "#0d0887"
            ],
            [
             0.1111111111111111,
             "#46039f"
            ],
            [
             0.2222222222222222,
             "#7201a8"
            ],
            [
             0.3333333333333333,
             "#9c179e"
            ],
            [
             0.4444444444444444,
             "#bd3786"
            ],
            [
             0.5555555555555556,
             "#d8576b"
            ],
            [
             0.6666666666666666,
             "#ed7953"
            ],
            [
             0.7777777777777778,
             "#fb9f3a"
            ],
            [
             0.8888888888888888,
             "#fdca26"
            ],
            [
             1,
             "#f0f921"
            ]
           ],
           "sequentialminus": [
            [
             0,
             "#0d0887"
            ],
            [
             0.1111111111111111,
             "#46039f"
            ],
            [
             0.2222222222222222,
             "#7201a8"
            ],
            [
             0.3333333333333333,
             "#9c179e"
            ],
            [
             0.4444444444444444,
             "#bd3786"
            ],
            [
             0.5555555555555556,
             "#d8576b"
            ],
            [
             0.6666666666666666,
             "#ed7953"
            ],
            [
             0.7777777777777778,
             "#fb9f3a"
            ],
            [
             0.8888888888888888,
             "#fdca26"
            ],
            [
             1,
             "#f0f921"
            ]
           ]
          },
          "colorway": [
           "#636efa",
           "#EF553B",
           "#00cc96",
           "#ab63fa",
           "#FFA15A",
           "#19d3f3",
           "#FF6692",
           "#B6E880",
           "#FF97FF",
           "#FECB52"
          ],
          "font": {
           "color": "#2a3f5f"
          },
          "geo": {
           "bgcolor": "white",
           "lakecolor": "white",
           "landcolor": "#E5ECF6",
           "showlakes": true,
           "showland": true,
           "subunitcolor": "white"
          },
          "hoverlabel": {
           "align": "left"
          },
          "hovermode": "closest",
          "mapbox": {
           "style": "light"
          },
          "paper_bgcolor": "white",
          "plot_bgcolor": "#E5ECF6",
          "polar": {
           "angularaxis": {
            "gridcolor": "white",
            "linecolor": "white",
            "ticks": ""
           },
           "bgcolor": "#E5ECF6",
           "radialaxis": {
            "gridcolor": "white",
            "linecolor": "white",
            "ticks": ""
           }
          },
          "scene": {
           "xaxis": {
            "backgroundcolor": "#E5ECF6",
            "gridcolor": "white",
            "gridwidth": 2,
            "linecolor": "white",
            "showbackground": true,
            "ticks": "",
            "zerolinecolor": "white"
           },
           "yaxis": {
            "backgroundcolor": "#E5ECF6",
            "gridcolor": "white",
            "gridwidth": 2,
            "linecolor": "white",
            "showbackground": true,
            "ticks": "",
            "zerolinecolor": "white"
           },
           "zaxis": {
            "backgroundcolor": "#E5ECF6",
            "gridcolor": "white",
            "gridwidth": 2,
            "linecolor": "white",
            "showbackground": true,
            "ticks": "",
            "zerolinecolor": "white"
           }
          },
          "shapedefaults": {
           "line": {
            "color": "#2a3f5f"
           }
          },
          "ternary": {
           "aaxis": {
            "gridcolor": "white",
            "linecolor": "white",
            "ticks": ""
           },
           "baxis": {
            "gridcolor": "white",
            "linecolor": "white",
            "ticks": ""
           },
           "bgcolor": "#E5ECF6",
           "caxis": {
            "gridcolor": "white",
            "linecolor": "white",
            "ticks": ""
           }
          },
          "title": {
           "x": 0.05
          },
          "xaxis": {
           "automargin": true,
           "gridcolor": "white",
           "linecolor": "white",
           "ticks": "",
           "title": {
            "standoff": 15
           },
           "zerolinecolor": "white",
           "zerolinewidth": 2
          },
          "yaxis": {
           "automargin": true,
           "gridcolor": "white",
           "linecolor": "white",
           "ticks": "",
           "title": {
            "standoff": 15
           },
           "zerolinecolor": "white",
           "zerolinewidth": 2
          }
         }
        },
        "title": {
         "text": "Correlation heatmap"
        },
        "xaxis": {
         "anchor": "y",
         "constrain": "domain",
         "domain": [
          0,
          1
         ],
         "scaleanchor": "y"
        },
        "yaxis": {
         "anchor": "x",
         "autorange": "reversed",
         "constrain": "domain",
         "domain": [
          0,
          1
         ]
        }
       }
      }
     },
     "metadata": {},
     "output_type": "display_data"
    }
   ],
   "source": [
    "px.imshow(df.corr(), title=\"Correlation heatmap\")"
   ]
  },
  {
   "cell_type": "markdown",
   "metadata": {},
   "source": [
    "As we're interested basically in the diagnosis, let's see the correlation of all values with the target."
   ]
  },
  {
   "cell_type": "code",
   "execution_count": 11,
   "metadata": {},
   "outputs": [
    {
     "data": {
      "text/plain": [
       "radius_mean                0.730029\n",
       "texture_mean               0.415185\n",
       "perimeter_mean             0.742636\n",
       "area_mean                  0.708984\n",
       "smoothness_mean            0.358560\n",
       "compactness_mean           0.596534\n",
       "concavity_mean             0.696360\n",
       "concave points_mean        0.776614\n",
       "symmetry_mean              0.330499\n",
       "fractal_dimension_mean    -0.012838\n",
       "radius_se                  0.567134\n",
       "texture_se                -0.008303\n",
       "perimeter_se               0.556141\n",
       "area_se                    0.548236\n",
       "smoothness_se             -0.067016\n",
       "compactness_se             0.292999\n",
       "concavity_se               0.253730\n",
       "concave points_se          0.408042\n",
       "symmetry_se               -0.006522\n",
       "fractal_dimension_se       0.077972\n",
       "radius_worst               0.776454\n",
       "texture_worst              0.456903\n",
       "perimeter_worst            0.782914\n",
       "area_worst                 0.733825\n",
       "smoothness_worst           0.421465\n",
       "compactness_worst          0.590998\n",
       "concavity_worst            0.659610\n",
       "concave points_worst       0.793566\n",
       "symmetry_worst             0.416294\n",
       "fractal_dimension_worst    0.323872\n",
       "dtype: float64"
      ]
     },
     "execution_count": 11,
     "metadata": {},
     "output_type": "execute_result"
    }
   ],
   "source": [
    "diag_corr = df.drop('diagnosis', axis=1).apply(lambda x: x.corr(df.diagnosis))\n",
    "diag_corr\n"
   ]
  },
  {
   "cell_type": "markdown",
   "metadata": {},
   "source": [
    "### Logistic Regression\n",
    "First, we have to split the data in test and train sets. To decide the split ratio, we will use the following formula following the article on https://onlinelibrary.wiley.com/doi/full/10.1002/sam.11583\n",
    "\n",
    "<div style='text-align: center;'>\n",
    "\n",
    "$y= \\frac{1}{\\sqrt{p} + 1}$\n",
    "\n",
    "</div>\n",
    "\n",
    "where `y` is the split ratio and `p` is the number of parameters (columns) of the dataset. \n",
    "\n",
    "Then, we have to separate the label of the data (the diagnosis) and use `train_test_split` method to split the data."
   ]
  },
  {
   "cell_type": "code",
   "execution_count": 12,
   "metadata": {},
   "outputs": [
    {
     "name": "stdout",
     "output_type": "stream",
     "text": [
      "Dataset shape: (569, 31), Train shape: (481, 30), Test shape: (88, 30), Split ratio: 0.15\n"
     ]
    }
   ],
   "source": [
    "from sklearn.model_selection import train_test_split\n",
    "\n",
    "split_ratio = 1/((len(df.columns)-1)**0.5 +1)\n",
    "\n",
    "data = df.drop('diagnosis', axis=1)\n",
    "target = df['diagnosis']\n",
    "\n",
    "X_train, X_test, y_train, y_test = train_test_split(data, target, test_size=split_ratio)\n",
    "print(f'Dataset shape: {df.shape}, Train shape: {X_train.shape}, Test shape: {X_test.shape}, Split ratio: {split_ratio:0.2f}')"
   ]
  },
  {
   "cell_type": "markdown",
   "metadata": {},
   "source": [
    "Now let's train the model and see the basic results. We're training the model, and then using the coeficients to predict the diagnosis on the test set. Then, we're take a look at the model's R2 score, and see its confusion matrix."
   ]
  },
  {
   "cell_type": "code",
   "execution_count": 13,
   "metadata": {},
   "outputs": [
    {
     "data": {
      "text/plain": [
       "array([[-1.02512556, -0.1960826 ,  0.35966067, -0.02639061,  0.13075645,\n",
       "         0.21076772,  0.5140902 ,  0.2680418 ,  0.18669756,  0.03093534,\n",
       "         0.10056212, -1.11952496, -0.68358908,  0.15726654,  0.01848275,\n",
       "        -0.02124579,  0.06236395,  0.03671973,  0.03656981, -0.00285507,\n",
       "        -0.03638215,  0.47004251,  0.10594312,  0.01000299,  0.28316841,\n",
       "         0.66046826,  1.39487138,  0.5439676 ,  0.59766937,  0.09417272]])"
      ]
     },
     "execution_count": 13,
     "metadata": {},
     "output_type": "execute_result"
    }
   ],
   "source": [
    "from sklearn.linear_model import LogisticRegression\n",
    "from sklearn.metrics import confusion_matrix\n",
    "\n",
    "model = LogisticRegression(max_iter=10000)\n",
    "model.fit(X_train, y_train)\n",
    "model.coef_"
   ]
  },
  {
   "cell_type": "code",
   "execution_count": 14,
   "metadata": {},
   "outputs": [
    {
     "data": {
      "text/plain": [
       "0.9772727272727273"
      ]
     },
     "execution_count": 14,
     "metadata": {},
     "output_type": "execute_result"
    }
   ],
   "source": [
    "y_pred = model.predict(X_test)\n",
    "model.score(X_test, y_test)"
   ]
  },
  {
   "cell_type": "code",
   "execution_count": 15,
   "metadata": {},
   "outputs": [
    {
     "data": {
      "text/plain": [
       "array([[47,  2],\n",
       "       [ 0, 39]])"
      ]
     },
     "execution_count": 15,
     "metadata": {},
     "output_type": "execute_result"
    }
   ],
   "source": [
    "cm = confusion_matrix(y_test, y_pred)\n",
    "cm"
   ]
  },
  {
   "cell_type": "code",
   "execution_count": 16,
   "metadata": {},
   "outputs": [
    {
     "data": {
      "application/vnd.plotly.v1+json": {
       "config": {
        "plotlyServerURL": "https://plot.ly"
       },
       "data": [
        {
         "coloraxis": "coloraxis",
         "hovertemplate": "Predicted: %{x}<br>Truth: %{y}<br>Number: %{z}<extra></extra>",
         "name": "0",
         "type": "heatmap",
         "x": [
          "Benign",
          "Malign"
         ],
         "xaxis": "x",
         "y": [
          "Benign",
          "Malign"
         ],
         "yaxis": "y",
         "z": [
          [
           47,
           2
          ],
          [
           0,
           39
          ]
         ]
        }
       ],
       "layout": {
        "coloraxis": {
         "colorbar": {
          "title": {
           "text": "Number"
          }
         },
         "colorscale": [
          [
           0,
           "#0d0887"
          ],
          [
           0.1111111111111111,
           "#46039f"
          ],
          [
           0.2222222222222222,
           "#7201a8"
          ],
          [
           0.3333333333333333,
           "#9c179e"
          ],
          [
           0.4444444444444444,
           "#bd3786"
          ],
          [
           0.5555555555555556,
           "#d8576b"
          ],
          [
           0.6666666666666666,
           "#ed7953"
          ],
          [
           0.7777777777777778,
           "#fb9f3a"
          ],
          [
           0.8888888888888888,
           "#fdca26"
          ],
          [
           1,
           "#f0f921"
          ]
         ]
        },
        "template": {
         "data": {
          "bar": [
           {
            "error_x": {
             "color": "#2a3f5f"
            },
            "error_y": {
             "color": "#2a3f5f"
            },
            "marker": {
             "line": {
              "color": "#E5ECF6",
              "width": 0.5
             },
             "pattern": {
              "fillmode": "overlay",
              "size": 10,
              "solidity": 0.2
             }
            },
            "type": "bar"
           }
          ],
          "barpolar": [
           {
            "marker": {
             "line": {
              "color": "#E5ECF6",
              "width": 0.5
             },
             "pattern": {
              "fillmode": "overlay",
              "size": 10,
              "solidity": 0.2
             }
            },
            "type": "barpolar"
           }
          ],
          "carpet": [
           {
            "aaxis": {
             "endlinecolor": "#2a3f5f",
             "gridcolor": "white",
             "linecolor": "white",
             "minorgridcolor": "white",
             "startlinecolor": "#2a3f5f"
            },
            "baxis": {
             "endlinecolor": "#2a3f5f",
             "gridcolor": "white",
             "linecolor": "white",
             "minorgridcolor": "white",
             "startlinecolor": "#2a3f5f"
            },
            "type": "carpet"
           }
          ],
          "choropleth": [
           {
            "colorbar": {
             "outlinewidth": 0,
             "ticks": ""
            },
            "type": "choropleth"
           }
          ],
          "contour": [
           {
            "colorbar": {
             "outlinewidth": 0,
             "ticks": ""
            },
            "colorscale": [
             [
              0,
              "#0d0887"
             ],
             [
              0.1111111111111111,
              "#46039f"
             ],
             [
              0.2222222222222222,
              "#7201a8"
             ],
             [
              0.3333333333333333,
              "#9c179e"
             ],
             [
              0.4444444444444444,
              "#bd3786"
             ],
             [
              0.5555555555555556,
              "#d8576b"
             ],
             [
              0.6666666666666666,
              "#ed7953"
             ],
             [
              0.7777777777777778,
              "#fb9f3a"
             ],
             [
              0.8888888888888888,
              "#fdca26"
             ],
             [
              1,
              "#f0f921"
             ]
            ],
            "type": "contour"
           }
          ],
          "contourcarpet": [
           {
            "colorbar": {
             "outlinewidth": 0,
             "ticks": ""
            },
            "type": "contourcarpet"
           }
          ],
          "heatmap": [
           {
            "colorbar": {
             "outlinewidth": 0,
             "ticks": ""
            },
            "colorscale": [
             [
              0,
              "#0d0887"
             ],
             [
              0.1111111111111111,
              "#46039f"
             ],
             [
              0.2222222222222222,
              "#7201a8"
             ],
             [
              0.3333333333333333,
              "#9c179e"
             ],
             [
              0.4444444444444444,
              "#bd3786"
             ],
             [
              0.5555555555555556,
              "#d8576b"
             ],
             [
              0.6666666666666666,
              "#ed7953"
             ],
             [
              0.7777777777777778,
              "#fb9f3a"
             ],
             [
              0.8888888888888888,
              "#fdca26"
             ],
             [
              1,
              "#f0f921"
             ]
            ],
            "type": "heatmap"
           }
          ],
          "heatmapgl": [
           {
            "colorbar": {
             "outlinewidth": 0,
             "ticks": ""
            },
            "colorscale": [
             [
              0,
              "#0d0887"
             ],
             [
              0.1111111111111111,
              "#46039f"
             ],
             [
              0.2222222222222222,
              "#7201a8"
             ],
             [
              0.3333333333333333,
              "#9c179e"
             ],
             [
              0.4444444444444444,
              "#bd3786"
             ],
             [
              0.5555555555555556,
              "#d8576b"
             ],
             [
              0.6666666666666666,
              "#ed7953"
             ],
             [
              0.7777777777777778,
              "#fb9f3a"
             ],
             [
              0.8888888888888888,
              "#fdca26"
             ],
             [
              1,
              "#f0f921"
             ]
            ],
            "type": "heatmapgl"
           }
          ],
          "histogram": [
           {
            "marker": {
             "pattern": {
              "fillmode": "overlay",
              "size": 10,
              "solidity": 0.2
             }
            },
            "type": "histogram"
           }
          ],
          "histogram2d": [
           {
            "colorbar": {
             "outlinewidth": 0,
             "ticks": ""
            },
            "colorscale": [
             [
              0,
              "#0d0887"
             ],
             [
              0.1111111111111111,
              "#46039f"
             ],
             [
              0.2222222222222222,
              "#7201a8"
             ],
             [
              0.3333333333333333,
              "#9c179e"
             ],
             [
              0.4444444444444444,
              "#bd3786"
             ],
             [
              0.5555555555555556,
              "#d8576b"
             ],
             [
              0.6666666666666666,
              "#ed7953"
             ],
             [
              0.7777777777777778,
              "#fb9f3a"
             ],
             [
              0.8888888888888888,
              "#fdca26"
             ],
             [
              1,
              "#f0f921"
             ]
            ],
            "type": "histogram2d"
           }
          ],
          "histogram2dcontour": [
           {
            "colorbar": {
             "outlinewidth": 0,
             "ticks": ""
            },
            "colorscale": [
             [
              0,
              "#0d0887"
             ],
             [
              0.1111111111111111,
              "#46039f"
             ],
             [
              0.2222222222222222,
              "#7201a8"
             ],
             [
              0.3333333333333333,
              "#9c179e"
             ],
             [
              0.4444444444444444,
              "#bd3786"
             ],
             [
              0.5555555555555556,
              "#d8576b"
             ],
             [
              0.6666666666666666,
              "#ed7953"
             ],
             [
              0.7777777777777778,
              "#fb9f3a"
             ],
             [
              0.8888888888888888,
              "#fdca26"
             ],
             [
              1,
              "#f0f921"
             ]
            ],
            "type": "histogram2dcontour"
           }
          ],
          "mesh3d": [
           {
            "colorbar": {
             "outlinewidth": 0,
             "ticks": ""
            },
            "type": "mesh3d"
           }
          ],
          "parcoords": [
           {
            "line": {
             "colorbar": {
              "outlinewidth": 0,
              "ticks": ""
             }
            },
            "type": "parcoords"
           }
          ],
          "pie": [
           {
            "automargin": true,
            "type": "pie"
           }
          ],
          "scatter": [
           {
            "fillpattern": {
             "fillmode": "overlay",
             "size": 10,
             "solidity": 0.2
            },
            "type": "scatter"
           }
          ],
          "scatter3d": [
           {
            "line": {
             "colorbar": {
              "outlinewidth": 0,
              "ticks": ""
             }
            },
            "marker": {
             "colorbar": {
              "outlinewidth": 0,
              "ticks": ""
             }
            },
            "type": "scatter3d"
           }
          ],
          "scattercarpet": [
           {
            "marker": {
             "colorbar": {
              "outlinewidth": 0,
              "ticks": ""
             }
            },
            "type": "scattercarpet"
           }
          ],
          "scattergeo": [
           {
            "marker": {
             "colorbar": {
              "outlinewidth": 0,
              "ticks": ""
             }
            },
            "type": "scattergeo"
           }
          ],
          "scattergl": [
           {
            "marker": {
             "colorbar": {
              "outlinewidth": 0,
              "ticks": ""
             }
            },
            "type": "scattergl"
           }
          ],
          "scattermapbox": [
           {
            "marker": {
             "colorbar": {
              "outlinewidth": 0,
              "ticks": ""
             }
            },
            "type": "scattermapbox"
           }
          ],
          "scatterpolar": [
           {
            "marker": {
             "colorbar": {
              "outlinewidth": 0,
              "ticks": ""
             }
            },
            "type": "scatterpolar"
           }
          ],
          "scatterpolargl": [
           {
            "marker": {
             "colorbar": {
              "outlinewidth": 0,
              "ticks": ""
             }
            },
            "type": "scatterpolargl"
           }
          ],
          "scatterternary": [
           {
            "marker": {
             "colorbar": {
              "outlinewidth": 0,
              "ticks": ""
             }
            },
            "type": "scatterternary"
           }
          ],
          "surface": [
           {
            "colorbar": {
             "outlinewidth": 0,
             "ticks": ""
            },
            "colorscale": [
             [
              0,
              "#0d0887"
             ],
             [
              0.1111111111111111,
              "#46039f"
             ],
             [
              0.2222222222222222,
              "#7201a8"
             ],
             [
              0.3333333333333333,
              "#9c179e"
             ],
             [
              0.4444444444444444,
              "#bd3786"
             ],
             [
              0.5555555555555556,
              "#d8576b"
             ],
             [
              0.6666666666666666,
              "#ed7953"
             ],
             [
              0.7777777777777778,
              "#fb9f3a"
             ],
             [
              0.8888888888888888,
              "#fdca26"
             ],
             [
              1,
              "#f0f921"
             ]
            ],
            "type": "surface"
           }
          ],
          "table": [
           {
            "cells": {
             "fill": {
              "color": "#EBF0F8"
             },
             "line": {
              "color": "white"
             }
            },
            "header": {
             "fill": {
              "color": "#C8D4E3"
             },
             "line": {
              "color": "white"
             }
            },
            "type": "table"
           }
          ]
         },
         "layout": {
          "annotationdefaults": {
           "arrowcolor": "#2a3f5f",
           "arrowhead": 0,
           "arrowwidth": 1
          },
          "autotypenumbers": "strict",
          "coloraxis": {
           "colorbar": {
            "outlinewidth": 0,
            "ticks": ""
           }
          },
          "colorscale": {
           "diverging": [
            [
             0,
             "#8e0152"
            ],
            [
             0.1,
             "#c51b7d"
            ],
            [
             0.2,
             "#de77ae"
            ],
            [
             0.3,
             "#f1b6da"
            ],
            [
             0.4,
             "#fde0ef"
            ],
            [
             0.5,
             "#f7f7f7"
            ],
            [
             0.6,
             "#e6f5d0"
            ],
            [
             0.7,
             "#b8e186"
            ],
            [
             0.8,
             "#7fbc41"
            ],
            [
             0.9,
             "#4d9221"
            ],
            [
             1,
             "#276419"
            ]
           ],
           "sequential": [
            [
             0,
             "#0d0887"
            ],
            [
             0.1111111111111111,
             "#46039f"
            ],
            [
             0.2222222222222222,
             "#7201a8"
            ],
            [
             0.3333333333333333,
             "#9c179e"
            ],
            [
             0.4444444444444444,
             "#bd3786"
            ],
            [
             0.5555555555555556,
             "#d8576b"
            ],
            [
             0.6666666666666666,
             "#ed7953"
            ],
            [
             0.7777777777777778,
             "#fb9f3a"
            ],
            [
             0.8888888888888888,
             "#fdca26"
            ],
            [
             1,
             "#f0f921"
            ]
           ],
           "sequentialminus": [
            [
             0,
             "#0d0887"
            ],
            [
             0.1111111111111111,
             "#46039f"
            ],
            [
             0.2222222222222222,
             "#7201a8"
            ],
            [
             0.3333333333333333,
             "#9c179e"
            ],
            [
             0.4444444444444444,
             "#bd3786"
            ],
            [
             0.5555555555555556,
             "#d8576b"
            ],
            [
             0.6666666666666666,
             "#ed7953"
            ],
            [
             0.7777777777777778,
             "#fb9f3a"
            ],
            [
             0.8888888888888888,
             "#fdca26"
            ],
            [
             1,
             "#f0f921"
            ]
           ]
          },
          "colorway": [
           "#636efa",
           "#EF553B",
           "#00cc96",
           "#ab63fa",
           "#FFA15A",
           "#19d3f3",
           "#FF6692",
           "#B6E880",
           "#FF97FF",
           "#FECB52"
          ],
          "font": {
           "color": "#2a3f5f"
          },
          "geo": {
           "bgcolor": "white",
           "lakecolor": "white",
           "landcolor": "#E5ECF6",
           "showlakes": true,
           "showland": true,
           "subunitcolor": "white"
          },
          "hoverlabel": {
           "align": "left"
          },
          "hovermode": "closest",
          "mapbox": {
           "style": "light"
          },
          "paper_bgcolor": "white",
          "plot_bgcolor": "#E5ECF6",
          "polar": {
           "angularaxis": {
            "gridcolor": "white",
            "linecolor": "white",
            "ticks": ""
           },
           "bgcolor": "#E5ECF6",
           "radialaxis": {
            "gridcolor": "white",
            "linecolor": "white",
            "ticks": ""
           }
          },
          "scene": {
           "xaxis": {
            "backgroundcolor": "#E5ECF6",
            "gridcolor": "white",
            "gridwidth": 2,
            "linecolor": "white",
            "showbackground": true,
            "ticks": "",
            "zerolinecolor": "white"
           },
           "yaxis": {
            "backgroundcolor": "#E5ECF6",
            "gridcolor": "white",
            "gridwidth": 2,
            "linecolor": "white",
            "showbackground": true,
            "ticks": "",
            "zerolinecolor": "white"
           },
           "zaxis": {
            "backgroundcolor": "#E5ECF6",
            "gridcolor": "white",
            "gridwidth": 2,
            "linecolor": "white",
            "showbackground": true,
            "ticks": "",
            "zerolinecolor": "white"
           }
          },
          "shapedefaults": {
           "line": {
            "color": "#2a3f5f"
           }
          },
          "ternary": {
           "aaxis": {
            "gridcolor": "white",
            "linecolor": "white",
            "ticks": ""
           },
           "baxis": {
            "gridcolor": "white",
            "linecolor": "white",
            "ticks": ""
           },
           "bgcolor": "#E5ECF6",
           "caxis": {
            "gridcolor": "white",
            "linecolor": "white",
            "ticks": ""
           }
          },
          "title": {
           "x": 0.05
          },
          "xaxis": {
           "automargin": true,
           "gridcolor": "white",
           "linecolor": "white",
           "ticks": "",
           "title": {
            "standoff": 15
           },
           "zerolinecolor": "white",
           "zerolinewidth": 2
          },
          "yaxis": {
           "automargin": true,
           "gridcolor": "white",
           "linecolor": "white",
           "ticks": "",
           "title": {
            "standoff": 15
           },
           "zerolinecolor": "white",
           "zerolinewidth": 2
          }
         }
        },
        "title": {
         "text": "Logistic regression model confusion matrix"
        },
        "xaxis": {
         "anchor": "y",
         "constrain": "domain",
         "domain": [
          0,
          1
         ],
         "scaleanchor": "y",
         "title": {
          "text": "Predicted"
         }
        },
        "yaxis": {
         "anchor": "x",
         "autorange": "reversed",
         "constrain": "domain",
         "domain": [
          0,
          1
         ],
         "title": {
          "text": "Truth"
         }
        }
       }
      }
     },
     "metadata": {},
     "output_type": "display_data"
    }
   ],
   "source": [
    "px.imshow(cm, \n",
    "          title='Logistic regression model confusion matrix',\n",
    "          labels=dict(x='Predicted', y='Truth', color='Number'),\n",
    "          x=['Benign','Malign'],\n",
    "          y=['Benign','Malign'])"
   ]
  },
  {
   "cell_type": "markdown",
   "metadata": {},
   "source": [
    "We see that with 10000 itearations, the model gives us pretty good results. We get an R2 score of almost 0.97, and a quick exploration of the confusion matrix is also positive. \n",
    "\n",
    "But let's see how other algorithms perform in this situation."
   ]
  },
  {
   "cell_type": "markdown",
   "metadata": {},
   "source": [
    "### Decision trees\n",
    "A decission tree basically classifies data using dicotomic paths to divide the data in groups. At the end of the \"branches\" we'll have the different clusters.\n",
    "\n",
    "As an example, here we have a cloud of four types of points, and below we see the steps the decission tree makes to separate the values.\n",
    "![](data:image/png;base64,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)\n",
    "![](https://github.com/jakevdp/PythonDataScienceHandbook/blob/master/notebooks/figures/05.08-decision-tree-levels.png?raw=1)\n"
   ]
  },
  {
   "cell_type": "markdown",
   "metadata": {},
   "source": [
    "It's very easy to train the model and see the results as a tree. The difficult part is to choose the correct hyperparameters. The main problem with decission trees is that if the depth is high, we can easily run into overfitting. See for example the fourth picture above, we see that at depth 4, the models starts to make even more little partitions that doesn't really make sense. \n",
    "\n",
    "The DecissionTreeClassifiers uses different metrics to decide which feature to use for the partition, how to divide the tree, how to measure the quality of a split, how deep should the tree go... The quality of the split can be measured using different criteria:\n",
    "- Entropy: is a basic measure of impurity (or disorder) in a given group. The higher this value, the more heterogeneous the group is.\n",
    "- Gini: is the propability of labeling incorrectly any element picked at random. \n",
    "  - For example,for two classes, if this value is 0.5, it means that the elements are labeled randomly with no proper thinking.\n",
    "  - A value of one indicates that all elements are labeled incorrectly."
   ]
  },
  {
   "cell_type": "code",
   "execution_count": 17,
   "metadata": {},
   "outputs": [
    {
     "data": {
      "text/plain": [
       "0.9090909090909091"
      ]
     },
     "execution_count": 17,
     "metadata": {},
     "output_type": "execute_result"
    }
   ],
   "source": [
    "from sklearn.tree import DecisionTreeClassifier, plot_tree, export_graphviz\n",
    "import matplotlib.pyplot as plt\n",
    "\n",
    "model = DecisionTreeClassifier(criterion=\"gini\")\n",
    "model.fit(X_train, y_train)\n",
    "model.score(X_test, y_test)"
   ]
  },
  {
   "cell_type": "markdown",
   "metadata": {},
   "source": [
    "With the graphviz module, we can plot a graph showing the decission path of the tree. For example, the first partition is made based on the feature concave points_worst. "
   ]
  },
  {
   "cell_type": "code",
   "execution_count": 18,
   "metadata": {},
   "outputs": [
    {
     "data": {
      "image/svg+xml": "<?xml version=\"1.0\" encoding=\"UTF-8\" standalone=\"no\"?>\n<!DOCTYPE svg PUBLIC \"-//W3C//DTD SVG 1.1//EN\"\n \"http://www.w3.org/Graphics/SVG/1.1/DTD/svg11.dtd\">\n<!-- Generated by graphviz version 2.50.0 (0)\n -->\n<!-- Title: Tree Pages: 1 -->\n<svg width=\"1592pt\" height=\"909pt\"\n viewBox=\"0.00 0.00 1592.00 909.00\" xmlns=\"http://www.w3.org/2000/svg\" xmlns:xlink=\"http://www.w3.org/1999/xlink\">\n<g id=\"graph0\" class=\"graph\" transform=\"scale(1 1) rotate(0) translate(4 905)\">\n<title>Tree</title>\n<polygon fill=\"white\" stroke=\"transparent\" points=\"-4,4 -4,-905 1588,-905 1588,4 -4,4\"/>\n<!-- 0 -->\n<g id=\"node1\" class=\"node\">\n<title>0</title>\n<path fill=\"#f4c8a8\" stroke=\"black\" d=\"M1255.5,-901C1255.5,-901 1130.5,-901 1130.5,-901 1124.5,-901 1118.5,-895 1118.5,-889 1118.5,-889 1118.5,-830 1118.5,-830 1118.5,-824 1124.5,-818 1130.5,-818 1130.5,-818 1255.5,-818 1255.5,-818 1261.5,-818 1267.5,-824 1267.5,-830 1267.5,-830 1267.5,-889 1267.5,-889 1267.5,-895 1261.5,-901 1255.5,-901\"/>\n<text text-anchor=\"start\" x=\"1126.5\" y=\"-885.8\" font-family=\"Helvetica,sans-Serif\" font-size=\"14.00\">radius_worst ≤ 16.795</text>\n<text text-anchor=\"start\" x=\"1157.5\" y=\"-870.8\" font-family=\"Helvetica,sans-Serif\" font-size=\"14.00\">gini = 0.461</text>\n<text text-anchor=\"start\" x=\"1148\" y=\"-855.8\" font-family=\"Helvetica,sans-Serif\" font-size=\"14.00\">samples = 481</text>\n<text text-anchor=\"start\" x=\"1138.5\" y=\"-840.8\" font-family=\"Helvetica,sans-Serif\" font-size=\"14.00\">value = [308, 173]</text>\n<text text-anchor=\"start\" x=\"1148.5\" y=\"-825.8\" font-family=\"Helvetica,sans-Serif\" font-size=\"14.00\">class = Benign</text>\n</g>\n<!-- 1 -->\n<g id=\"node2\" class=\"node\">\n<title>1</title>\n<path fill=\"#e88d4c\" stroke=\"black\" d=\"M1147.5,-782C1147.5,-782 976.5,-782 976.5,-782 970.5,-782 964.5,-776 964.5,-770 964.5,-770 964.5,-711 964.5,-711 964.5,-705 970.5,-699 976.5,-699 976.5,-699 1147.5,-699 1147.5,-699 1153.5,-699 1159.5,-705 1159.5,-711 1159.5,-711 1159.5,-770 1159.5,-770 1159.5,-776 1153.5,-782 1147.5,-782\"/>\n<text text-anchor=\"start\" x=\"972.5\" y=\"-766.8\" font-family=\"Helvetica,sans-Serif\" font-size=\"14.00\">concave points_worst ≤ 0.151</text>\n<text text-anchor=\"start\" x=\"1026.5\" y=\"-751.8\" font-family=\"Helvetica,sans-Serif\" font-size=\"14.00\">gini = 0.161</text>\n<text text-anchor=\"start\" x=\"1017\" y=\"-736.8\" font-family=\"Helvetica,sans-Serif\" font-size=\"14.00\">samples = 328</text>\n<text text-anchor=\"start\" x=\"1011.5\" y=\"-721.8\" font-family=\"Helvetica,sans-Serif\" font-size=\"14.00\">value = [299, 29]</text>\n<text text-anchor=\"start\" x=\"1017.5\" y=\"-706.8\" font-family=\"Helvetica,sans-Serif\" font-size=\"14.00\">class = Benign</text>\n</g>\n<!-- 0&#45;&gt;1 -->\n<g id=\"edge1\" class=\"edge\">\n<title>0&#45;&gt;1</title>\n<path fill=\"none\" stroke=\"black\" d=\"M1147.55,-817.91C1137.08,-808.56 1125.86,-798.54 1115.1,-788.93\"/>\n<polygon fill=\"black\" stroke=\"black\" points=\"1117.16,-786.07 1107.37,-782.02 1112.5,-791.29 1117.16,-786.07\"/>\n<text text-anchor=\"middle\" x=\"1108.78\" y=\"-803.28\" font-family=\"Helvetica,sans-Serif\" font-size=\"14.00\">True</text>\n</g>\n<!-- 28 -->\n<g id=\"node29\" class=\"node\">\n<title>28</title>\n<path fill=\"#45a3e7\" stroke=\"black\" d=\"M1363,-782C1363,-782 1223,-782 1223,-782 1217,-782 1211,-776 1211,-770 1211,-770 1211,-711 1211,-711 1211,-705 1217,-699 1223,-699 1223,-699 1363,-699 1363,-699 1369,-699 1375,-705 1375,-711 1375,-711 1375,-770 1375,-770 1375,-776 1369,-782 1363,-782\"/>\n<text text-anchor=\"start\" x=\"1219\" y=\"-766.8\" font-family=\"Helvetica,sans-Serif\" font-size=\"14.00\">concavity_mean ≤ 0.068</text>\n<text text-anchor=\"start\" x=\"1258\" y=\"-751.8\" font-family=\"Helvetica,sans-Serif\" font-size=\"14.00\">gini = 0.111</text>\n<text text-anchor=\"start\" x=\"1248\" y=\"-736.8\" font-family=\"Helvetica,sans-Serif\" font-size=\"14.00\">samples = 153</text>\n<text text-anchor=\"start\" x=\"1246\" y=\"-721.8\" font-family=\"Helvetica,sans-Serif\" font-size=\"14.00\">value = [9, 144]</text>\n<text text-anchor=\"start\" x=\"1249\" y=\"-706.8\" font-family=\"Helvetica,sans-Serif\" font-size=\"14.00\">class = Malign</text>\n</g>\n<!-- 0&#45;&gt;28 -->\n<g id=\"edge28\" class=\"edge\">\n<title>0&#45;&gt;28</title>\n<path fill=\"none\" stroke=\"black\" d=\"M1227.69,-817.91C1235.45,-808.83 1243.75,-799.12 1251.74,-789.77\"/>\n<polygon fill=\"black\" stroke=\"black\" points=\"1254.53,-791.9 1258.37,-782.02 1249.21,-787.35 1254.53,-791.9\"/>\n<text text-anchor=\"middle\" x=\"1260.32\" y=\"-803.24\" font-family=\"Helvetica,sans-Serif\" font-size=\"14.00\">False</text>\n</g>\n<!-- 2 -->\n<g id=\"node3\" class=\"node\">\n<title>2</title>\n<path fill=\"#e68640\" stroke=\"black\" d=\"M885.5,-663C885.5,-663 714.5,-663 714.5,-663 708.5,-663 702.5,-657 702.5,-651 702.5,-651 702.5,-592 702.5,-592 702.5,-586 708.5,-580 714.5,-580 714.5,-580 885.5,-580 885.5,-580 891.5,-580 897.5,-586 897.5,-592 897.5,-592 897.5,-651 897.5,-651 897.5,-657 891.5,-663 885.5,-663\"/>\n<text text-anchor=\"start\" x=\"710.5\" y=\"-647.8\" font-family=\"Helvetica,sans-Serif\" font-size=\"14.00\">concave points_worst ≤ 0.136</text>\n<text text-anchor=\"start\" x=\"764.5\" y=\"-632.8\" font-family=\"Helvetica,sans-Serif\" font-size=\"14.00\">gini = 0.069</text>\n<text text-anchor=\"start\" x=\"755\" y=\"-617.8\" font-family=\"Helvetica,sans-Serif\" font-size=\"14.00\">samples = 307</text>\n<text text-anchor=\"start\" x=\"749.5\" y=\"-602.8\" font-family=\"Helvetica,sans-Serif\" font-size=\"14.00\">value = [296, 11]</text>\n<text text-anchor=\"start\" x=\"755.5\" y=\"-587.8\" font-family=\"Helvetica,sans-Serif\" font-size=\"14.00\">class = Benign</text>\n</g>\n<!-- 1&#45;&gt;2 -->\n<g id=\"edge2\" class=\"edge\">\n<title>1&#45;&gt;2</title>\n<path fill=\"none\" stroke=\"black\" d=\"M971.1,-698.91C948.14,-688.65 923.35,-677.59 899.97,-667.14\"/>\n<polygon fill=\"black\" stroke=\"black\" points=\"901.3,-663.9 890.74,-663.02 898.44,-670.29 901.3,-663.9\"/>\n</g>\n<!-- 23 -->\n<g id=\"node24\" class=\"node\">\n<title>23</title>\n<path fill=\"#5aade9\" stroke=\"black\" d=\"M1127,-663C1127,-663 997,-663 997,-663 991,-663 985,-657 985,-651 985,-651 985,-592 985,-592 985,-586 991,-580 997,-580 997,-580 1127,-580 1127,-580 1133,-580 1139,-586 1139,-592 1139,-592 1139,-651 1139,-651 1139,-657 1133,-663 1127,-663\"/>\n<text text-anchor=\"start\" x=\"993\" y=\"-647.8\" font-family=\"Helvetica,sans-Serif\" font-size=\"14.00\">texture_worst ≤ 24.335</text>\n<text text-anchor=\"start\" x=\"1026.5\" y=\"-632.8\" font-family=\"Helvetica,sans-Serif\" font-size=\"14.00\">gini = 0.245</text>\n<text text-anchor=\"start\" x=\"1021\" y=\"-617.8\" font-family=\"Helvetica,sans-Serif\" font-size=\"14.00\">samples = 21</text>\n<text text-anchor=\"start\" x=\"1019\" y=\"-602.8\" font-family=\"Helvetica,sans-Serif\" font-size=\"14.00\">value = [3, 18]</text>\n<text text-anchor=\"start\" x=\"1018\" y=\"-587.8\" font-family=\"Helvetica,sans-Serif\" font-size=\"14.00\">class = Malign</text>\n</g>\n<!-- 1&#45;&gt;23 -->\n<g id=\"edge23\" class=\"edge\">\n<title>1&#45;&gt;23</title>\n<path fill=\"none\" stroke=\"black\" d=\"M1062,-698.91C1062,-690.65 1062,-681.86 1062,-673.3\"/>\n<polygon fill=\"black\" stroke=\"black\" points=\"1065.5,-673.02 1062,-663.02 1058.5,-673.02 1065.5,-673.02\"/>\n</g>\n<!-- 3 -->\n<g id=\"node4\" class=\"node\">\n<title>3</title>\n<path fill=\"#e5833c\" stroke=\"black\" d=\"M611,-544C611,-544 511,-544 511,-544 505,-544 499,-538 499,-532 499,-532 499,-473 499,-473 499,-467 505,-461 511,-461 511,-461 611,-461 611,-461 617,-461 623,-467 623,-473 623,-473 623,-532 623,-532 623,-538 617,-544 611,-544\"/>\n<text text-anchor=\"start\" x=\"507\" y=\"-528.8\" font-family=\"Helvetica,sans-Serif\" font-size=\"14.00\">radius_se ≤ 0.603</text>\n<text text-anchor=\"start\" x=\"525.5\" y=\"-513.8\" font-family=\"Helvetica,sans-Serif\" font-size=\"14.00\">gini = 0.034</text>\n<text text-anchor=\"start\" x=\"516\" y=\"-498.8\" font-family=\"Helvetica,sans-Serif\" font-size=\"14.00\">samples = 291</text>\n<text text-anchor=\"start\" x=\"514\" y=\"-483.8\" font-family=\"Helvetica,sans-Serif\" font-size=\"14.00\">value = [286, 5]</text>\n<text text-anchor=\"start\" x=\"516.5\" y=\"-468.8\" font-family=\"Helvetica,sans-Serif\" font-size=\"14.00\">class = Benign</text>\n</g>\n<!-- 2&#45;&gt;3 -->\n<g id=\"edge3\" class=\"edge\">\n<title>2&#45;&gt;3</title>\n<path fill=\"none\" stroke=\"black\" d=\"M717.08,-579.91C689.46,-566.39 658.96,-551.45 632.3,-538.4\"/>\n<polygon fill=\"black\" stroke=\"black\" points=\"633.56,-535.13 623.04,-533.87 630.49,-541.41 633.56,-535.13\"/>\n</g>\n<!-- 18 -->\n<g id=\"node19\" class=\"node\">\n<title>18</title>\n<path fill=\"#f5cdb0\" stroke=\"black\" d=\"M866,-544C866,-544 734,-544 734,-544 728,-544 722,-538 722,-532 722,-532 722,-473 722,-473 722,-467 728,-461 734,-461 734,-461 866,-461 866,-461 872,-461 878,-467 878,-473 878,-473 878,-532 878,-532 878,-538 872,-544 866,-544\"/>\n<text text-anchor=\"start\" x=\"730\" y=\"-528.8\" font-family=\"Helvetica,sans-Serif\" font-size=\"14.00\">texture_mean ≤ 20.785</text>\n<text text-anchor=\"start\" x=\"764.5\" y=\"-513.8\" font-family=\"Helvetica,sans-Serif\" font-size=\"14.00\">gini = 0.469</text>\n<text text-anchor=\"start\" x=\"759\" y=\"-498.8\" font-family=\"Helvetica,sans-Serif\" font-size=\"14.00\">samples = 16</text>\n<text text-anchor=\"start\" x=\"757\" y=\"-483.8\" font-family=\"Helvetica,sans-Serif\" font-size=\"14.00\">value = [10, 6]</text>\n<text text-anchor=\"start\" x=\"755.5\" y=\"-468.8\" font-family=\"Helvetica,sans-Serif\" font-size=\"14.00\">class = Benign</text>\n</g>\n<!-- 2&#45;&gt;18 -->\n<g id=\"edge18\" class=\"edge\">\n<title>2&#45;&gt;18</title>\n<path fill=\"none\" stroke=\"black\" d=\"M800,-579.91C800,-571.65 800,-562.86 800,-554.3\"/>\n<polygon fill=\"black\" stroke=\"black\" points=\"803.5,-554.02 800,-544.02 796.5,-554.02 803.5,-554.02\"/>\n</g>\n<!-- 4 -->\n<g id=\"node5\" class=\"node\">\n<title>4</title>\n<path fill=\"#e5823b\" stroke=\"black\" d=\"M420,-425C420,-425 312,-425 312,-425 306,-425 300,-419 300,-413 300,-413 300,-354 300,-354 300,-348 306,-342 312,-342 312,-342 420,-342 420,-342 426,-342 432,-348 432,-354 432,-354 432,-413 432,-413 432,-419 426,-425 420,-425\"/>\n<text text-anchor=\"start\" x=\"308\" y=\"-409.8\" font-family=\"Helvetica,sans-Serif\" font-size=\"14.00\">area_worst ≤ 785.0</text>\n<text text-anchor=\"start\" x=\"330.5\" y=\"-394.8\" font-family=\"Helvetica,sans-Serif\" font-size=\"14.00\">gini = 0.021</text>\n<text text-anchor=\"start\" x=\"321\" y=\"-379.8\" font-family=\"Helvetica,sans-Serif\" font-size=\"14.00\">samples = 288</text>\n<text text-anchor=\"start\" x=\"319\" y=\"-364.8\" font-family=\"Helvetica,sans-Serif\" font-size=\"14.00\">value = [285, 3]</text>\n<text text-anchor=\"start\" x=\"321.5\" y=\"-349.8\" font-family=\"Helvetica,sans-Serif\" font-size=\"14.00\">class = Benign</text>\n</g>\n<!-- 3&#45;&gt;4 -->\n<g id=\"edge4\" class=\"edge\">\n<title>3&#45;&gt;4</title>\n<path fill=\"none\" stroke=\"black\" d=\"M498.76,-464.16C480.3,-453.08 459.89,-440.84 440.72,-429.33\"/>\n<polygon fill=\"black\" stroke=\"black\" points=\"442.39,-426.25 432.02,-424.11 438.79,-432.26 442.39,-426.25\"/>\n</g>\n<!-- 15 -->\n<g id=\"node16\" class=\"node\">\n<title>15</title>\n<path fill=\"#9ccef2\" stroke=\"black\" d=\"M639.5,-425C639.5,-425 482.5,-425 482.5,-425 476.5,-425 470.5,-419 470.5,-413 470.5,-413 470.5,-354 470.5,-354 470.5,-348 476.5,-342 482.5,-342 482.5,-342 639.5,-342 639.5,-342 645.5,-342 651.5,-348 651.5,-354 651.5,-354 651.5,-413 651.5,-413 651.5,-419 645.5,-425 639.5,-425\"/>\n<text text-anchor=\"start\" x=\"478.5\" y=\"-409.8\" font-family=\"Helvetica,sans-Serif\" font-size=\"14.00\">smoothness_mean ≤ 0.091</text>\n<text text-anchor=\"start\" x=\"525.5\" y=\"-394.8\" font-family=\"Helvetica,sans-Serif\" font-size=\"14.00\">gini = 0.444</text>\n<text text-anchor=\"start\" x=\"523.5\" y=\"-379.8\" font-family=\"Helvetica,sans-Serif\" font-size=\"14.00\">samples = 3</text>\n<text text-anchor=\"start\" x=\"521.5\" y=\"-364.8\" font-family=\"Helvetica,sans-Serif\" font-size=\"14.00\">value = [1, 2]</text>\n<text text-anchor=\"start\" x=\"517\" y=\"-349.8\" font-family=\"Helvetica,sans-Serif\" font-size=\"14.00\">class = Malign</text>\n</g>\n<!-- 3&#45;&gt;15 -->\n<g id=\"edge15\" class=\"edge\">\n<title>3&#45;&gt;15</title>\n<path fill=\"none\" stroke=\"black\" d=\"M561,-460.91C561,-452.65 561,-443.86 561,-435.3\"/>\n<polygon fill=\"black\" stroke=\"black\" points=\"564.5,-435.02 561,-425.02 557.5,-435.02 564.5,-435.02\"/>\n</g>\n<!-- 5 -->\n<g id=\"node6\" class=\"node\">\n<title>5</title>\n<path fill=\"#e5813a\" stroke=\"black\" d=\"M254,-306C254,-306 132,-306 132,-306 126,-306 120,-300 120,-294 120,-294 120,-235 120,-235 120,-229 126,-223 132,-223 132,-223 254,-223 254,-223 260,-223 266,-229 266,-235 266,-235 266,-294 266,-294 266,-300 260,-306 254,-306\"/>\n<text text-anchor=\"start\" x=\"128\" y=\"-290.8\" font-family=\"Helvetica,sans-Serif\" font-size=\"14.00\">texture_worst ≤ 33.27</text>\n<text text-anchor=\"start\" x=\"157.5\" y=\"-275.8\" font-family=\"Helvetica,sans-Serif\" font-size=\"14.00\">gini = 0.007</text>\n<text text-anchor=\"start\" x=\"148\" y=\"-260.8\" font-family=\"Helvetica,sans-Serif\" font-size=\"14.00\">samples = 269</text>\n<text text-anchor=\"start\" x=\"146\" y=\"-245.8\" font-family=\"Helvetica,sans-Serif\" font-size=\"14.00\">value = [268, 1]</text>\n<text text-anchor=\"start\" x=\"148.5\" y=\"-230.8\" font-family=\"Helvetica,sans-Serif\" font-size=\"14.00\">class = Benign</text>\n</g>\n<!-- 4&#45;&gt;5 -->\n<g id=\"edge5\" class=\"edge\">\n<title>4&#45;&gt;5</title>\n<path fill=\"none\" stroke=\"black\" d=\"M305.98,-341.91C291.62,-332.2 276.19,-321.76 261.48,-311.81\"/>\n<polygon fill=\"black\" stroke=\"black\" points=\"263.16,-308.72 252.92,-306.02 259.24,-314.52 263.16,-308.72\"/>\n</g>\n<!-- 10 -->\n<g id=\"node11\" class=\"node\">\n<title>10</title>\n<path fill=\"#e89050\" stroke=\"black\" d=\"M435.5,-306C435.5,-306 296.5,-306 296.5,-306 290.5,-306 284.5,-300 284.5,-294 284.5,-294 284.5,-235 284.5,-235 284.5,-229 290.5,-223 296.5,-223 296.5,-223 435.5,-223 435.5,-223 441.5,-223 447.5,-229 447.5,-235 447.5,-235 447.5,-294 447.5,-294 447.5,-300 441.5,-306 435.5,-306\"/>\n<text text-anchor=\"start\" x=\"292.5\" y=\"-290.8\" font-family=\"Helvetica,sans-Serif\" font-size=\"14.00\">perimeter_worst ≤ 103.1</text>\n<text text-anchor=\"start\" x=\"330.5\" y=\"-275.8\" font-family=\"Helvetica,sans-Serif\" font-size=\"14.00\">gini = 0.188</text>\n<text text-anchor=\"start\" x=\"325\" y=\"-260.8\" font-family=\"Helvetica,sans-Serif\" font-size=\"14.00\">samples = 19</text>\n<text text-anchor=\"start\" x=\"323\" y=\"-245.8\" font-family=\"Helvetica,sans-Serif\" font-size=\"14.00\">value = [17, 2]</text>\n<text text-anchor=\"start\" x=\"321.5\" y=\"-230.8\" font-family=\"Helvetica,sans-Serif\" font-size=\"14.00\">class = Benign</text>\n</g>\n<!-- 4&#45;&gt;10 -->\n<g id=\"edge10\" class=\"edge\">\n<title>4&#45;&gt;10</title>\n<path fill=\"none\" stroke=\"black\" d=\"M366,-341.91C366,-333.65 366,-324.86 366,-316.3\"/>\n<polygon fill=\"black\" stroke=\"black\" points=\"369.5,-316.02 366,-306.02 362.5,-316.02 369.5,-316.02\"/>\n</g>\n<!-- 6 -->\n<g id=\"node7\" class=\"node\">\n<title>6</title>\n<path fill=\"#e58139\" stroke=\"black\" d=\"M98,-179.5C98,-179.5 12,-179.5 12,-179.5 6,-179.5 0,-173.5 0,-167.5 0,-167.5 0,-123.5 0,-123.5 0,-117.5 6,-111.5 12,-111.5 12,-111.5 98,-111.5 98,-111.5 104,-111.5 110,-117.5 110,-123.5 110,-123.5 110,-167.5 110,-167.5 110,-173.5 104,-179.5 98,-179.5\"/>\n<text text-anchor=\"start\" x=\"27\" y=\"-164.3\" font-family=\"Helvetica,sans-Serif\" font-size=\"14.00\">gini = 0.0</text>\n<text text-anchor=\"start\" x=\"10\" y=\"-149.3\" font-family=\"Helvetica,sans-Serif\" font-size=\"14.00\">samples = 252</text>\n<text text-anchor=\"start\" x=\"8\" y=\"-134.3\" font-family=\"Helvetica,sans-Serif\" font-size=\"14.00\">value = [252, 0]</text>\n<text text-anchor=\"start\" x=\"10.5\" y=\"-119.3\" font-family=\"Helvetica,sans-Serif\" font-size=\"14.00\">class = Benign</text>\n</g>\n<!-- 5&#45;&gt;6 -->\n<g id=\"edge6\" class=\"edge\">\n<title>5&#45;&gt;6</title>\n<path fill=\"none\" stroke=\"black\" d=\"M145.12,-222.91C131.2,-211.1 116,-198.22 102.12,-186.45\"/>\n<polygon fill=\"black\" stroke=\"black\" points=\"104.01,-183.46 94.12,-179.67 99.48,-188.8 104.01,-183.46\"/>\n</g>\n<!-- 7 -->\n<g id=\"node8\" class=\"node\">\n<title>7</title>\n<path fill=\"#e78945\" stroke=\"black\" d=\"M262,-187C262,-187 140,-187 140,-187 134,-187 128,-181 128,-175 128,-175 128,-116 128,-116 128,-110 134,-104 140,-104 140,-104 262,-104 262,-104 268,-104 274,-110 274,-116 274,-116 274,-175 274,-175 274,-181 268,-187 262,-187\"/>\n<text text-anchor=\"start\" x=\"136\" y=\"-171.8\" font-family=\"Helvetica,sans-Serif\" font-size=\"14.00\">texture_worst ≤ 33.56</text>\n<text text-anchor=\"start\" x=\"166\" y=\"-156.8\" font-family=\"Helvetica,sans-Serif\" font-size=\"14.00\">gini = 0.111</text>\n<text text-anchor=\"start\" x=\"160\" y=\"-141.8\" font-family=\"Helvetica,sans-Serif\" font-size=\"14.00\">samples = 17</text>\n<text text-anchor=\"start\" x=\"158\" y=\"-126.8\" font-family=\"Helvetica,sans-Serif\" font-size=\"14.00\">value = [16, 1]</text>\n<text text-anchor=\"start\" x=\"156.5\" y=\"-111.8\" font-family=\"Helvetica,sans-Serif\" font-size=\"14.00\">class = Benign</text>\n</g>\n<!-- 5&#45;&gt;7 -->\n<g id=\"edge7\" class=\"edge\">\n<title>5&#45;&gt;7</title>\n<path fill=\"none\" stroke=\"black\" d=\"M195.78,-222.91C196.35,-214.56 196.95,-205.67 197.55,-197.02\"/>\n<polygon fill=\"black\" stroke=\"black\" points=\"201.04,-197.24 198.23,-187.02 194.06,-196.76 201.04,-197.24\"/>\n</g>\n<!-- 8 -->\n<g id=\"node9\" class=\"node\">\n<title>8</title>\n<path fill=\"#399de5\" stroke=\"black\" d=\"M201,-68C201,-68 121,-68 121,-68 115,-68 109,-62 109,-56 109,-56 109,-12 109,-12 109,-6 115,0 121,0 121,0 201,0 201,0 207,0 213,-6 213,-12 213,-12 213,-56 213,-56 213,-62 207,-68 201,-68\"/>\n<text text-anchor=\"start\" x=\"133\" y=\"-52.8\" font-family=\"Helvetica,sans-Serif\" font-size=\"14.00\">gini = 0.0</text>\n<text text-anchor=\"start\" x=\"123.5\" y=\"-37.8\" font-family=\"Helvetica,sans-Serif\" font-size=\"14.00\">samples = 1</text>\n<text text-anchor=\"start\" x=\"121.5\" y=\"-22.8\" font-family=\"Helvetica,sans-Serif\" font-size=\"14.00\">value = [0, 1]</text>\n<text text-anchor=\"start\" x=\"117\" y=\"-7.8\" font-family=\"Helvetica,sans-Serif\" font-size=\"14.00\">class = Malign</text>\n</g>\n<!-- 7&#45;&gt;8 -->\n<g id=\"edge8\" class=\"edge\">\n<title>7&#45;&gt;8</title>\n<path fill=\"none\" stroke=\"black\" d=\"M186.11,-103.73C183.01,-95.24 179.73,-86.28 176.61,-77.73\"/>\n<polygon fill=\"black\" stroke=\"black\" points=\"179.88,-76.49 173.16,-68.3 173.31,-78.89 179.88,-76.49\"/>\n</g>\n<!-- 9 -->\n<g id=\"node10\" class=\"node\">\n<title>9</title>\n<path fill=\"#e58139\" stroke=\"black\" d=\"M324.5,-68C324.5,-68 243.5,-68 243.5,-68 237.5,-68 231.5,-62 231.5,-56 231.5,-56 231.5,-12 231.5,-12 231.5,-6 237.5,0 243.5,0 243.5,0 324.5,0 324.5,0 330.5,0 336.5,-6 336.5,-12 336.5,-12 336.5,-56 336.5,-56 336.5,-62 330.5,-68 324.5,-68\"/>\n<text text-anchor=\"start\" x=\"256\" y=\"-52.8\" font-family=\"Helvetica,sans-Serif\" font-size=\"14.00\">gini = 0.0</text>\n<text text-anchor=\"start\" x=\"243\" y=\"-37.8\" font-family=\"Helvetica,sans-Serif\" font-size=\"14.00\">samples = 16</text>\n<text text-anchor=\"start\" x=\"241\" y=\"-22.8\" font-family=\"Helvetica,sans-Serif\" font-size=\"14.00\">value = [16, 0]</text>\n<text text-anchor=\"start\" x=\"239.5\" y=\"-7.8\" font-family=\"Helvetica,sans-Serif\" font-size=\"14.00\">class = Benign</text>\n</g>\n<!-- 7&#45;&gt;9 -->\n<g id=\"edge9\" class=\"edge\">\n<title>7&#45;&gt;9</title>\n<path fill=\"none\" stroke=\"black\" d=\"M231.91,-103.73C238.68,-94.79 245.86,-85.32 252.65,-76.36\"/>\n<polygon fill=\"black\" stroke=\"black\" points=\"255.51,-78.38 258.76,-68.3 249.93,-74.15 255.51,-78.38\"/>\n</g>\n<!-- 11 -->\n<g id=\"node12\" class=\"node\">\n<title>11</title>\n<path fill=\"#399de5\" stroke=\"black\" d=\"M399,-179.5C399,-179.5 319,-179.5 319,-179.5 313,-179.5 307,-173.5 307,-167.5 307,-167.5 307,-123.5 307,-123.5 307,-117.5 313,-111.5 319,-111.5 319,-111.5 399,-111.5 399,-111.5 405,-111.5 411,-117.5 411,-123.5 411,-123.5 411,-167.5 411,-167.5 411,-173.5 405,-179.5 399,-179.5\"/>\n<text text-anchor=\"start\" x=\"331\" y=\"-164.3\" font-family=\"Helvetica,sans-Serif\" font-size=\"14.00\">gini = 0.0</text>\n<text text-anchor=\"start\" x=\"321.5\" y=\"-149.3\" font-family=\"Helvetica,sans-Serif\" font-size=\"14.00\">samples = 1</text>\n<text text-anchor=\"start\" x=\"319.5\" y=\"-134.3\" font-family=\"Helvetica,sans-Serif\" font-size=\"14.00\">value = [0, 1]</text>\n<text text-anchor=\"start\" x=\"315\" y=\"-119.3\" font-family=\"Helvetica,sans-Serif\" font-size=\"14.00\">class = Malign</text>\n</g>\n<!-- 10&#45;&gt;11 -->\n<g id=\"edge11\" class=\"edge\">\n<title>10&#45;&gt;11</title>\n<path fill=\"none\" stroke=\"black\" d=\"M363.57,-222.91C362.93,-212.2 362.24,-200.62 361.59,-189.78\"/>\n<polygon fill=\"black\" stroke=\"black\" points=\"365.08,-189.44 360.98,-179.67 358.09,-189.86 365.08,-189.44\"/>\n</g>\n<!-- 12 -->\n<g id=\"node13\" class=\"node\">\n<title>12</title>\n<path fill=\"#e78845\" stroke=\"black\" d=\"M594.5,-187C594.5,-187 441.5,-187 441.5,-187 435.5,-187 429.5,-181 429.5,-175 429.5,-175 429.5,-116 429.5,-116 429.5,-110 435.5,-104 441.5,-104 441.5,-104 594.5,-104 594.5,-104 600.5,-104 606.5,-110 606.5,-116 606.5,-116 606.5,-175 606.5,-175 606.5,-181 600.5,-187 594.5,-187\"/>\n<text text-anchor=\"start\" x=\"437.5\" y=\"-171.8\" font-family=\"Helvetica,sans-Serif\" font-size=\"14.00\">concave points_se ≤ 0.017</text>\n<text text-anchor=\"start\" x=\"482.5\" y=\"-156.8\" font-family=\"Helvetica,sans-Serif\" font-size=\"14.00\">gini = 0.105</text>\n<text text-anchor=\"start\" x=\"477\" y=\"-141.8\" font-family=\"Helvetica,sans-Serif\" font-size=\"14.00\">samples = 18</text>\n<text text-anchor=\"start\" x=\"475\" y=\"-126.8\" font-family=\"Helvetica,sans-Serif\" font-size=\"14.00\">value = [17, 1]</text>\n<text text-anchor=\"start\" x=\"473.5\" y=\"-111.8\" font-family=\"Helvetica,sans-Serif\" font-size=\"14.00\">class = Benign</text>\n</g>\n<!-- 10&#45;&gt;12 -->\n<g id=\"edge12\" class=\"edge\">\n<title>10&#45;&gt;12</title>\n<path fill=\"none\" stroke=\"black\" d=\"M418.74,-222.91C431.12,-213.38 444.41,-203.15 457.11,-193.37\"/>\n<polygon fill=\"black\" stroke=\"black\" points=\"459.57,-195.89 465.36,-187.02 455.3,-190.35 459.57,-195.89\"/>\n</g>\n<!-- 13 -->\n<g id=\"node14\" class=\"node\">\n<title>13</title>\n<path fill=\"#e58139\" stroke=\"black\" d=\"M475.5,-68C475.5,-68 394.5,-68 394.5,-68 388.5,-68 382.5,-62 382.5,-56 382.5,-56 382.5,-12 382.5,-12 382.5,-6 388.5,0 394.5,0 394.5,0 475.5,0 475.5,0 481.5,0 487.5,-6 487.5,-12 487.5,-12 487.5,-56 487.5,-56 487.5,-62 481.5,-68 475.5,-68\"/>\n<text text-anchor=\"start\" x=\"407\" y=\"-52.8\" font-family=\"Helvetica,sans-Serif\" font-size=\"14.00\">gini = 0.0</text>\n<text text-anchor=\"start\" x=\"394\" y=\"-37.8\" font-family=\"Helvetica,sans-Serif\" font-size=\"14.00\">samples = 17</text>\n<text text-anchor=\"start\" x=\"392\" y=\"-22.8\" font-family=\"Helvetica,sans-Serif\" font-size=\"14.00\">value = [17, 0]</text>\n<text text-anchor=\"start\" x=\"390.5\" y=\"-7.8\" font-family=\"Helvetica,sans-Serif\" font-size=\"14.00\">class = Benign</text>\n</g>\n<!-- 12&#45;&gt;13 -->\n<g id=\"edge13\" class=\"edge\">\n<title>12&#45;&gt;13</title>\n<path fill=\"none\" stroke=\"black\" d=\"M487.09,-103.73C480.32,-94.79 473.14,-85.32 466.35,-76.36\"/>\n<polygon fill=\"black\" stroke=\"black\" points=\"469.07,-74.15 460.24,-68.3 463.49,-78.38 469.07,-74.15\"/>\n</g>\n<!-- 14 -->\n<g id=\"node15\" class=\"node\">\n<title>14</title>\n<path fill=\"#399de5\" stroke=\"black\" d=\"M598,-68C598,-68 518,-68 518,-68 512,-68 506,-62 506,-56 506,-56 506,-12 506,-12 506,-6 512,0 518,0 518,0 598,0 598,0 604,0 610,-6 610,-12 610,-12 610,-56 610,-56 610,-62 604,-68 598,-68\"/>\n<text text-anchor=\"start\" x=\"530\" y=\"-52.8\" font-family=\"Helvetica,sans-Serif\" font-size=\"14.00\">gini = 0.0</text>\n<text text-anchor=\"start\" x=\"520.5\" y=\"-37.8\" font-family=\"Helvetica,sans-Serif\" font-size=\"14.00\">samples = 1</text>\n<text text-anchor=\"start\" x=\"518.5\" y=\"-22.8\" font-family=\"Helvetica,sans-Serif\" font-size=\"14.00\">value = [0, 1]</text>\n<text text-anchor=\"start\" x=\"514\" y=\"-7.8\" font-family=\"Helvetica,sans-Serif\" font-size=\"14.00\">class = Malign</text>\n</g>\n<!-- 12&#45;&gt;14 -->\n<g id=\"edge14\" class=\"edge\">\n<title>12&#45;&gt;14</title>\n<path fill=\"none\" stroke=\"black\" d=\"M532.89,-103.73C535.99,-95.24 539.27,-86.28 542.39,-77.73\"/>\n<polygon fill=\"black\" stroke=\"black\" points=\"545.69,-78.89 545.84,-68.3 539.12,-76.49 545.69,-78.89\"/>\n</g>\n<!-- 16 -->\n<g id=\"node17\" class=\"node\">\n<title>16</title>\n<path fill=\"#e58139\" stroke=\"black\" d=\"M558.5,-298.5C558.5,-298.5 477.5,-298.5 477.5,-298.5 471.5,-298.5 465.5,-292.5 465.5,-286.5 465.5,-286.5 465.5,-242.5 465.5,-242.5 465.5,-236.5 471.5,-230.5 477.5,-230.5 477.5,-230.5 558.5,-230.5 558.5,-230.5 564.5,-230.5 570.5,-236.5 570.5,-242.5 570.5,-242.5 570.5,-286.5 570.5,-286.5 570.5,-292.5 564.5,-298.5 558.5,-298.5\"/>\n<text text-anchor=\"start\" x=\"490\" y=\"-283.3\" font-family=\"Helvetica,sans-Serif\" font-size=\"14.00\">gini = 0.0</text>\n<text text-anchor=\"start\" x=\"480.5\" y=\"-268.3\" font-family=\"Helvetica,sans-Serif\" font-size=\"14.00\">samples = 1</text>\n<text text-anchor=\"start\" x=\"478.5\" y=\"-253.3\" font-family=\"Helvetica,sans-Serif\" font-size=\"14.00\">value = [1, 0]</text>\n<text text-anchor=\"start\" x=\"473.5\" y=\"-238.3\" font-family=\"Helvetica,sans-Serif\" font-size=\"14.00\">class = Benign</text>\n</g>\n<!-- 15&#45;&gt;16 -->\n<g id=\"edge16\" class=\"edge\">\n<title>15&#45;&gt;16</title>\n<path fill=\"none\" stroke=\"black\" d=\"M546.08,-341.91C542.07,-330.98 537.71,-319.14 533.66,-308.11\"/>\n<polygon fill=\"black\" stroke=\"black\" points=\"536.92,-306.85 530.19,-298.67 530.35,-309.26 536.92,-306.85\"/>\n</g>\n<!-- 17 -->\n<g id=\"node18\" class=\"node\">\n<title>17</title>\n<path fill=\"#399de5\" stroke=\"black\" d=\"M681,-298.5C681,-298.5 601,-298.5 601,-298.5 595,-298.5 589,-292.5 589,-286.5 589,-286.5 589,-242.5 589,-242.5 589,-236.5 595,-230.5 601,-230.5 601,-230.5 681,-230.5 681,-230.5 687,-230.5 693,-236.5 693,-242.5 693,-242.5 693,-286.5 693,-286.5 693,-292.5 687,-298.5 681,-298.5\"/>\n<text text-anchor=\"start\" x=\"613\" y=\"-283.3\" font-family=\"Helvetica,sans-Serif\" font-size=\"14.00\">gini = 0.0</text>\n<text text-anchor=\"start\" x=\"603.5\" y=\"-268.3\" font-family=\"Helvetica,sans-Serif\" font-size=\"14.00\">samples = 2</text>\n<text text-anchor=\"start\" x=\"601.5\" y=\"-253.3\" font-family=\"Helvetica,sans-Serif\" font-size=\"14.00\">value = [0, 2]</text>\n<text text-anchor=\"start\" x=\"597\" y=\"-238.3\" font-family=\"Helvetica,sans-Serif\" font-size=\"14.00\">class = Malign</text>\n</g>\n<!-- 15&#45;&gt;17 -->\n<g id=\"edge17\" class=\"edge\">\n<title>15&#45;&gt;17</title>\n<path fill=\"none\" stroke=\"black\" d=\"M588.76,-341.91C596.45,-330.65 604.82,-318.42 612.55,-307.11\"/>\n<polygon fill=\"black\" stroke=\"black\" points=\"615.57,-308.9 618.32,-298.67 609.79,-304.95 615.57,-308.9\"/>\n</g>\n<!-- 19 -->\n<g id=\"node20\" class=\"node\">\n<title>19</title>\n<path fill=\"#e88e4d\" stroke=\"black\" d=\"M824.5,-425C824.5,-425 701.5,-425 701.5,-425 695.5,-425 689.5,-419 689.5,-413 689.5,-413 689.5,-354 689.5,-354 689.5,-348 695.5,-342 701.5,-342 701.5,-342 824.5,-342 824.5,-342 830.5,-342 836.5,-348 836.5,-354 836.5,-354 836.5,-413 836.5,-413 836.5,-419 830.5,-425 824.5,-425\"/>\n<text text-anchor=\"start\" x=\"697.5\" y=\"-409.8\" font-family=\"Helvetica,sans-Serif\" font-size=\"14.00\">symmetry_se ≤ 0.013</text>\n<text text-anchor=\"start\" x=\"727.5\" y=\"-394.8\" font-family=\"Helvetica,sans-Serif\" font-size=\"14.00\">gini = 0.165</text>\n<text text-anchor=\"start\" x=\"722\" y=\"-379.8\" font-family=\"Helvetica,sans-Serif\" font-size=\"14.00\">samples = 11</text>\n<text text-anchor=\"start\" x=\"720\" y=\"-364.8\" font-family=\"Helvetica,sans-Serif\" font-size=\"14.00\">value = [10, 1]</text>\n<text text-anchor=\"start\" x=\"718.5\" y=\"-349.8\" font-family=\"Helvetica,sans-Serif\" font-size=\"14.00\">class = Benign</text>\n</g>\n<!-- 18&#45;&gt;19 -->\n<g id=\"edge19\" class=\"edge\">\n<title>18&#45;&gt;19</title>\n<path fill=\"none\" stroke=\"black\" d=\"M787.16,-460.91C784.49,-452.47 781.65,-443.48 778.89,-434.74\"/>\n<polygon fill=\"black\" stroke=\"black\" points=\"782.17,-433.5 775.81,-425.02 775.49,-435.61 782.17,-433.5\"/>\n</g>\n<!-- 22 -->\n<g id=\"node23\" class=\"node\">\n<title>22</title>\n<path fill=\"#399de5\" stroke=\"black\" d=\"M947,-417.5C947,-417.5 867,-417.5 867,-417.5 861,-417.5 855,-411.5 855,-405.5 855,-405.5 855,-361.5 855,-361.5 855,-355.5 861,-349.5 867,-349.5 867,-349.5 947,-349.5 947,-349.5 953,-349.5 959,-355.5 959,-361.5 959,-361.5 959,-405.5 959,-405.5 959,-411.5 953,-417.5 947,-417.5\"/>\n<text text-anchor=\"start\" x=\"879\" y=\"-402.3\" font-family=\"Helvetica,sans-Serif\" font-size=\"14.00\">gini = 0.0</text>\n<text text-anchor=\"start\" x=\"869.5\" y=\"-387.3\" font-family=\"Helvetica,sans-Serif\" font-size=\"14.00\">samples = 5</text>\n<text text-anchor=\"start\" x=\"867.5\" y=\"-372.3\" font-family=\"Helvetica,sans-Serif\" font-size=\"14.00\">value = [0, 5]</text>\n<text text-anchor=\"start\" x=\"863\" y=\"-357.3\" font-family=\"Helvetica,sans-Serif\" font-size=\"14.00\">class = Malign</text>\n</g>\n<!-- 18&#45;&gt;22 -->\n<g id=\"edge22\" class=\"edge\">\n<title>18&#45;&gt;22</title>\n<path fill=\"none\" stroke=\"black\" d=\"M837.12,-460.91C847.72,-449.32 859.26,-436.7 869.86,-425.11\"/>\n<polygon fill=\"black\" stroke=\"black\" points=\"872.5,-427.41 876.67,-417.67 867.34,-422.68 872.5,-427.41\"/>\n</g>\n<!-- 20 -->\n<g id=\"node21\" class=\"node\">\n<title>20</title>\n<path fill=\"#399de5\" stroke=\"black\" d=\"M803,-298.5C803,-298.5 723,-298.5 723,-298.5 717,-298.5 711,-292.5 711,-286.5 711,-286.5 711,-242.5 711,-242.5 711,-236.5 717,-230.5 723,-230.5 723,-230.5 803,-230.5 803,-230.5 809,-230.5 815,-236.5 815,-242.5 815,-242.5 815,-286.5 815,-286.5 815,-292.5 809,-298.5 803,-298.5\"/>\n<text text-anchor=\"start\" x=\"735\" y=\"-283.3\" font-family=\"Helvetica,sans-Serif\" font-size=\"14.00\">gini = 0.0</text>\n<text text-anchor=\"start\" x=\"725.5\" y=\"-268.3\" font-family=\"Helvetica,sans-Serif\" font-size=\"14.00\">samples = 1</text>\n<text text-anchor=\"start\" x=\"723.5\" y=\"-253.3\" font-family=\"Helvetica,sans-Serif\" font-size=\"14.00\">value = [0, 1]</text>\n<text text-anchor=\"start\" x=\"719\" y=\"-238.3\" font-family=\"Helvetica,sans-Serif\" font-size=\"14.00\">class = Malign</text>\n</g>\n<!-- 19&#45;&gt;20 -->\n<g id=\"edge20\" class=\"edge\">\n<title>19&#45;&gt;20</title>\n<path fill=\"none\" stroke=\"black\" d=\"M763,-341.91C763,-331.2 763,-319.62 763,-308.78\"/>\n<polygon fill=\"black\" stroke=\"black\" points=\"766.5,-308.67 763,-298.67 759.5,-308.67 766.5,-308.67\"/>\n</g>\n<!-- 21 -->\n<g id=\"node22\" class=\"node\">\n<title>21</title>\n<path fill=\"#e58139\" stroke=\"black\" d=\"M926.5,-298.5C926.5,-298.5 845.5,-298.5 845.5,-298.5 839.5,-298.5 833.5,-292.5 833.5,-286.5 833.5,-286.5 833.5,-242.5 833.5,-242.5 833.5,-236.5 839.5,-230.5 845.5,-230.5 845.5,-230.5 926.5,-230.5 926.5,-230.5 932.5,-230.5 938.5,-236.5 938.5,-242.5 938.5,-242.5 938.5,-286.5 938.5,-286.5 938.5,-292.5 932.5,-298.5 926.5,-298.5\"/>\n<text text-anchor=\"start\" x=\"858\" y=\"-283.3\" font-family=\"Helvetica,sans-Serif\" font-size=\"14.00\">gini = 0.0</text>\n<text text-anchor=\"start\" x=\"845\" y=\"-268.3\" font-family=\"Helvetica,sans-Serif\" font-size=\"14.00\">samples = 10</text>\n<text text-anchor=\"start\" x=\"843\" y=\"-253.3\" font-family=\"Helvetica,sans-Serif\" font-size=\"14.00\">value = [10, 0]</text>\n<text text-anchor=\"start\" x=\"841.5\" y=\"-238.3\" font-family=\"Helvetica,sans-Serif\" font-size=\"14.00\">class = Benign</text>\n</g>\n<!-- 19&#45;&gt;21 -->\n<g id=\"edge21\" class=\"edge\">\n<title>19&#45;&gt;21</title>\n<path fill=\"none\" stroke=\"black\" d=\"M805.67,-341.91C817.97,-330.21 831.38,-317.46 843.65,-305.78\"/>\n<polygon fill=\"black\" stroke=\"black\" points=\"846.3,-308.1 851.13,-298.67 841.47,-303.02 846.3,-308.1\"/>\n</g>\n<!-- 24 -->\n<g id=\"node25\" class=\"node\">\n<title>24</title>\n<path fill=\"#eeab7b\" stroke=\"black\" d=\"M1088,-544C1088,-544 972,-544 972,-544 966,-544 960,-538 960,-532 960,-532 960,-473 960,-473 960,-467 966,-461 972,-461 972,-461 1088,-461 1088,-461 1094,-461 1100,-467 1100,-473 1100,-473 1100,-532 1100,-532 1100,-538 1094,-544 1088,-544\"/>\n<text text-anchor=\"start\" x=\"968\" y=\"-528.8\" font-family=\"Helvetica,sans-Serif\" font-size=\"14.00\">area_worst ≤ 797.05</text>\n<text text-anchor=\"start\" x=\"994.5\" y=\"-513.8\" font-family=\"Helvetica,sans-Serif\" font-size=\"14.00\">gini = 0.375</text>\n<text text-anchor=\"start\" x=\"992.5\" y=\"-498.8\" font-family=\"Helvetica,sans-Serif\" font-size=\"14.00\">samples = 4</text>\n<text text-anchor=\"start\" x=\"990.5\" y=\"-483.8\" font-family=\"Helvetica,sans-Serif\" font-size=\"14.00\">value = [3, 1]</text>\n<text text-anchor=\"start\" x=\"985.5\" y=\"-468.8\" font-family=\"Helvetica,sans-Serif\" font-size=\"14.00\">class = Benign</text>\n</g>\n<!-- 23&#45;&gt;24 -->\n<g id=\"edge24\" class=\"edge\">\n<title>23&#45;&gt;24</title>\n<path fill=\"none\" stroke=\"black\" d=\"M1050.9,-579.91C1048.59,-571.47 1046.13,-562.48 1043.74,-553.74\"/>\n<polygon fill=\"black\" stroke=\"black\" points=\"1047.1,-552.74 1041.08,-544.02 1040.34,-554.59 1047.1,-552.74\"/>\n</g>\n<!-- 27 -->\n<g id=\"node28\" class=\"node\">\n<title>27</title>\n<path fill=\"#399de5\" stroke=\"black\" d=\"M1210,-536.5C1210,-536.5 1130,-536.5 1130,-536.5 1124,-536.5 1118,-530.5 1118,-524.5 1118,-524.5 1118,-480.5 1118,-480.5 1118,-474.5 1124,-468.5 1130,-468.5 1130,-468.5 1210,-468.5 1210,-468.5 1216,-468.5 1222,-474.5 1222,-480.5 1222,-480.5 1222,-524.5 1222,-524.5 1222,-530.5 1216,-536.5 1210,-536.5\"/>\n<text text-anchor=\"start\" x=\"1142\" y=\"-521.3\" font-family=\"Helvetica,sans-Serif\" font-size=\"14.00\">gini = 0.0</text>\n<text text-anchor=\"start\" x=\"1129\" y=\"-506.3\" font-family=\"Helvetica,sans-Serif\" font-size=\"14.00\">samples = 17</text>\n<text text-anchor=\"start\" x=\"1127\" y=\"-491.3\" font-family=\"Helvetica,sans-Serif\" font-size=\"14.00\">value = [0, 17]</text>\n<text text-anchor=\"start\" x=\"1126\" y=\"-476.3\" font-family=\"Helvetica,sans-Serif\" font-size=\"14.00\">class = Malign</text>\n</g>\n<!-- 23&#45;&gt;27 -->\n<g id=\"edge27\" class=\"edge\">\n<title>23&#45;&gt;27</title>\n<path fill=\"none\" stroke=\"black\" d=\"M1099.47,-579.91C1110.17,-568.32 1121.82,-555.7 1132.51,-544.11\"/>\n<polygon fill=\"black\" stroke=\"black\" points=\"1135.17,-546.39 1139.38,-536.67 1130.03,-541.64 1135.17,-546.39\"/>\n</g>\n<!-- 25 -->\n<g id=\"node26\" class=\"node\">\n<title>25</title>\n<path fill=\"#e58139\" stroke=\"black\" d=\"M1070.5,-417.5C1070.5,-417.5 989.5,-417.5 989.5,-417.5 983.5,-417.5 977.5,-411.5 977.5,-405.5 977.5,-405.5 977.5,-361.5 977.5,-361.5 977.5,-355.5 983.5,-349.5 989.5,-349.5 989.5,-349.5 1070.5,-349.5 1070.5,-349.5 1076.5,-349.5 1082.5,-355.5 1082.5,-361.5 1082.5,-361.5 1082.5,-405.5 1082.5,-405.5 1082.5,-411.5 1076.5,-417.5 1070.5,-417.5\"/>\n<text text-anchor=\"start\" x=\"1002\" y=\"-402.3\" font-family=\"Helvetica,sans-Serif\" font-size=\"14.00\">gini = 0.0</text>\n<text text-anchor=\"start\" x=\"992.5\" y=\"-387.3\" font-family=\"Helvetica,sans-Serif\" font-size=\"14.00\">samples = 3</text>\n<text text-anchor=\"start\" x=\"990.5\" y=\"-372.3\" font-family=\"Helvetica,sans-Serif\" font-size=\"14.00\">value = [3, 0]</text>\n<text text-anchor=\"start\" x=\"985.5\" y=\"-357.3\" font-family=\"Helvetica,sans-Serif\" font-size=\"14.00\">class = Benign</text>\n</g>\n<!-- 24&#45;&gt;25 -->\n<g id=\"edge25\" class=\"edge\">\n<title>24&#45;&gt;25</title>\n<path fill=\"none\" stroke=\"black\" d=\"M1030,-460.91C1030,-450.2 1030,-438.62 1030,-427.78\"/>\n<polygon fill=\"black\" stroke=\"black\" points=\"1033.5,-427.67 1030,-417.67 1026.5,-427.67 1033.5,-427.67\"/>\n</g>\n<!-- 26 -->\n<g id=\"node27\" class=\"node\">\n<title>26</title>\n<path fill=\"#399de5\" stroke=\"black\" d=\"M1193,-417.5C1193,-417.5 1113,-417.5 1113,-417.5 1107,-417.5 1101,-411.5 1101,-405.5 1101,-405.5 1101,-361.5 1101,-361.5 1101,-355.5 1107,-349.5 1113,-349.5 1113,-349.5 1193,-349.5 1193,-349.5 1199,-349.5 1205,-355.5 1205,-361.5 1205,-361.5 1205,-405.5 1205,-405.5 1205,-411.5 1199,-417.5 1193,-417.5\"/>\n<text text-anchor=\"start\" x=\"1125\" y=\"-402.3\" font-family=\"Helvetica,sans-Serif\" font-size=\"14.00\">gini = 0.0</text>\n<text text-anchor=\"start\" x=\"1115.5\" y=\"-387.3\" font-family=\"Helvetica,sans-Serif\" font-size=\"14.00\">samples = 1</text>\n<text text-anchor=\"start\" x=\"1113.5\" y=\"-372.3\" font-family=\"Helvetica,sans-Serif\" font-size=\"14.00\">value = [0, 1]</text>\n<text text-anchor=\"start\" x=\"1109\" y=\"-357.3\" font-family=\"Helvetica,sans-Serif\" font-size=\"14.00\">class = Malign</text>\n</g>\n<!-- 24&#45;&gt;26 -->\n<g id=\"edge26\" class=\"edge\">\n<title>24&#45;&gt;26</title>\n<path fill=\"none\" stroke=\"black\" d=\"M1072.67,-460.91C1084.97,-449.21 1098.38,-436.46 1110.65,-424.78\"/>\n<polygon fill=\"black\" stroke=\"black\" points=\"1113.3,-427.1 1118.13,-417.67 1108.47,-422.02 1113.3,-427.1\"/>\n</g>\n<!-- 29 -->\n<g id=\"node30\" class=\"node\">\n<title>29</title>\n<path fill=\"#ffffff\" stroke=\"black\" d=\"M1358,-663C1358,-663 1228,-663 1228,-663 1222,-663 1216,-657 1216,-651 1216,-651 1216,-592 1216,-592 1216,-586 1222,-580 1228,-580 1228,-580 1358,-580 1358,-580 1364,-580 1370,-586 1370,-592 1370,-592 1370,-651 1370,-651 1370,-657 1364,-663 1358,-663\"/>\n<text text-anchor=\"start\" x=\"1224\" y=\"-647.8\" font-family=\"Helvetica,sans-Serif\" font-size=\"14.00\">texture_worst ≤ 26.005</text>\n<text text-anchor=\"start\" x=\"1265\" y=\"-632.8\" font-family=\"Helvetica,sans-Serif\" font-size=\"14.00\">gini = 0.5</text>\n<text text-anchor=\"start\" x=\"1252\" y=\"-617.8\" font-family=\"Helvetica,sans-Serif\" font-size=\"14.00\">samples = 18</text>\n<text text-anchor=\"start\" x=\"1253.5\" y=\"-602.8\" font-family=\"Helvetica,sans-Serif\" font-size=\"14.00\">value = [9, 9]</text>\n<text text-anchor=\"start\" x=\"1248.5\" y=\"-587.8\" font-family=\"Helvetica,sans-Serif\" font-size=\"14.00\">class = Benign</text>\n</g>\n<!-- 28&#45;&gt;29 -->\n<g id=\"edge29\" class=\"edge\">\n<title>28&#45;&gt;29</title>\n<path fill=\"none\" stroke=\"black\" d=\"M1293,-698.91C1293,-690.65 1293,-681.86 1293,-673.3\"/>\n<polygon fill=\"black\" stroke=\"black\" points=\"1296.5,-673.02 1293,-663.02 1289.5,-673.02 1296.5,-673.02\"/>\n</g>\n<!-- 34 -->\n<g id=\"node35\" class=\"node\">\n<title>34</title>\n<path fill=\"#399de5\" stroke=\"black\" d=\"M1486,-655.5C1486,-655.5 1400,-655.5 1400,-655.5 1394,-655.5 1388,-649.5 1388,-643.5 1388,-643.5 1388,-599.5 1388,-599.5 1388,-593.5 1394,-587.5 1400,-587.5 1400,-587.5 1486,-587.5 1486,-587.5 1492,-587.5 1498,-593.5 1498,-599.5 1498,-599.5 1498,-643.5 1498,-643.5 1498,-649.5 1492,-655.5 1486,-655.5\"/>\n<text text-anchor=\"start\" x=\"1415\" y=\"-640.3\" font-family=\"Helvetica,sans-Serif\" font-size=\"14.00\">gini = 0.0</text>\n<text text-anchor=\"start\" x=\"1398\" y=\"-625.3\" font-family=\"Helvetica,sans-Serif\" font-size=\"14.00\">samples = 135</text>\n<text text-anchor=\"start\" x=\"1396\" y=\"-610.3\" font-family=\"Helvetica,sans-Serif\" font-size=\"14.00\">value = [0, 135]</text>\n<text text-anchor=\"start\" x=\"1399\" y=\"-595.3\" font-family=\"Helvetica,sans-Serif\" font-size=\"14.00\">class = Malign</text>\n</g>\n<!-- 28&#45;&gt;34 -->\n<g id=\"edge34\" class=\"edge\">\n<title>28&#45;&gt;34</title>\n<path fill=\"none\" stroke=\"black\" d=\"M1345.04,-698.91C1360.32,-686.99 1377.01,-673.98 1392.21,-662.12\"/>\n<polygon fill=\"black\" stroke=\"black\" points=\"1394.75,-664.58 1400.48,-655.67 1390.44,-659.06 1394.75,-664.58\"/>\n</g>\n<!-- 30 -->\n<g id=\"node31\" class=\"node\">\n<title>30</title>\n<path fill=\"#e58139\" stroke=\"black\" d=\"M1333.5,-536.5C1333.5,-536.5 1252.5,-536.5 1252.5,-536.5 1246.5,-536.5 1240.5,-530.5 1240.5,-524.5 1240.5,-524.5 1240.5,-480.5 1240.5,-480.5 1240.5,-474.5 1246.5,-468.5 1252.5,-468.5 1252.5,-468.5 1333.5,-468.5 1333.5,-468.5 1339.5,-468.5 1345.5,-474.5 1345.5,-480.5 1345.5,-480.5 1345.5,-524.5 1345.5,-524.5 1345.5,-530.5 1339.5,-536.5 1333.5,-536.5\"/>\n<text text-anchor=\"start\" x=\"1265\" y=\"-521.3\" font-family=\"Helvetica,sans-Serif\" font-size=\"14.00\">gini = 0.0</text>\n<text text-anchor=\"start\" x=\"1255.5\" y=\"-506.3\" font-family=\"Helvetica,sans-Serif\" font-size=\"14.00\">samples = 8</text>\n<text text-anchor=\"start\" x=\"1253.5\" y=\"-491.3\" font-family=\"Helvetica,sans-Serif\" font-size=\"14.00\">value = [8, 0]</text>\n<text text-anchor=\"start\" x=\"1248.5\" y=\"-476.3\" font-family=\"Helvetica,sans-Serif\" font-size=\"14.00\">class = Benign</text>\n</g>\n<!-- 29&#45;&gt;30 -->\n<g id=\"edge30\" class=\"edge\">\n<title>29&#45;&gt;30</title>\n<path fill=\"none\" stroke=\"black\" d=\"M1293,-579.91C1293,-569.2 1293,-557.62 1293,-546.78\"/>\n<polygon fill=\"black\" stroke=\"black\" points=\"1296.5,-546.67 1293,-536.67 1289.5,-546.67 1296.5,-546.67\"/>\n</g>\n<!-- 31 -->\n<g id=\"node32\" class=\"node\">\n<title>31</title>\n<path fill=\"#4fa8e8\" stroke=\"black\" d=\"M1564,-544C1564,-544 1376,-544 1376,-544 1370,-544 1364,-538 1364,-532 1364,-532 1364,-473 1364,-473 1364,-467 1370,-461 1376,-461 1376,-461 1564,-461 1564,-461 1570,-461 1576,-467 1576,-473 1576,-473 1576,-532 1576,-532 1576,-538 1570,-544 1564,-544\"/>\n<text text-anchor=\"start\" x=\"1372\" y=\"-528.8\" font-family=\"Helvetica,sans-Serif\" font-size=\"14.00\">fractal_dimension_worst ≤ 0.061</text>\n<text text-anchor=\"start\" x=\"1438\" y=\"-513.8\" font-family=\"Helvetica,sans-Serif\" font-size=\"14.00\">gini = 0.18</text>\n<text text-anchor=\"start\" x=\"1429\" y=\"-498.8\" font-family=\"Helvetica,sans-Serif\" font-size=\"14.00\">samples = 10</text>\n<text text-anchor=\"start\" x=\"1430.5\" y=\"-483.8\" font-family=\"Helvetica,sans-Serif\" font-size=\"14.00\">value = [1, 9]</text>\n<text text-anchor=\"start\" x=\"1426\" y=\"-468.8\" font-family=\"Helvetica,sans-Serif\" font-size=\"14.00\">class = Malign</text>\n</g>\n<!-- 29&#45;&gt;31 -->\n<g id=\"edge31\" class=\"edge\">\n<title>29&#45;&gt;31</title>\n<path fill=\"none\" stroke=\"black\" d=\"M1354.41,-579.91C1369.1,-570.2 1384.89,-559.76 1399.94,-549.81\"/>\n<polygon fill=\"black\" stroke=\"black\" points=\"1402.29,-552.45 1408.7,-544.02 1398.43,-546.62 1402.29,-552.45\"/>\n</g>\n<!-- 32 -->\n<g id=\"node33\" class=\"node\">\n<title>32</title>\n<path fill=\"#e58139\" stroke=\"black\" d=\"M1449.5,-417.5C1449.5,-417.5 1368.5,-417.5 1368.5,-417.5 1362.5,-417.5 1356.5,-411.5 1356.5,-405.5 1356.5,-405.5 1356.5,-361.5 1356.5,-361.5 1356.5,-355.5 1362.5,-349.5 1368.5,-349.5 1368.5,-349.5 1449.5,-349.5 1449.5,-349.5 1455.5,-349.5 1461.5,-355.5 1461.5,-361.5 1461.5,-361.5 1461.5,-405.5 1461.5,-405.5 1461.5,-411.5 1455.5,-417.5 1449.5,-417.5\"/>\n<text text-anchor=\"start\" x=\"1381\" y=\"-402.3\" font-family=\"Helvetica,sans-Serif\" font-size=\"14.00\">gini = 0.0</text>\n<text text-anchor=\"start\" x=\"1371.5\" y=\"-387.3\" font-family=\"Helvetica,sans-Serif\" font-size=\"14.00\">samples = 1</text>\n<text text-anchor=\"start\" x=\"1369.5\" y=\"-372.3\" font-family=\"Helvetica,sans-Serif\" font-size=\"14.00\">value = [1, 0]</text>\n<text text-anchor=\"start\" x=\"1364.5\" y=\"-357.3\" font-family=\"Helvetica,sans-Serif\" font-size=\"14.00\">class = Benign</text>\n</g>\n<!-- 31&#45;&gt;32 -->\n<g id=\"edge32\" class=\"edge\">\n<title>31&#45;&gt;32</title>\n<path fill=\"none\" stroke=\"black\" d=\"M1448.84,-460.91C1443.08,-449.87 1436.84,-437.9 1431.04,-426.77\"/>\n<polygon fill=\"black\" stroke=\"black\" points=\"1434.02,-424.92 1426.29,-417.67 1427.81,-428.15 1434.02,-424.92\"/>\n</g>\n<!-- 33 -->\n<g id=\"node34\" class=\"node\">\n<title>33</title>\n<path fill=\"#399de5\" stroke=\"black\" d=\"M1572,-417.5C1572,-417.5 1492,-417.5 1492,-417.5 1486,-417.5 1480,-411.5 1480,-405.5 1480,-405.5 1480,-361.5 1480,-361.5 1480,-355.5 1486,-349.5 1492,-349.5 1492,-349.5 1572,-349.5 1572,-349.5 1578,-349.5 1584,-355.5 1584,-361.5 1584,-361.5 1584,-405.5 1584,-405.5 1584,-411.5 1578,-417.5 1572,-417.5\"/>\n<text text-anchor=\"start\" x=\"1504\" y=\"-402.3\" font-family=\"Helvetica,sans-Serif\" font-size=\"14.00\">gini = 0.0</text>\n<text text-anchor=\"start\" x=\"1494.5\" y=\"-387.3\" font-family=\"Helvetica,sans-Serif\" font-size=\"14.00\">samples = 9</text>\n<text text-anchor=\"start\" x=\"1492.5\" y=\"-372.3\" font-family=\"Helvetica,sans-Serif\" font-size=\"14.00\">value = [0, 9]</text>\n<text text-anchor=\"start\" x=\"1488\" y=\"-357.3\" font-family=\"Helvetica,sans-Serif\" font-size=\"14.00\">class = Malign</text>\n</g>\n<!-- 31&#45;&gt;33 -->\n<g id=\"edge33\" class=\"edge\">\n<title>31&#45;&gt;33</title>\n<path fill=\"none\" stroke=\"black\" d=\"M1491.51,-460.91C1497.36,-449.87 1503.7,-437.9 1509.6,-426.77\"/>\n<polygon fill=\"black\" stroke=\"black\" points=\"1512.83,-428.14 1514.42,-417.67 1506.65,-424.86 1512.83,-428.14\"/>\n</g>\n</g>\n</svg>\n",
      "text/plain": [
       "<graphviz.sources.Source at 0x7f8bc1427910>"
      ]
     },
     "execution_count": 18,
     "metadata": {},
     "output_type": "execute_result"
    }
   ],
   "source": [
    "import graphviz \n",
    "\n",
    "dot_data = export_graphviz(model, out_file=None, \n",
    "                     feature_names=data.columns,\n",
    "                     class_names=['Benign', 'Malign'],  \n",
    "                     filled=True, rounded=True,  \n",
    "                     special_characters=True)  \n",
    "graph = graphviz.Source(dot_data)  \n",
    "graph.render('DecissionTree.pdf')\n",
    "graph "
   ]
  },
  {
   "cell_type": "code",
   "execution_count": 19,
   "metadata": {},
   "outputs": [
    {
     "name": "stdout",
     "output_type": "stream",
     "text": [
      "Depth of the tree: 7,\n",
      "Number of leaves:18\n"
     ]
    }
   ],
   "source": [
    "print(f'Depth of the tree: {model.get_depth()},\\nNumber of leaves:{model.get_n_leaves()}')"
   ]
  },
  {
   "cell_type": "markdown",
   "metadata": {},
   "source": [
    "Analyzing the tree above, we see that we start with a gini index near 0.5, meaning that there's no proper classification. A benign value could be classified as benign or malign almost indistinctly. As we go deeper in the tree, we expect the gini index to decrease, until we see it with a value of 0 at the leaves, that should be homogeneus. At the end we have 6 layers of depth and 18 leaves. For only two classes, that may be too much, it's very likely that we have an overfitted algorythm here. \n",
    "\n",
    "The easiest way to deal with overfitting is to limit the depth, but maybe we lose precision. The other technique is called pruning, which stops the spliting when some values are found. Those values can be the gini index of the leave, or the minimum number of samples in a leave to consider that we have to split it, for example. \n",
    "\n",
    "Let's see if we can improve the performance by selecting some of these metrics in a gridsearch."
   ]
  },
  {
   "cell_type": "code",
   "execution_count": 20,
   "metadata": {},
   "outputs": [
    {
     "data": {
      "text/plain": [
       "GridSearchCV(cv=5, estimator=DecisionTreeClassifier(),\n",
       "             param_grid={'criterion': ['gini', 'entropy'],\n",
       "                         'max_depth': range(2, 7),\n",
       "                         'min_impurity_decrease': array([0. , 0.1, 0.2, 0.3, 0.4, 0.5, 0.6, 0.7])})"
      ]
     },
     "execution_count": 20,
     "metadata": {},
     "output_type": "execute_result"
    }
   ],
   "source": [
    "from sklearn.model_selection import GridSearchCV\n",
    "\n",
    "params = {'criterion': ['gini', 'entropy'], \n",
    "          'max_depth': range(2,7),\n",
    "          'min_impurity_decrease': np.arange(0,.8,.1)}\n",
    "grid = GridSearchCV(DecisionTreeClassifier(),\n",
    "                    params, \n",
    "                    cv=5)\n",
    "grid.fit(X_train, y_train)"
   ]
  },
  {
   "cell_type": "code",
   "execution_count": 21,
   "metadata": {},
   "outputs": [
    {
     "data": {
      "text/plain": [
       "DecisionTreeClassifier(criterion='entropy', max_depth=3)"
      ]
     },
     "execution_count": 21,
     "metadata": {},
     "output_type": "execute_result"
    }
   ],
   "source": [
    "grid.best_estimator_"
   ]
  },
  {
   "cell_type": "code",
   "execution_count": 22,
   "metadata": {},
   "outputs": [
    {
     "data": {
      "text/plain": [
       "0.9418599656357388"
      ]
     },
     "execution_count": 22,
     "metadata": {},
     "output_type": "execute_result"
    }
   ],
   "source": [
    "grid.best_score_"
   ]
  },
  {
   "cell_type": "code",
   "execution_count": 23,
   "metadata": {},
   "outputs": [
    {
     "data": {
      "text/plain": [
       "{'criterion': 'entropy', 'max_depth': 3, 'min_impurity_decrease': 0.0}"
      ]
     },
     "execution_count": 23,
     "metadata": {},
     "output_type": "execute_result"
    }
   ],
   "source": [
    "grid.best_params_"
   ]
  },
  {
   "cell_type": "markdown",
   "metadata": {},
   "source": [
    "### Random forests\n",
    "Even if we run a GridSearch algorithm, it's very probable that the decission tree makes more partitions than necessary, resulting in overfitting. A solution for this problem is to run various decission trees and use the mean of the output in order to minimize the overfitting. We can imagine it as overlaying the partitions made by many trees, which would \"blur\" the limits and make more generalists areas. \n",
    "\n",
    "![](https://3.bp.blogspot.com/-gYBcwaQwfik/Ww0CsPZAsdI/AAAAAAAABok/I8uSk7bATIoVfJDY_E4aqCx-TKsBj0-ngCLcBGAs/s1600/random-forests.png)\n",
    "\n",
    "This is basically how a Random Forest Algorithm works. This algorithm will run the data through various decission trees, each with a different root node, and then take the average of the prediction of all the trees to make the final decission. But if all tress would be fed with the same data, the outputs would be very similar. But, how do we do that if we have limited amount of data? The solution is a technique called _bagging_ (for bootstrap aggregation). \n",
    "\n",
    "For each decission tree, a sample of the original data is chosen. This sample can contain zero to many copies of each element in the dataset, but the total number of values is always the same. Another difference is that every decission tree will decide over different features of the data set. We can tweak different things on the class constructor.\n",
    "\n",
    "|Original data|Sample 1|Sample 2|Sample 3|\n",
    "|:---:|:---:|:---:|:---:|\n",
    "|A|E|B|C|\n",
    "|B|A|D|D|\n",
    "|C|E|B|E|\n",
    "|D|C|A|D|\n",
    "|E|B|B|A|"
   ]
  },
  {
   "cell_type": "code",
   "execution_count": 24,
   "metadata": {},
   "outputs": [
    {
     "data": {
      "text/plain": [
       "0.9545454545454546"
      ]
     },
     "execution_count": 24,
     "metadata": {},
     "output_type": "execute_result"
    }
   ],
   "source": [
    "from sklearn.ensemble import RandomForestClassifier\n",
    "\n",
    "model = RandomForestClassifier()\n",
    "model.fit(X_train, y_train)\n",
    "model.score(X_test, y_test)"
   ]
  },
  {
   "cell_type": "code",
   "execution_count": 25,
   "metadata": {},
   "outputs": [
    {
     "data": {
      "application/vnd.plotly.v1+json": {
       "config": {
        "plotlyServerURL": "https://plot.ly"
       },
       "data": [
        {
         "coloraxis": "coloraxis",
         "hovertemplate": "Predicted: %{x}<br>Truth: %{y}<br>Number: %{z}<extra></extra>",
         "name": "0",
         "type": "heatmap",
         "x": [
          "Benign",
          "Malign"
         ],
         "xaxis": "x",
         "y": [
          "Benign",
          "Malign"
         ],
         "yaxis": "y",
         "z": [
          [
           46,
           1
          ],
          [
           3,
           38
          ]
         ]
        }
       ],
       "layout": {
        "coloraxis": {
         "colorbar": {
          "title": {
           "text": "Number"
          }
         },
         "colorscale": [
          [
           0,
           "#0d0887"
          ],
          [
           0.1111111111111111,
           "#46039f"
          ],
          [
           0.2222222222222222,
           "#7201a8"
          ],
          [
           0.3333333333333333,
           "#9c179e"
          ],
          [
           0.4444444444444444,
           "#bd3786"
          ],
          [
           0.5555555555555556,
           "#d8576b"
          ],
          [
           0.6666666666666666,
           "#ed7953"
          ],
          [
           0.7777777777777778,
           "#fb9f3a"
          ],
          [
           0.8888888888888888,
           "#fdca26"
          ],
          [
           1,
           "#f0f921"
          ]
         ]
        },
        "template": {
         "data": {
          "bar": [
           {
            "error_x": {
             "color": "#2a3f5f"
            },
            "error_y": {
             "color": "#2a3f5f"
            },
            "marker": {
             "line": {
              "color": "#E5ECF6",
              "width": 0.5
             },
             "pattern": {
              "fillmode": "overlay",
              "size": 10,
              "solidity": 0.2
             }
            },
            "type": "bar"
           }
          ],
          "barpolar": [
           {
            "marker": {
             "line": {
              "color": "#E5ECF6",
              "width": 0.5
             },
             "pattern": {
              "fillmode": "overlay",
              "size": 10,
              "solidity": 0.2
             }
            },
            "type": "barpolar"
           }
          ],
          "carpet": [
           {
            "aaxis": {
             "endlinecolor": "#2a3f5f",
             "gridcolor": "white",
             "linecolor": "white",
             "minorgridcolor": "white",
             "startlinecolor": "#2a3f5f"
            },
            "baxis": {
             "endlinecolor": "#2a3f5f",
             "gridcolor": "white",
             "linecolor": "white",
             "minorgridcolor": "white",
             "startlinecolor": "#2a3f5f"
            },
            "type": "carpet"
           }
          ],
          "choropleth": [
           {
            "colorbar": {
             "outlinewidth": 0,
             "ticks": ""
            },
            "type": "choropleth"
           }
          ],
          "contour": [
           {
            "colorbar": {
             "outlinewidth": 0,
             "ticks": ""
            },
            "colorscale": [
             [
              0,
              "#0d0887"
             ],
             [
              0.1111111111111111,
              "#46039f"
             ],
             [
              0.2222222222222222,
              "#7201a8"
             ],
             [
              0.3333333333333333,
              "#9c179e"
             ],
             [
              0.4444444444444444,
              "#bd3786"
             ],
             [
              0.5555555555555556,
              "#d8576b"
             ],
             [
              0.6666666666666666,
              "#ed7953"
             ],
             [
              0.7777777777777778,
              "#fb9f3a"
             ],
             [
              0.8888888888888888,
              "#fdca26"
             ],
             [
              1,
              "#f0f921"
             ]
            ],
            "type": "contour"
           }
          ],
          "contourcarpet": [
           {
            "colorbar": {
             "outlinewidth": 0,
             "ticks": ""
            },
            "type": "contourcarpet"
           }
          ],
          "heatmap": [
           {
            "colorbar": {
             "outlinewidth": 0,
             "ticks": ""
            },
            "colorscale": [
             [
              0,
              "#0d0887"
             ],
             [
              0.1111111111111111,
              "#46039f"
             ],
             [
              0.2222222222222222,
              "#7201a8"
             ],
             [
              0.3333333333333333,
              "#9c179e"
             ],
             [
              0.4444444444444444,
              "#bd3786"
             ],
             [
              0.5555555555555556,
              "#d8576b"
             ],
             [
              0.6666666666666666,
              "#ed7953"
             ],
             [
              0.7777777777777778,
              "#fb9f3a"
             ],
             [
              0.8888888888888888,
              "#fdca26"
             ],
             [
              1,
              "#f0f921"
             ]
            ],
            "type": "heatmap"
           }
          ],
          "heatmapgl": [
           {
            "colorbar": {
             "outlinewidth": 0,
             "ticks": ""
            },
            "colorscale": [
             [
              0,
              "#0d0887"
             ],
             [
              0.1111111111111111,
              "#46039f"
             ],
             [
              0.2222222222222222,
              "#7201a8"
             ],
             [
              0.3333333333333333,
              "#9c179e"
             ],
             [
              0.4444444444444444,
              "#bd3786"
             ],
             [
              0.5555555555555556,
              "#d8576b"
             ],
             [
              0.6666666666666666,
              "#ed7953"
             ],
             [
              0.7777777777777778,
              "#fb9f3a"
             ],
             [
              0.8888888888888888,
              "#fdca26"
             ],
             [
              1,
              "#f0f921"
             ]
            ],
            "type": "heatmapgl"
           }
          ],
          "histogram": [
           {
            "marker": {
             "pattern": {
              "fillmode": "overlay",
              "size": 10,
              "solidity": 0.2
             }
            },
            "type": "histogram"
           }
          ],
          "histogram2d": [
           {
            "colorbar": {
             "outlinewidth": 0,
             "ticks": ""
            },
            "colorscale": [
             [
              0,
              "#0d0887"
             ],
             [
              0.1111111111111111,
              "#46039f"
             ],
             [
              0.2222222222222222,
              "#7201a8"
             ],
             [
              0.3333333333333333,
              "#9c179e"
             ],
             [
              0.4444444444444444,
              "#bd3786"
             ],
             [
              0.5555555555555556,
              "#d8576b"
             ],
             [
              0.6666666666666666,
              "#ed7953"
             ],
             [
              0.7777777777777778,
              "#fb9f3a"
             ],
             [
              0.8888888888888888,
              "#fdca26"
             ],
             [
              1,
              "#f0f921"
             ]
            ],
            "type": "histogram2d"
           }
          ],
          "histogram2dcontour": [
           {
            "colorbar": {
             "outlinewidth": 0,
             "ticks": ""
            },
            "colorscale": [
             [
              0,
              "#0d0887"
             ],
             [
              0.1111111111111111,
              "#46039f"
             ],
             [
              0.2222222222222222,
              "#7201a8"
             ],
             [
              0.3333333333333333,
              "#9c179e"
             ],
             [
              0.4444444444444444,
              "#bd3786"
             ],
             [
              0.5555555555555556,
              "#d8576b"
             ],
             [
              0.6666666666666666,
              "#ed7953"
             ],
             [
              0.7777777777777778,
              "#fb9f3a"
             ],
             [
              0.8888888888888888,
              "#fdca26"
             ],
             [
              1,
              "#f0f921"
             ]
            ],
            "type": "histogram2dcontour"
           }
          ],
          "mesh3d": [
           {
            "colorbar": {
             "outlinewidth": 0,
             "ticks": ""
            },
            "type": "mesh3d"
           }
          ],
          "parcoords": [
           {
            "line": {
             "colorbar": {
              "outlinewidth": 0,
              "ticks": ""
             }
            },
            "type": "parcoords"
           }
          ],
          "pie": [
           {
            "automargin": true,
            "type": "pie"
           }
          ],
          "scatter": [
           {
            "fillpattern": {
             "fillmode": "overlay",
             "size": 10,
             "solidity": 0.2
            },
            "type": "scatter"
           }
          ],
          "scatter3d": [
           {
            "line": {
             "colorbar": {
              "outlinewidth": 0,
              "ticks": ""
             }
            },
            "marker": {
             "colorbar": {
              "outlinewidth": 0,
              "ticks": ""
             }
            },
            "type": "scatter3d"
           }
          ],
          "scattercarpet": [
           {
            "marker": {
             "colorbar": {
              "outlinewidth": 0,
              "ticks": ""
             }
            },
            "type": "scattercarpet"
           }
          ],
          "scattergeo": [
           {
            "marker": {
             "colorbar": {
              "outlinewidth": 0,
              "ticks": ""
             }
            },
            "type": "scattergeo"
           }
          ],
          "scattergl": [
           {
            "marker": {
             "colorbar": {
              "outlinewidth": 0,
              "ticks": ""
             }
            },
            "type": "scattergl"
           }
          ],
          "scattermapbox": [
           {
            "marker": {
             "colorbar": {
              "outlinewidth": 0,
              "ticks": ""
             }
            },
            "type": "scattermapbox"
           }
          ],
          "scatterpolar": [
           {
            "marker": {
             "colorbar": {
              "outlinewidth": 0,
              "ticks": ""
             }
            },
            "type": "scatterpolar"
           }
          ],
          "scatterpolargl": [
           {
            "marker": {
             "colorbar": {
              "outlinewidth": 0,
              "ticks": ""
             }
            },
            "type": "scatterpolargl"
           }
          ],
          "scatterternary": [
           {
            "marker": {
             "colorbar": {
              "outlinewidth": 0,
              "ticks": ""
             }
            },
            "type": "scatterternary"
           }
          ],
          "surface": [
           {
            "colorbar": {
             "outlinewidth": 0,
             "ticks": ""
            },
            "colorscale": [
             [
              0,
              "#0d0887"
             ],
             [
              0.1111111111111111,
              "#46039f"
             ],
             [
              0.2222222222222222,
              "#7201a8"
             ],
             [
              0.3333333333333333,
              "#9c179e"
             ],
             [
              0.4444444444444444,
              "#bd3786"
             ],
             [
              0.5555555555555556,
              "#d8576b"
             ],
             [
              0.6666666666666666,
              "#ed7953"
             ],
             [
              0.7777777777777778,
              "#fb9f3a"
             ],
             [
              0.8888888888888888,
              "#fdca26"
             ],
             [
              1,
              "#f0f921"
             ]
            ],
            "type": "surface"
           }
          ],
          "table": [
           {
            "cells": {
             "fill": {
              "color": "#EBF0F8"
             },
             "line": {
              "color": "white"
             }
            },
            "header": {
             "fill": {
              "color": "#C8D4E3"
             },
             "line": {
              "color": "white"
             }
            },
            "type": "table"
           }
          ]
         },
         "layout": {
          "annotationdefaults": {
           "arrowcolor": "#2a3f5f",
           "arrowhead": 0,
           "arrowwidth": 1
          },
          "autotypenumbers": "strict",
          "coloraxis": {
           "colorbar": {
            "outlinewidth": 0,
            "ticks": ""
           }
          },
          "colorscale": {
           "diverging": [
            [
             0,
             "#8e0152"
            ],
            [
             0.1,
             "#c51b7d"
            ],
            [
             0.2,
             "#de77ae"
            ],
            [
             0.3,
             "#f1b6da"
            ],
            [
             0.4,
             "#fde0ef"
            ],
            [
             0.5,
             "#f7f7f7"
            ],
            [
             0.6,
             "#e6f5d0"
            ],
            [
             0.7,
             "#b8e186"
            ],
            [
             0.8,
             "#7fbc41"
            ],
            [
             0.9,
             "#4d9221"
            ],
            [
             1,
             "#276419"
            ]
           ],
           "sequential": [
            [
             0,
             "#0d0887"
            ],
            [
             0.1111111111111111,
             "#46039f"
            ],
            [
             0.2222222222222222,
             "#7201a8"
            ],
            [
             0.3333333333333333,
             "#9c179e"
            ],
            [
             0.4444444444444444,
             "#bd3786"
            ],
            [
             0.5555555555555556,
             "#d8576b"
            ],
            [
             0.6666666666666666,
             "#ed7953"
            ],
            [
             0.7777777777777778,
             "#fb9f3a"
            ],
            [
             0.8888888888888888,
             "#fdca26"
            ],
            [
             1,
             "#f0f921"
            ]
           ],
           "sequentialminus": [
            [
             0,
             "#0d0887"
            ],
            [
             0.1111111111111111,
             "#46039f"
            ],
            [
             0.2222222222222222,
             "#7201a8"
            ],
            [
             0.3333333333333333,
             "#9c179e"
            ],
            [
             0.4444444444444444,
             "#bd3786"
            ],
            [
             0.5555555555555556,
             "#d8576b"
            ],
            [
             0.6666666666666666,
             "#ed7953"
            ],
            [
             0.7777777777777778,
             "#fb9f3a"
            ],
            [
             0.8888888888888888,
             "#fdca26"
            ],
            [
             1,
             "#f0f921"
            ]
           ]
          },
          "colorway": [
           "#636efa",
           "#EF553B",
           "#00cc96",
           "#ab63fa",
           "#FFA15A",
           "#19d3f3",
           "#FF6692",
           "#B6E880",
           "#FF97FF",
           "#FECB52"
          ],
          "font": {
           "color": "#2a3f5f"
          },
          "geo": {
           "bgcolor": "white",
           "lakecolor": "white",
           "landcolor": "#E5ECF6",
           "showlakes": true,
           "showland": true,
           "subunitcolor": "white"
          },
          "hoverlabel": {
           "align": "left"
          },
          "hovermode": "closest",
          "mapbox": {
           "style": "light"
          },
          "paper_bgcolor": "white",
          "plot_bgcolor": "#E5ECF6",
          "polar": {
           "angularaxis": {
            "gridcolor": "white",
            "linecolor": "white",
            "ticks": ""
           },
           "bgcolor": "#E5ECF6",
           "radialaxis": {
            "gridcolor": "white",
            "linecolor": "white",
            "ticks": ""
           }
          },
          "scene": {
           "xaxis": {
            "backgroundcolor": "#E5ECF6",
            "gridcolor": "white",
            "gridwidth": 2,
            "linecolor": "white",
            "showbackground": true,
            "ticks": "",
            "zerolinecolor": "white"
           },
           "yaxis": {
            "backgroundcolor": "#E5ECF6",
            "gridcolor": "white",
            "gridwidth": 2,
            "linecolor": "white",
            "showbackground": true,
            "ticks": "",
            "zerolinecolor": "white"
           },
           "zaxis": {
            "backgroundcolor": "#E5ECF6",
            "gridcolor": "white",
            "gridwidth": 2,
            "linecolor": "white",
            "showbackground": true,
            "ticks": "",
            "zerolinecolor": "white"
           }
          },
          "shapedefaults": {
           "line": {
            "color": "#2a3f5f"
           }
          },
          "ternary": {
           "aaxis": {
            "gridcolor": "white",
            "linecolor": "white",
            "ticks": ""
           },
           "baxis": {
            "gridcolor": "white",
            "linecolor": "white",
            "ticks": ""
           },
           "bgcolor": "#E5ECF6",
           "caxis": {
            "gridcolor": "white",
            "linecolor": "white",
            "ticks": ""
           }
          },
          "title": {
           "x": 0.05
          },
          "xaxis": {
           "automargin": true,
           "gridcolor": "white",
           "linecolor": "white",
           "ticks": "",
           "title": {
            "standoff": 15
           },
           "zerolinecolor": "white",
           "zerolinewidth": 2
          },
          "yaxis": {
           "automargin": true,
           "gridcolor": "white",
           "linecolor": "white",
           "ticks": "",
           "title": {
            "standoff": 15
           },
           "zerolinecolor": "white",
           "zerolinewidth": 2
          }
         }
        },
        "title": {
         "text": "Logistic regression model confusion matrix"
        },
        "xaxis": {
         "anchor": "y",
         "constrain": "domain",
         "domain": [
          0,
          1
         ],
         "scaleanchor": "y",
         "title": {
          "text": "Predicted"
         }
        },
        "yaxis": {
         "anchor": "x",
         "autorange": "reversed",
         "constrain": "domain",
         "domain": [
          0,
          1
         ],
         "title": {
          "text": "Truth"
         }
        }
       }
      }
     },
     "metadata": {},
     "output_type": "display_data"
    }
   ],
   "source": [
    "y_pred = model.predict(X_test)\n",
    "cm = confusion_matrix(y_pred, y_test)\n",
    "px.imshow(cm, \n",
    "          title='Logistic regression model confusion matrix',\n",
    "          labels=dict(x='Predicted', y='Truth', color='Number'),\n",
    "          x=['Benign','Malign'],\n",
    "          y=['Benign','Malign'])"
   ]
  },
  {
   "cell_type": "code",
   "execution_count": null,
   "metadata": {},
   "outputs": [],
   "source": []
  },
  {
   "cell_type": "markdown",
   "metadata": {},
   "source": [
    "We see that, without tweaking much the hyperparameters, we get already a good confusion matriz and a good score."
   ]
  },
  {
   "cell_type": "code",
   "execution_count": null,
   "metadata": {},
   "outputs": [],
   "source": []
  }
 ],
 "metadata": {
  "kernelspec": {
   "display_name": "Python 3.10.4 ('ds')",
   "language": "python",
   "name": "python3"
  },
  "language_info": {
   "codemirror_mode": {
    "name": "ipython",
    "version": 3
   },
   "file_extension": ".py",
   "mimetype": "text/x-python",
   "name": "python",
   "nbconvert_exporter": "python",
   "pygments_lexer": "ipython3",
   "version": "3.10.4"
  },
  "orig_nbformat": 4,
  "vscode": {
   "interpreter": {
    "hash": "51fb76d8006b5ab0e0c4fcd365bc9e8f1c8f496fafcc4f75d4d513b2517b500d"
   }
  }
 },
 "nbformat": 4,
 "nbformat_minor": 2
}
