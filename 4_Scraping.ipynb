{
 "cells": [
  {
   "cell_type": "markdown",
   "id": "2c4d72ed-eeef-4064-b7bb-d5989eace0db",
   "metadata": {},
   "source": [
    "# Web Scraping with Beatiful Soup\n",
    "## An introduction\n",
    "\n",
    "Beatiful Soup (in its latest version, BS4) is a well known and wide used Python library, very useful to scrape data from websites. Although there are more advanced tools, BS4 is still one of the first choices among data analysts when they need to gather information. \n",
    "\n",
    "I won't bore you with more text that you can find anywhere in the internet, so let's go with the explanation. If you wanna follow along, you'll need to install the `requests` library, and (obviously) BeatifulSoup. We can make the example a bit more real by using `pandas` at the end, so we can see where would be normally go once we scraped some data. You can do that from the command line or terminal:\n",
    "\n",
    "```\n",
    "pip install requests\n",
    "pip install beatifulsoup4\n",
    "pip install pandas\n",
    "```"
   ]
  },
  {
   "cell_type": "markdown",
   "id": "a638b5c8-c6c2-4a3d-aaa4-dd3ef5519518",
   "metadata": {},
   "source": [
    "### Importing libraries\n",
    "We need to import the `requests` library to actually get the html document from the Internet, as BS4 is just a parser (like a translator) that will structure the data for us. Spoiler alert: We will need also to import `NoneType`, it will come handy to handle missing data. And datetime, just in case."
   ]
  },
  {
   "cell_type": "code",
   "execution_count": null,
   "id": "96e7b362-f04f-4732-871c-f9a19e06d173",
   "metadata": {},
   "outputs": [],
   "source": [
    "import requests\n",
    "import pandas as pd\n",
    "from bs4 import BeautifulSoup\n",
    "from types import NoneType\n",
    "from datetime import datetime"
   ]
  },
  {
   "cell_type": "markdown",
   "id": "55bde8a9",
   "metadata": {},
   "source": [
    "### A bit of previous thinking\n",
    "\n",
    "~~Normally~~ Ideally, before starting any project, we should sit down and think a bit how will we structure the code: What functionality do I need? How will I write the code? How can I make the code reusable? Those are questions worth asking, they will save a lot of time (and headaches) in the future. Fortunately for you, I've already done that. I'll roughly explain what every section does, and we'll go in detail below. \n",
    "\n",
    "We will divide the code in different methods, so we can reuse parts of them. Another advantage is that the code will be more readable, something that our colleagues (or ourselves in the future) will thank.\n",
    "\n",
    "So, let's think what things do we want to do with the code, from the more generic to the more specific:\n",
    "- Ultimately, we want to retrieve a list of jackets, with their prices and other characteristics:\n",
    "  \n",
    "    ```python\n",
    "    def get_jackets():\n",
    "        pass\n",
    "    ```\n",
    "- For that, we need to gather from the website all the html elements (also called tags) that contain that information:\n",
    "  \n",
    "    ```python\n",
    "    def get_jacket_tags():\n",
    "        pass\n",
    "    ```\n",
    "- The method above will take a url and use Beatiful Soup to find all the tags we need. But for that we need a parsed html:\n",
    "\n",
    "    ```python\n",
    "    def get_parsed_html(url):\n",
    "        pass\n",
    "    ```\n",
    "- Once we have the tags, we will have to process them, saving all the information in useful and efficient way. A python dictionary will do.\n",
    "  \n",
    "    ```python\n",
    "    def tag_to_dict_jacket(node):\n",
    "        pass\n",
    "    ```\n",
    "And that's all! That's all we need to make our study. Let's jump to it, then. Now, we're gonna go from more specific to more general. Kinda walking backwards. Like a crab."
   ]
  },
  {
   "cell_type": "markdown",
   "id": "4fa4d22e",
   "metadata": {},
   "source": [
    "### Method `get_parsed_html`\n",
    "This one is short, it takes a url as a parameter, and returns the parsed html. Beatiful Soup does that for us.\n"
   ]
  },
  {
   "cell_type": "code",
   "execution_count": null,
   "id": "2eb34e93",
   "metadata": {},
   "outputs": [],
   "source": [
    "def get_parsed_html(url):\n",
    "    page = requests.get(url)\n",
    "    return BeautifulSoup(page.content, 'html.parser')"
   ]
  },
  {
   "cell_type": "markdown",
   "id": "27fa523b",
   "metadata": {},
   "source": [
    "### Method `get_jacket_tags`\n",
    "Here is when things start to get interesting.\n",
    "\n",
    "First we have to choose something to study. In this example, we're gonna look at the prices and other information of different mountain gear jackets from [Oliunid](https://www.oliunid.com). We write two variables where we save the urls from which we're gonna gather the information. Because the site has many jackets saved in different pages, we need the second url to iterate through them. We're gonna use that later, for now, let's save the parsed html in a variable.\n",
    "```python\n",
    "    first_page = \"https://www.oliunid.com/clothing-for-climbing/men-s-climbing-clothing/men-s-climbing-jackets.html\"\n",
    "    other_pages = \"https://www.oliunid.com/clothing-for-climbing/men-s-climbing-clothing/men-s-climbing-jackets.html?p={}\"\n",
    "    html = get_parsed_html(first_page)\n",
    "```\n",
    "\n",
    "#### The magic happens: `find_all`\n",
    "The parsed html that BS4 has provided us comes with a bunch of handy methods. One of the most comonly used is `find_all` [(read the docs)](https://beautiful-soup-4.readthedocs.io/en/latest/#find-all). With this function, we cand find all the tags in a html document that match a certain selection, and we can use the tag's attributes to specify our search.\n",
    "\n",
    "And now the important part. How do I know where is the information of the jackets? Very easy, right click on one of the jackets and then click in 'Inspect' (or Inspeccionar in spanish).\n",
    "\n",
    "<img src='./images/inspect.png' width=25% height=25% \n",
    "    style=\"display: block; \n",
    "           border-radius: 20px;\n",
    "           margin-left: auto;\n",
    "           margin-right: auto;\">\n",
    "\n",
    "A tab opens, normally to the right. There we can see the html file of that webpage, with all the tags, attributes and information. Hovering the mouse over the tags will highlight the element in the webpage, so we can identify what do we need. In this case we need the a `div` tag with a `class` attribute with value \"product details product-item-details\".\n",
    "\n",
    "<img src='./images/mouse-hover.png' width=65% height=65%\n",
    "    style=\"display: block; \n",
    "           border-radius: 20px;\n",
    "           margin-left: auto;\n",
    "           margin-right: auto;\">\n",
    "\n",
    "Now, the only thing left is use the `find_all` function:\n",
    "\n",
    "```python\n",
    "    jacket_tags = html.find_all('div', {'class' : 'product details product-item-details'})\n",
    "```\n",
    "\n",
    "#### How many pages?\n",
    "Once we have the jackets from the first page, now we want to iterate through the rest of the pages and do the same. But, how many pages do we have? When exploring the site, we can see that, for example, there are 3 pages. But that might change in the future, when we actually run all the code. The best way to do this is to actually extract that information from the website. At the bottom, we can see a text saying \"Page 1 of 3\". We already know how to see the html element that corresponds to this text. If we inspect the element, we can see that this text is in a `span` tag that's inside a `li` tag with a class attribute with value 'item summary'. We say that `span` is a *child* of `li`.\n",
    "\n",
    "<img src='./images/pages.png' width=65% height=65%\n",
    "    style=\"display: block; \n",
    "           border-radius: 20px;\n",
    "           margin-left: auto;\n",
    "           margin-right: auto;\">\n",
    "\n",
    "Now we want only one tag. The method `find` does exactly the same as find_all: it goes through all the document and returns the first occurence of what we're looking for. The following line is almost the same as the one where we described `find_all`. The only difference is that we're accesing the child of the returned tag with the syntax `.[child]`.\n",
    "\n",
    "```python\n",
    "    summary = html.find('li', {'class': 'item summary'}).span\n",
    "```\n",
    "\n",
    "But if we see what's in this variable, we see the whole tag: \n",
    "\n",
    "```html\n",
    "    <span>Page 1 of 3</span>\n",
    "```\n",
    "We only need the content of the tag. We can do this simply writing `summary.string`. After that, we take only the last character (the total number of pages) and cast it to an integer to use it in a for loop later.\n",
    "\n",
    "```python\n",
    "    pages = int(summary.string[-1])\n",
    "```\n",
    "\n",
    "#### Extending the list of jacktes.\n",
    "\n",
    "This one is easy. If we make a call to `type(jacket_tags)` we'll see that it is an instance of `bs4.element.ResultSet`. This is a BS4 class that inherits from `list`, we can use the `extend` method to add the jackets from the other pages, now that we know how many pages do we have. We wrap it in a for loop:\n",
    "\n",
    "```python\n",
    "for i in range(2,pages):\n",
    "        html = get_parsed_html(other_pages.format(i))\n",
    "        jacket_tags.extend(\n",
    "            html.find_all(\n",
    "                'div', \n",
    "                {'class' : 'product details product-item-details'}\n",
    "            )\n",
    "        )\n",
    "```\n",
    "\n",
    "Buff, finally... The whole method ends up like this:"
   ]
  },
  {
   "cell_type": "code",
   "execution_count": null,
   "id": "4cac203e-aa84-49f3-8fd5-6223156103bb",
   "metadata": {},
   "outputs": [],
   "source": [
    "def get_jacket_tags():\n",
    "    first_page = \"https://www.oliunid.com/clothing-for-climbing/men-s-climbing-clothing/men-s-climbing-jackets.html\"\n",
    "    other_pages = \"https://www.oliunid.com/clothing-for-climbing/men-s-climbing-clothing/men-s-climbing-jackets.html?p={}\"\n",
    "    html = get_parsed_html(first_page)\n",
    "    jacket_tags = html.find_all('div', {'class' : 'product details product-item-details'})\n",
    "    pages = int(html.find('li', {'class': 'item summary'}).span.string[-1])\n",
    "    for i in range(2,pages):\n",
    "        html = get_parsed_html(other_pages.format(i))\n",
    "        jacket_tags.extend(\n",
    "            html.find_all(\n",
    "                'div', \n",
    "                {'class' : 'product details product-item-details'}\n",
    "            )\n",
    "        )\n",
    "    return jacket_tags\n"
   ]
  },
  {
   "cell_type": "markdown",
   "id": "bfaa8229",
   "metadata": {},
   "source": [
    "### Method `tag_to_dict_jacket`\n",
    "Ok, some would say that the scraping part is over. We already have the information of all the jackets, right? But we have it in a very (*very*) unconvenient format, needless to say that we also have a lot of information that we don't need at all. Let's see what's in one of the jacket tags:\n",
    "```python\n",
    "    print(jacket_tags[0].prettify())\n",
    "```\n",
    "```html\n",
    "<div class=\"product details product-item-details\">\n",
    "    <div class=\"product name product-item-name\">\n",
    "        <a class=\"product-item-link\"\n",
    "            href=\"https://www.oliunid.com/bd-black-diamond-alpine-start-hoody-giacca-uomo.html\">\n",
    "            BD Black Diamond Alpine Start Hoody men's jacket\n",
    "        </a>\n",
    "    </div>\n",
    "    <div class=\"price-box price-final_price\" data-price-box=\"product-id-57696\" data-product-id=\"57696\"\n",
    "        data-role=\"priceBox\"> \n",
    "        <span class=\"normal-price\">\n",
    "             <span class=\"price-container price-final_price tax weee\">\n",
    "                <span class=\"price-label\">As low as</span>\n",
    "                <span class=\"price-wrapper\" data-price-amount=\"98.78\"\n",
    "                    data-price-type=\"finalPrice\" id=\"product-price-57696\">\n",
    "                    <span class=\"price\">$98.78</span>\n",
    "                </span>\n",
    "            </span>\n",
    "        </span> \n",
    "        <span class=\"old-price sly-old-price\">\n",
    "            <span class=\"price-container price-final_price tax weee\"> \n",
    "                <span class=\"price-label\">Regular Price</span> \n",
    "                <span class=\"price-wrapper\" data-price-amount=\"131.82\" data-price-type=\"oldPrice\"\n",
    "                    id=\"old-price-57696\">\n",
    "                    <span class=\"price\">$131.82</span>\n",
    "                </span> \n",
    "            </span>\n",
    "        </span> \n",
    "    </div>\n",
    "    <div class=\"product-item-category\">Shell Jackets</div>\n",
    "    <div class=\"swatch-opt-57696\" data-role=\"swatch-option-57696\"></div>\n",
    "    <div class=\"swatch-mobile-counter\" data-role=\"swatch-mobile-57696\"></div>\n",
    "</div>\n",
    "```\n",
    "\n",
    "Oops, those are a lot of things. If we pass the information in this format to a colleague, we might get fired (or murdered). One way to save all the information is in a dictionary. From that point it's easy to do almost whatever we want with it. We can save it in a json file, or we can create a pandas `DataFrame` to analyze the data.\n",
    "\n",
    "```python\n",
    "    jackets = {}\n",
    "```\n",
    "\n",
    "First, we have to decide what information do we wanna keep in the dictionary. Reading a bit the html element where we have all the data we see some things that might be interesting to keep:\n",
    "- Brand and model, under `<a class=\"product-item-link'>`\n",
    "- Link to the jacket, also under`<a class=\"product-item-link'>`, but in the attribute `href`\n",
    "- Price, under `<span data-price-type=\"finalPrice\">`\n",
    "- We might want to save also the old price, `<span data-price-type=\"oldPrice\">`\n",
    "- Category, `<div class=\"product-item-category\">`\n",
    "\n",
    "After we've identified all the tags and the attributes that interest us, we use the `find` method to get the html elements. Nothing new here:\n",
    "```python\n",
    "    link = node.find('a', class_='product-item-link')\n",
    "    old_price = node.find('span', {'data-price-type':'oldPrice'})\n",
    "    price = node.find('span', {'data-price-type':'finalPrice'})\n",
    "    category = node.find('div', class_='product-item-category')\n",
    "```\n",
    "\n",
    "Now, let's extract the information from those tags. Normally we will only need to call the `.string` attribute of the node. The exception in our case is the actual link to the jacket page, which it's not *in* the `a` tag, but defined in its `href` attribute. We can access to an attribute's content with the syntax `node[attribute_name]`.\n",
    "\n",
    "Another thing that we have to do is process the price. We will want to do some calculations, so let's keep only the numerical part of the string and cast it to a float value. Actually, let's also save the currency. And, now that we're here, let's also save the date when we're doing the scraping. It can be interesting if we want to run the scraper once a month, for example. By saving the date, we will be able to study how the the prices vary over time. \n",
    "\n",
    "```python\n",
    "    jacket['brand'] = link.string\n",
    "    jacket['link'] = link['href']\n",
    "    jacket['currency'] = old_price.string[0]\n",
    "    jacket['old_price'] = float(old_price.string[1:])\n",
    "    jacket['price'] = float(price.string[1:])\n",
    "    jacket['category'] = category.string\n",
    "    jacket['date'] = datetime.now()\n",
    "```\n",
    "\n",
    "This is the final method. We have separated some of the logic in another one, just to make it more pretty.\n"
   ]
  },
  {
   "cell_type": "code",
   "execution_count": null,
   "id": "1e15885a",
   "metadata": {},
   "outputs": [],
   "source": [
    "def get_information_tags(jacket_tag):\n",
    "    link = jacket_tag.find('a', {'class': 'product-item-link'})\n",
    "    old_price = jacket_tag.find('span', {'data-price-type':'oldPrice'})\n",
    "    price = jacket_tag.find('span', {'data-price-type':'finalPrice'})\n",
    "    category = jacket_tag.find('div', {'class': 'product-item-category'})\n",
    "    return link, old_price, price, category\n",
    "\n",
    "def tag_to_dict_jacket(jacket_tag):\n",
    "    jacket = {} # Creates the dictionary\n",
    "    link, old_price, price, category = get_information_tags(jacket_tag)\n",
    "    jacket['brand'] = link.string\n",
    "    jacket['link'] = link['href']\n",
    "    jacket['currency'] = old_price.string[0]\n",
    "    jacket['old_price'] = float(old_price.string[1:])\n",
    "    jacket['price'] = float(price.string[1:])\n",
    "    jacket['category'] = category.string\n",
    "    jacket['date'] = datetime.now()\n",
    "    return jacket"
   ]
  },
  {
   "cell_type": "markdown",
   "id": "ef1b1ce0",
   "metadata": {},
   "source": [
    "### Method `get_jackets`\n",
    "This is our final method, very easy. We just get all the jacket tags, convert them to a dictionary, and add them to a list. "
   ]
  },
  {
   "cell_type": "code",
   "execution_count": null,
   "id": "4396771d-6976-4241-a808-8ef2f5aaef67",
   "metadata": {},
   "outputs": [],
   "source": [
    "def get_jackets():\n",
    "    tags = get_jacket_tags()\n",
    "    return [tag_to_dict_jacket(tag) for tag in tags]"
   ]
  },
  {
   "cell_type": "markdown",
   "id": "4d75adbc",
   "metadata": {},
   "source": [
    "### Handling errors\n",
    "Let's run the code and see what do we get."
   ]
  },
  {
   "cell_type": "code",
   "execution_count": null,
   "id": "da7dcff2-0fe3-4583-9cf5-ac1aad1ff671",
   "metadata": {},
   "outputs": [],
   "source": [
    "jackets = get_jackets()\n",
    "jackets"
   ]
  },
  {
   "cell_type": "markdown",
   "id": "b9afc743",
   "metadata": {},
   "source": [
    "```python \n",
    "---------------------------------------------------------------------------\n",
    "AttributeError                            Traceback (most recent call last)\n",
    "/Users/wildbass/Documents/DataScience/react-ds-web-scrapping-Bass2015/nbs/4_Scraping.ipynb Celda 14 in <cell line: 1>()\n",
    "----> 1 jackets = get_jackets()\n",
    "      2 jackets\n",
    "\n",
    "/Users/wildbass/Documents/DataScience/react-ds-web-scrapping-Bass2015/nbs/4_Scraping.ipynb Celda 14 in get_jackets()\n",
    "      1 def get_jackets():\n",
    "      2     tags = get_jacket_tags()\n",
    "----> 3     return [tag_to_dict_jacket(tag) for tag in tags]\n",
    "\n",
    "/Users/wildbass/Documents/DataScience/react-ds-web-scrapping-Bass2015/nbs/4_Scraping.ipynb Celda 14 in <listcomp>(.0)\n",
    "      1 def get_jackets():\n",
    "      2     tags = get_jacket_tags()\n",
    "----> 3     return [tag_to_dict_jacket(tag) for tag in tags]\n",
    "\n",
    "/Users/wildbass/Documents/DataScience/react-ds-web-scrapping-Bass2015/nbs/4_Scraping.ipynb Celda 14 in tag_to_dict_jacket(jacket_tag)\n",
    "     11 jacket['brand'] = link.string\n",
    "     12 jacket['link'] = link['href']\n",
    "---> 13 jacket['currency'] = old_price.string[0]\n",
    "     14 jacket['old_price'] = float(old_price.string[1:])\n",
    "     15 jacket['price'] = float(price.string[1:])\n",
    "     16 jacket['date'] = datetime.now()\n",
    "\n",
    "AttributeError: 'NoneType' object has no attribute 'string'\n",
    "```"
   ]
  },
  {
   "cell_type": "markdown",
   "id": "26c6716f",
   "metadata": {},
   "source": [
    "Oh, no! We get an error! Reading through the error prompt we see that `old_price` is a `NoneType` object. That's because the `find` method returns None when it doesn't find what we're looking for, and we haven't add anything to the code to handle this error. Let's be conservative, and asume that any of the tags that we want could be missing. There are some elegant ways to handle this errors (see [try except syntax](https://docs.python.org/3/tutorial/errors.html) in Python), but let's just do it fast and dirty. We will add an if statement to see if we have a NoneType and, in that case, we'll asign a `None` to that position in the dictionary. Later we can use pandas to handle those nones.\n",
    "\n",
    "Let's rewrite then the `tag_to_dict_jacket` method (I know, it's dirty. And ugly. And unefficient. But let's keep moving): "
   ]
  },
  {
   "cell_type": "code",
   "execution_count": null,
   "id": "65e5359a-977d-4272-9406-caec8c17fbb9",
   "metadata": {},
   "outputs": [],
   "source": [
    "def tag_to_dict_jacket(jacket_tag):\n",
    "    jacket = {} # Creates the dictionary\n",
    "    link, old_price, price, category = get_information_tags(jacket_tag)\n",
    "    jacket['brand'] = link.string if not isinstance(link, NoneType) else None\n",
    "    jacket['link'] = link['href'] if not isinstance(link, NoneType) else None\n",
    "    jacket['currency'] = old_price.string[0] if not isinstance(old_price, NoneType) else None\n",
    "    jacket['old_price'] = float(old_price.string[1:]) if not isinstance(old_price, NoneType) else None\n",
    "    jacket['price'] = float(price.string[1:]) if not isinstance(price, NoneType) else None\n",
    "    jacket['category'] = category.string if not isinstance(category, NoneType) else None\n",
    "    jacket['date'] = datetime.now()\n",
    "    return jacket"
   ]
  },
  {
   "cell_type": "markdown",
   "id": "0ea21538",
   "metadata": {},
   "source": [
    "Ok, let's try again now:"
   ]
  },
  {
   "cell_type": "code",
   "execution_count": null,
   "id": "a83e1bf8",
   "metadata": {},
   "outputs": [],
   "source": [
    "jackets = get_jackets()\n",
    "jackets"
   ]
  },
  {
   "cell_type": "markdown",
   "id": "71bd093d",
   "metadata": {},
   "source": [
    "Success! We now have a list of beatiful dictionaries that we got with Beautiful Soup\n",
    "\n",
    "### Where to go from here?\n",
    "Now that we have gathered all the data, there are many possibilities. We can save the dictionary as a json file to process it later, for example. If we run the code periodically, we can extend that file with new data, and make new studies with the time variable. With this json (or directly from the dictionary) we can create a pandas DataFrame to start studying and cleaning the data. \n",
    "\n",
    "Actually, let's see how this would look."
   ]
  },
  {
   "cell_type": "code",
   "execution_count": null,
   "id": "3e4f29ee",
   "metadata": {},
   "outputs": [],
   "source": [
    "df = pd.DataFrame(jackets)\n",
    "df.head()"
   ]
  },
  {
   "cell_type": "markdown",
   "id": "63b6ecf9",
   "metadata": {},
   "source": [
    "Well, here we see one of our \"`None`s\", among other things (like the third jacket having a price of $0, what a deal!). We could keep investigating the dataframe now, to see if the only missing values are the old price values. In that case, we could retweak the code to save the currency from the final price instead, and maybe we could asign the final price to the old price as well (having no discount). We could also process the currency (pass the symbol to USD), and separate the brand in two fields (brand and model). If we do all those things while we are saving the info, our data will be much cleaner, thus much easier to handle. \n",
    "\n",
    "But that's data cleansing, another topic for another tutorial.\n",
    "\n",
    "Have fun scraping!"
   ]
  }
 ],
 "metadata": {
  "kernelspec": {
   "display_name": "Python 3.10.4 ('ds')",
   "language": "python",
   "name": "python3"
  },
  "language_info": {
   "codemirror_mode": {
    "name": "ipython",
    "version": 3
   },
   "file_extension": ".py",
   "mimetype": "text/x-python",
   "name": "python",
   "nbconvert_exporter": "python",
   "pygments_lexer": "ipython3",
   "version": "3.10.4"
  },
  "vscode": {
   "interpreter": {
    "hash": "51fb76d8006b5ab0e0c4fcd365bc9e8f1c8f496fafcc4f75d4d513b2517b500d"
   }
  }
 },
 "nbformat": 4,
 "nbformat_minor": 5
}
